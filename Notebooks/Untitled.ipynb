{
 "cells": [
  {
   "cell_type": "code",
   "execution_count": 9,
   "id": "d0ab0072",
   "metadata": {},
   "outputs": [],
   "source": [
    "import requests\n",
    "from bs4 import BeautifulSoup\n",
    "import pandas as pd"
   ]
  },
  {
   "cell_type": "code",
   "execution_count": 10,
   "id": "8c41467c",
   "metadata": {},
   "outputs": [],
   "source": [
    "# Etsy shop URL\n",
    "url = 'https://www.etsy.com/shop/MisterCrafter/reviews'\n",
    "\n",
    "# Date range to filter reviews (change these values as needed)\n",
    "start_date = '2019-01-01'\n",
    "end_date = '2023-12-31'\n",
    "\n",
    "# Make a GET request to the shop reviews page\n",
    "response = requests.get(url)\n",
    "\n",
    "# Create a BeautifulSoup object from the response content\n",
    "soup = BeautifulSoup(response.content, 'html.parser')\n",
    "\n",
    "# Find all review elements on the page\n",
    "reviews = soup.find_all('div', class_='review')\n",
    "\n",
    "# Create an empty list to hold the review data\n",
    "review_data = []"
   ]
  },
  {
   "cell_type": "code",
   "execution_count": null,
   "id": "c5d73001",
   "metadata": {},
   "outputs": [],
   "source": [
    "print(response)"
   ]
  },
  {
   "cell_type": "code",
   "execution_count": 11,
   "id": "8b9825c8",
   "metadata": {},
   "outputs": [],
   "source": [
    "# Loop through each review element and extract the order details\n",
    "for review in reviews:\n",
    "    # Find the review date, order number, and buyer name\n",
    "    review_date = review.find('p', class_='review-date').text.strip()\n",
    "    order_number = review.find('p', class_='order-id').text.strip()\n",
    "    buyer_name = review.find('p', class_='buyer-name').text.strip()\n",
    "    \n",
    "    # Find the product name, seller response, and review text (if available)\n",
    "    product_name = review.find('p', class_='product-title').text.strip()\n",
    "    seller_response = review.find('div', class_='seller-reply').text.strip()\n",
    "    review_text = review.find('p', class_='review-text').text.strip() if review.find('p', class_='review-text') else ''\n",
    "    \n",
    "    # Find the star rating and convert it to a numerical value\n",
    "    star_rating = review.find('div', class_='star-rating')['aria-label']\n",
    "    star_rating = int(star_rating.split(' ')[0])\n",
    "    \n",
    "    # Check if the review date is within the specified date range\n",
    "    if start_date <= review_date <= end_date:\n",
    "        # Add the review data to the list\n",
    "        review_data.append({\n",
    "            'Review Date': review_date,\n",
    "            'Order Number': order_number,\n",
    "            'Buyer Name': buyer_name,\n",
    "            'Product Name': product_name,\n",
    "            'Seller Response': seller_response,\n",
    "            'Review Text': review_text,\n",
    "            'Star Rating': star_rating\n",
    "        })"
   ]
  },
  {
   "cell_type": "code",
   "execution_count": 12,
   "id": "0cc07ec5",
   "metadata": {},
   "outputs": [],
   "source": [
    "# Create a pandas DataFrame from the review data\n",
    "df = pd.DataFrame(review_data)\n",
    "\n",
    "# Save the DataFrame to an Excel file\n",
    "df.to_excel('etsy_reviews.xlsx', index=False)"
   ]
  }
 ],
 "metadata": {
  "kernelspec": {
   "display_name": "Python 3 (ipykernel)",
   "language": "python",
   "name": "python3"
  },
  "language_info": {
   "codemirror_mode": {
    "name": "ipython",
    "version": 3
   },
   "file_extension": ".py",
   "mimetype": "text/x-python",
   "name": "python",
   "nbconvert_exporter": "python",
   "pygments_lexer": "ipython3",
   "version": "3.9.12"
  }
 },
 "nbformat": 4,
 "nbformat_minor": 5
}
