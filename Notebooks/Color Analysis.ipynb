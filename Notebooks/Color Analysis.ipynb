{
 "cells": [
  {
   "cell_type": "code",
   "execution_count": 70,
   "id": "6d918991",
   "metadata": {},
   "outputs": [],
   "source": [
    "import pandas as pd\n",
    "import numpy as np\n",
    "import matplotlib.pyplot as plt"
   ]
  },
  {
   "cell_type": "code",
   "execution_count": 71,
   "id": "c7e56d79",
   "metadata": {},
   "outputs": [],
   "source": [
    "df = pd.read_csv(\"EtsySoldOrderItems2020-2021-2022.csv\")"
   ]
  },
  {
   "cell_type": "code",
   "execution_count": 72,
   "id": "b34d9a3a",
   "metadata": {},
   "outputs": [],
   "source": [
    "color_map = {\"Brown\":1,\"Gray\":2,\"Black\":3,\"Navy Blue\":4,\"Blue\":5,\"Yellow\":6,\"Red\":7,\"Pink\":8,\n",
    "            \"Multicolered\":9,\"Green\":10,\"Beige\":11,\"Purple\":12,\"Leopar\":13,\"Multicolored\":9,\n",
    "            \"Grey\":2,\"Multicolor\":9,\"Rose Gold\":14,\"Rainbow\":15,\"White\":16,\"No-Color\":0}"
   ]
  },
  {
   "cell_type": "code",
   "execution_count": 73,
   "id": "c7ebfb97",
   "metadata": {},
   "outputs": [],
   "source": [
    "reversed_dict = {value: key for key, value in color_map.items()}"
   ]
  },
  {
   "cell_type": "code",
   "execution_count": 74,
   "id": "4f0ccedd",
   "metadata": {},
   "outputs": [],
   "source": [
    "def map_color(item):\n",
    "    x = False\n",
    "    for color, number in reversed_dict.items():\n",
    "        if color == item:\n",
    "            x= True\n",
    "            return number\n",
    "    if x == False:\n",
    "        return \n",
    "df[\"Color\"] = df[\"Color\"].apply(map_color)"
   ]
  },
  {
   "cell_type": "code",
   "execution_count": 75,
   "id": "90ada192",
   "metadata": {},
   "outputs": [
    {
     "data": {
      "text/html": [
       "<div>\n",
       "<style scoped>\n",
       "    .dataframe tbody tr th:only-of-type {\n",
       "        vertical-align: middle;\n",
       "    }\n",
       "\n",
       "    .dataframe tbody tr th {\n",
       "        vertical-align: top;\n",
       "    }\n",
       "\n",
       "    .dataframe thead th {\n",
       "        text-align: right;\n",
       "    }\n",
       "</style>\n",
       "<table border=\"1\" class=\"dataframe\">\n",
       "  <thead>\n",
       "    <tr style=\"text-align: right;\">\n",
       "      <th></th>\n",
       "      <th>Item Model</th>\n",
       "      <th>Quantity</th>\n",
       "      <th>Price</th>\n",
       "      <th>Coupon Code</th>\n",
       "      <th>Discount Amount</th>\n",
       "      <th>Ship Country</th>\n",
       "      <th>Season</th>\n",
       "      <th>Color</th>\n",
       "    </tr>\n",
       "  </thead>\n",
       "  <tbody>\n",
       "    <tr>\n",
       "      <th>0</th>\n",
       "      <td>4</td>\n",
       "      <td>1</td>\n",
       "      <td>44.67</td>\n",
       "      <td>1.0</td>\n",
       "      <td>11.17</td>\n",
       "      <td>1</td>\n",
       "      <td>0</td>\n",
       "      <td>Grey</td>\n",
       "    </tr>\n",
       "    <tr>\n",
       "      <th>1</th>\n",
       "      <td>1</td>\n",
       "      <td>1</td>\n",
       "      <td>52.00</td>\n",
       "      <td>1.0</td>\n",
       "      <td>13.00</td>\n",
       "      <td>1</td>\n",
       "      <td>0</td>\n",
       "      <td>Brown</td>\n",
       "    </tr>\n",
       "    <tr>\n",
       "      <th>2</th>\n",
       "      <td>5</td>\n",
       "      <td>1</td>\n",
       "      <td>55.33</td>\n",
       "      <td>1.0</td>\n",
       "      <td>13.83</td>\n",
       "      <td>1</td>\n",
       "      <td>0</td>\n",
       "      <td>Brown</td>\n",
       "    </tr>\n",
       "    <tr>\n",
       "      <th>3</th>\n",
       "      <td>1</td>\n",
       "      <td>1</td>\n",
       "      <td>62.00</td>\n",
       "      <td>1.0</td>\n",
       "      <td>15.50</td>\n",
       "      <td>1</td>\n",
       "      <td>0</td>\n",
       "      <td>Brown</td>\n",
       "    </tr>\n",
       "    <tr>\n",
       "      <th>4</th>\n",
       "      <td>7</td>\n",
       "      <td>1</td>\n",
       "      <td>53.00</td>\n",
       "      <td>1.0</td>\n",
       "      <td>13.25</td>\n",
       "      <td>1</td>\n",
       "      <td>0</td>\n",
       "      <td>No-Color</td>\n",
       "    </tr>\n",
       "  </tbody>\n",
       "</table>\n",
       "</div>"
      ],
      "text/plain": [
       "   Item Model  Quantity  Price  Coupon Code  Discount Amount  Ship Country  \\\n",
       "0           4         1  44.67          1.0            11.17             1   \n",
       "1           1         1  52.00          1.0            13.00             1   \n",
       "2           5         1  55.33          1.0            13.83             1   \n",
       "3           1         1  62.00          1.0            15.50             1   \n",
       "4           7         1  53.00          1.0            13.25             1   \n",
       "\n",
       "   Season     Color  \n",
       "0       0      Grey  \n",
       "1       0     Brown  \n",
       "2       0     Brown  \n",
       "3       0     Brown  \n",
       "4       0  No-Color  "
      ]
     },
     "execution_count": 75,
     "metadata": {},
     "output_type": "execute_result"
    }
   ],
   "source": [
    "df.head()"
   ]
  },
  {
   "cell_type": "code",
   "execution_count": 76,
   "id": "4301ee65",
   "metadata": {},
   "outputs": [],
   "source": [
    "watch_band = df[df[\"Item Model\"] == 7]"
   ]
  },
  {
   "cell_type": "code",
   "execution_count": 77,
   "id": "3c402f06",
   "metadata": {},
   "outputs": [],
   "source": [
    "colors = watch_band[\"Color\"]"
   ]
  },
  {
   "cell_type": "code",
   "execution_count": 78,
   "id": "e6aca92a",
   "metadata": {},
   "outputs": [],
   "source": [
    "color_percentages = colors.value_counts(normalize=True) * 100"
   ]
  },
  {
   "cell_type": "code",
   "execution_count": 79,
   "id": "f3c1e174",
   "metadata": {},
   "outputs": [
    {
     "data": {
      "image/png": "[encoded data removed]",
      "text/plain": [
       "<Figure size 432x288 with 1 Axes>"
      ]
     },
     "metadata": {
      "needs_background": "light"
     },
     "output_type": "display_data"
    }
   ],
   "source": [
    "color_percentages.plot(kind='bar')\n",
    "plt.title(\"Color Percentages for Watch Band\")\n",
    "plt.xlabel(\"Color\")\n",
    "plt.ylabel(\"Percentage (%)\")\n",
    "plt.show()"
   ]
  },
  {
   "cell_type": "code",
   "execution_count": 80,
   "id": "4b99734a",
   "metadata": {},
   "outputs": [
    {
     "name": "stderr",
     "output_type": "stream",
     "text": [
      "C:\\Users\\Hp\\AppData\\Local\\Temp\\ipykernel_7852\\847824140.py:1: SettingWithCopyWarning: \n",
      "A value is trying to be set on a copy of a slice from a DataFrame\n",
      "\n",
      "See the caveats in the documentation: https://pandas.pydata.org/pandas-docs/stable/user_guide/indexing.html#returning-a-view-versus-a-copy\n",
      "  watch_band.drop(columns=[\"Item Model\",\"Quantity\",\"Price\",\"Coupon Code\",\"Discount Amount\"],inplace= True)\n"
     ]
    }
   ],
   "source": [
    "watch_band.drop(columns=[\"Item Model\",\"Quantity\",\"Price\",\"Coupon Code\",\"Discount Amount\"],inplace= True) "
   ]
  },
  {
   "cell_type": "code",
   "execution_count": 81,
   "id": "4e4dbd30",
   "metadata": {},
   "outputs": [],
   "source": [
    "dummy_color = pd.get_dummies(watch_band, columns=[\"Color\"],prefix=\"\",prefix_sep =\"\")"
   ]
  },
  {
   "cell_type": "code",
   "execution_count": 82,
   "id": "21e663dc",
   "metadata": {},
   "outputs": [
    {
     "data": {
      "text/html": [
       "<div>\n",
       "<style scoped>\n",
       "    .dataframe tbody tr th:only-of-type {\n",
       "        vertical-align: middle;\n",
       "    }\n",
       "\n",
       "    .dataframe tbody tr th {\n",
       "        vertical-align: top;\n",
       "    }\n",
       "\n",
       "    .dataframe thead th {\n",
       "        text-align: right;\n",
       "    }\n",
       "</style>\n",
       "<table border=\"1\" class=\"dataframe\">\n",
       "  <thead>\n",
       "    <tr style=\"text-align: right;\">\n",
       "      <th></th>\n",
       "      <th>Ship Country</th>\n",
       "      <th>Season</th>\n",
       "      <th>Beige</th>\n",
       "      <th>Black</th>\n",
       "      <th>Brown</th>\n",
       "      <th>Green</th>\n",
       "      <th>Grey</th>\n",
       "      <th>Navy Blue</th>\n",
       "      <th>No-Color</th>\n",
       "      <th>Pink</th>\n",
       "      <th>Purple</th>\n",
       "      <th>Rainbow</th>\n",
       "      <th>Red</th>\n",
       "      <th>Rose Gold</th>\n",
       "      <th>White</th>\n",
       "      <th>Yellow</th>\n",
       "    </tr>\n",
       "  </thead>\n",
       "  <tbody>\n",
       "    <tr>\n",
       "      <th>4</th>\n",
       "      <td>1</td>\n",
       "      <td>0</td>\n",
       "      <td>0</td>\n",
       "      <td>0</td>\n",
       "      <td>0</td>\n",
       "      <td>0</td>\n",
       "      <td>0</td>\n",
       "      <td>0</td>\n",
       "      <td>1</td>\n",
       "      <td>0</td>\n",
       "      <td>0</td>\n",
       "      <td>0</td>\n",
       "      <td>0</td>\n",
       "      <td>0</td>\n",
       "      <td>0</td>\n",
       "      <td>0</td>\n",
       "    </tr>\n",
       "    <tr>\n",
       "      <th>53</th>\n",
       "      <td>1</td>\n",
       "      <td>0</td>\n",
       "      <td>0</td>\n",
       "      <td>0</td>\n",
       "      <td>0</td>\n",
       "      <td>0</td>\n",
       "      <td>0</td>\n",
       "      <td>0</td>\n",
       "      <td>0</td>\n",
       "      <td>0</td>\n",
       "      <td>0</td>\n",
       "      <td>0</td>\n",
       "      <td>0</td>\n",
       "      <td>0</td>\n",
       "      <td>0</td>\n",
       "      <td>1</td>\n",
       "    </tr>\n",
       "  </tbody>\n",
       "</table>\n",
       "</div>"
      ],
      "text/plain": [
       "    Ship Country  Season  Beige  Black  Brown  Green  Grey  Navy Blue  \\\n",
       "4              1       0      0      0      0      0     0          0   \n",
       "53             1       0      0      0      0      0     0          0   \n",
       "\n",
       "    No-Color  Pink  Purple  Rainbow  Red  Rose Gold  White  Yellow  \n",
       "4          1     0       0        0    0          0      0       0  \n",
       "53         0     0       0        0    0          0      0       1  "
      ]
     },
     "execution_count": 82,
     "metadata": {},
     "output_type": "execute_result"
    }
   ],
   "source": [
    "dummy_color.head(2)"
   ]
  },
  {
   "cell_type": "code",
   "execution_count": null,
   "id": "c8b3e81e",
   "metadata": {},
   "outputs": [],
   "source": [
    "for col in dummy_color.columns:\n",
    "    if (dummy_color[col] == 0).all():\n",
    "        dummy_color.drop(col, axis=1, inplace=True)"
   ]
  }
 ],
 "metadata": {
  "kernelspec": {
   "display_name": "Python 3 (ipykernel)",
   "language": "python",
   "name": "python3"
  },
  "language_info": {
   "codemirror_mode": {
    "name": "ipython",
    "version": 3
   },
   "file_extension": ".py",
   "mimetype": "text/x-python",
   "name": "python",
   "nbconvert_exporter": "python",
   "pygments_lexer": "ipython3",
   "version": "3.9.12"
  }
 },
 "nbformat": 4,
 "nbformat_minor": 5
}
