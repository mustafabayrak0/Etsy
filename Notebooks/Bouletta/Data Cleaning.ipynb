{
 "cells": [
  {
   "cell_type": "markdown",
   "id": "b34c3693",
   "metadata": {},
   "source": [
    "**Import necessary libraries**"
   ]
  },
  {
   "cell_type": "code",
   "execution_count": 130,
   "id": "e2b4b763",
   "metadata": {},
   "outputs": [],
   "source": [
    "import pandas as pd\n",
    "import numpy as np\n",
    "import matplotlib.pyplot as plt\n",
    "from datetime import datetime"
   ]
  },
  {
   "cell_type": "code",
   "execution_count": 131,
   "id": "a17f249e",
   "metadata": {},
   "outputs": [],
   "source": [
    "df_name = \"EtsySoldOrderItems2020\""
   ]
  },
  {
   "cell_type": "markdown",
   "id": "6f4856b8",
   "metadata": {},
   "source": [
    "**Read csv files**"
   ]
  },
  {
   "cell_type": "code",
   "execution_count": 132,
   "id": "48b76efe",
   "metadata": {},
   "outputs": [],
   "source": [
    "df = pd.read_csv(\"../../Datasets/Bouletta/\"+df_name+\".csv\")"
   ]
  },
  {
   "cell_type": "markdown",
   "id": "b034c99c",
   "metadata": {},
   "source": [
    "Columns of dataframe"
   ]
  },
  {
   "cell_type": "code",
   "execution_count": 133,
   "id": "0e440c51",
   "metadata": {},
   "outputs": [
    {
     "data": {
      "text/plain": [
       "Index(['Sale Date', 'Item Name', 'Buyer', 'Quantity', 'Price', 'Coupon Code',\n",
       "       'Coupon Details', 'Discount Amount', 'Shipping Discount',\n",
       "       'Order Shipping', 'Order Sales Tax', 'Item Total', 'Currency',\n",
       "       'Transaction ID', 'Listing ID', 'Date Paid', 'Date Shipped',\n",
       "       'Ship Name', 'Ship Address1', 'Ship Address2', 'Ship City',\n",
       "       'Ship State', 'Ship Zipcode', 'Ship Country', 'Order ID', 'Variations',\n",
       "       'Order Type', 'Listings Type', 'Payment Type', 'InPerson Discount',\n",
       "       'InPerson Location', 'VAT Paid by Buyer', 'SKU'],\n",
       "      dtype='object')"
      ]
     },
     "execution_count": 133,
     "metadata": {},
     "output_type": "execute_result"
    }
   ],
   "source": [
    "df.columns"
   ]
  },
  {
   "cell_type": "code",
   "execution_count": 134,
   "id": "45a78310",
   "metadata": {},
   "outputs": [],
   "source": [
    "df = df.rename(columns={\"Item Name\":\"Item Model\"})"
   ]
  },
  {
   "cell_type": "code",
   "execution_count": 135,
   "id": "a5c9dd24",
   "metadata": {},
   "outputs": [
    {
     "data": {
      "text/html": [
       "<div>\n",
       "<style scoped>\n",
       "    .dataframe tbody tr th:only-of-type {\n",
       "        vertical-align: middle;\n",
       "    }\n",
       "\n",
       "    .dataframe tbody tr th {\n",
       "        vertical-align: top;\n",
       "    }\n",
       "\n",
       "    .dataframe thead th {\n",
       "        text-align: right;\n",
       "    }\n",
       "</style>\n",
       "<table border=\"1\" class=\"dataframe\">\n",
       "  <thead>\n",
       "    <tr style=\"text-align: right;\">\n",
       "      <th></th>\n",
       "      <th>Sale Date</th>\n",
       "      <th>Item Model</th>\n",
       "      <th>Buyer</th>\n",
       "      <th>Quantity</th>\n",
       "      <th>Price</th>\n",
       "      <th>Coupon Code</th>\n",
       "      <th>Coupon Details</th>\n",
       "      <th>Discount Amount</th>\n",
       "      <th>Shipping Discount</th>\n",
       "      <th>Order Shipping</th>\n",
       "      <th>...</th>\n",
       "      <th>Ship Country</th>\n",
       "      <th>Order ID</th>\n",
       "      <th>Variations</th>\n",
       "      <th>Order Type</th>\n",
       "      <th>Listings Type</th>\n",
       "      <th>Payment Type</th>\n",
       "      <th>InPerson Discount</th>\n",
       "      <th>InPerson Location</th>\n",
       "      <th>VAT Paid by Buyer</th>\n",
       "      <th>SKU</th>\n",
       "    </tr>\n",
       "  </thead>\n",
       "  <tbody>\n",
       "    <tr>\n",
       "      <th>0</th>\n",
       "      <td>12/31/20</td>\n",
       "      <td>Genuine Gray Leather Samsung Galaxy Note 20 Pr...</td>\n",
       "      <td>Shanon Browne (wj1ol9t2d47zhqco)</td>\n",
       "      <td>1</td>\n",
       "      <td>44.67</td>\n",
       "      <td>25OFFDECEMBER</td>\n",
       "      <td>25OFFDECEMBER - % off</td>\n",
       "      <td>11.17</td>\n",
       "      <td>0.00</td>\n",
       "      <td>0.0</td>\n",
       "      <td>...</td>\n",
       "      <td>United States</td>\n",
       "      <td>1908770705</td>\n",
       "      <td>Personalization Request:Add Laser Engraving</td>\n",
       "      <td>online</td>\n",
       "      <td>listing</td>\n",
       "      <td>online_cc</td>\n",
       "      <td>NaN</td>\n",
       "      <td>NaN</td>\n",
       "      <td>0</td>\n",
       "      <td>BO-01-FXCP-TN18E-0NT20-00</td>\n",
       "    </tr>\n",
       "    <tr>\n",
       "      <th>1</th>\n",
       "      <td>12/31/20</td>\n",
       "      <td>Genuine Leather Apple iPhone 12 &amp; iPhone 12 Pr...</td>\n",
       "      <td>Kevin Butterfield (kevinbutterfield72)</td>\n",
       "      <td>1</td>\n",
       "      <td>52.00</td>\n",
       "      <td>25OFFDECEMBER</td>\n",
       "      <td>25OFFDECEMBER - % off</td>\n",
       "      <td>13.00</td>\n",
       "      <td>3.21</td>\n",
       "      <td>0.0</td>\n",
       "      <td>...</td>\n",
       "      <td>United States</td>\n",
       "      <td>1900438126</td>\n",
       "      <td>Personalization Request:No Personalization</td>\n",
       "      <td>online</td>\n",
       "      <td>listing</td>\n",
       "      <td>online_cc</td>\n",
       "      <td>NaN</td>\n",
       "      <td>NaN</td>\n",
       "      <td>0</td>\n",
       "      <td>BO-01-FXC0-RS02E-IP121-00</td>\n",
       "    </tr>\n",
       "  </tbody>\n",
       "</table>\n",
       "<p>2 rows × 33 columns</p>\n",
       "</div>"
      ],
      "text/plain": [
       "  Sale Date                                         Item Model  \\\n",
       "0  12/31/20  Genuine Gray Leather Samsung Galaxy Note 20 Pr...   \n",
       "1  12/31/20  Genuine Leather Apple iPhone 12 & iPhone 12 Pr...   \n",
       "\n",
       "                                    Buyer  Quantity  Price    Coupon Code  \\\n",
       "0        Shanon Browne (wj1ol9t2d47zhqco)         1  44.67  25OFFDECEMBER   \n",
       "1  Kevin Butterfield (kevinbutterfield72)         1  52.00  25OFFDECEMBER   \n",
       "\n",
       "          Coupon Details  Discount Amount  Shipping Discount  Order Shipping  \\\n",
       "0  25OFFDECEMBER - % off            11.17               0.00             0.0   \n",
       "1  25OFFDECEMBER - % off            13.00               3.21             0.0   \n",
       "\n",
       "   ...   Ship Country    Order ID  \\\n",
       "0  ...  United States  1908770705   \n",
       "1  ...  United States  1900438126   \n",
       "\n",
       "                                    Variations  Order Type  Listings Type  \\\n",
       "0  Personalization Request:Add Laser Engraving      online        listing   \n",
       "1   Personalization Request:No Personalization      online        listing   \n",
       "\n",
       "  Payment Type InPerson Discount InPerson Location VAT Paid by Buyer  \\\n",
       "0    online_cc               NaN               NaN                 0   \n",
       "1    online_cc               NaN               NaN                 0   \n",
       "\n",
       "                         SKU  \n",
       "0  BO-01-FXCP-TN18E-0NT20-00  \n",
       "1  BO-01-FXC0-RS02E-IP121-00  \n",
       "\n",
       "[2 rows x 33 columns]"
      ]
     },
     "execution_count": 135,
     "metadata": {},
     "output_type": "execute_result"
    }
   ],
   "source": [
    "df.head(2)"
   ]
  },
  {
   "cell_type": "markdown",
   "id": "f2640cbf",
   "metadata": {},
   "source": [
    "Check null values"
   ]
  },
  {
   "cell_type": "code",
   "execution_count": 136,
   "id": "149ab358",
   "metadata": {
    "scrolled": true
   },
   "outputs": [
    {
     "data": {
      "text/plain": [
       "Sale Date              0\n",
       "Item Model             0\n",
       "Buyer                124\n",
       "Quantity               0\n",
       "Price                  0\n",
       "Coupon Code           21\n",
       "Coupon Details        21\n",
       "Discount Amount        0\n",
       "Shipping Discount      0\n",
       "Order Shipping         0\n",
       "Order Sales Tax        0\n",
       "Item Total             0\n",
       "Currency               0\n",
       "Transaction ID         0\n",
       "Listing ID             0\n",
       "Date Paid              0\n",
       "Date Shipped           0\n",
       "Ship Name              0\n",
       "Ship Address1          0\n",
       "Ship Address2        562\n",
       "Ship City              0\n",
       "Ship State            73\n",
       "Ship Zipcode           4\n",
       "Ship Country           0\n",
       "Order ID               0\n",
       "Variations            27\n",
       "Order Type             0\n",
       "Listings Type          0\n",
       "Payment Type           0\n",
       "InPerson Discount    702\n",
       "InPerson Location    702\n",
       "VAT Paid by Buyer      0\n",
       "SKU                    0\n",
       "dtype: int64"
      ]
     },
     "execution_count": 136,
     "metadata": {},
     "output_type": "execute_result"
    }
   ],
   "source": [
    "df.isna().sum()"
   ]
  },
  {
   "cell_type": "code",
   "execution_count": 137,
   "id": "40e98fd5",
   "metadata": {},
   "outputs": [],
   "source": [
    "df.drop(columns=['Buyer','Coupon Details','Shipping Discount','Order Shipping',\\\n",
    "                      'Order Sales Tax','Item Total', 'Currency','Transaction ID', 'Listing ID',\\\n",
    "                      'Date Paid', 'Date Shipped','Ship Name', 'Ship Address1', 'Ship Address2',\\\n",
    "                      'Ship Zipcode', 'Variations','Order Type', 'Listings Type',\\\n",
    "                      'Payment Type', 'InPerson Discount','InPerson Location', 'VAT Paid by Buyer',\\\n",
    "                      'SKU','Ship City','Ship State'],inplace = True)"
   ]
  },
  {
   "cell_type": "code",
   "execution_count": 138,
   "id": "1b170217",
   "metadata": {},
   "outputs": [],
   "source": [
    "df.dropna(inplace=True)"
   ]
  },
  {
   "cell_type": "markdown",
   "id": "e05c7e4a",
   "metadata": {},
   "source": [
    "Check duplicates"
   ]
  },
  {
   "cell_type": "code",
   "execution_count": 139,
   "id": "645bcc7f",
   "metadata": {},
   "outputs": [
    {
     "data": {
      "text/plain": [
       "0"
      ]
     },
     "execution_count": 139,
     "metadata": {},
     "output_type": "execute_result"
    }
   ],
   "source": [
    "df.duplicated().all().sum()"
   ]
  },
  {
   "cell_type": "markdown",
   "id": "a2bfdf13",
   "metadata": {},
   "source": [
    "Map seasons"
   ]
  },
  {
   "cell_type": "code",
   "execution_count": 140,
   "id": "a50b0c43",
   "metadata": {},
   "outputs": [],
   "source": [
    "def map_seasons(dataframe,month,season,sale_date):\n",
    "    dataframe[season] = \"\"  # Add a new column named \"Season\" to the dataframe\n",
    "    for i in dataframe[sale_date]:\n",
    "        nums = str.split(i,sep=\"/\")\n",
    "        date = \"\"\n",
    "        if nums[0] in [\"12\",\"01\",\"02\"]:\n",
    "            date = \"Winter\"\n",
    "        elif nums[0] in [\"03\",\"04\",\"05\"]:\n",
    "            date = \"Spring\"\n",
    "        elif nums[0] in [\"06\",\"07\",\"08\"]:\n",
    "            date = \"Summer\"\n",
    "        elif nums[0] in [\"09\",\"10\",\"11\"]:\n",
    "            date = \"Fall\"\n",
    "        dataframe.loc[dataframe[sale_date] == i, season] = date\n",
    "        dataframe.loc[dataframe[sale_date] == i, month] = nums[0]\n",
    "    return dataframe   "
   ]
  },
  {
   "cell_type": "code",
   "execution_count": 141,
   "id": "66bdc36c",
   "metadata": {},
   "outputs": [],
   "source": [
    "df = map_seasons(df,\"Month\",\"Season\",\"Sale Date\")"
   ]
  },
  {
   "cell_type": "code",
   "execution_count": 142,
   "id": "31f98da2",
   "metadata": {},
   "outputs": [],
   "source": [
    "def map_years(dataframe, years,sale_date):\n",
    "    dataframe[years] = \"\"\n",
    "    for i in dataframe[sale_date]:\n",
    "        date = datetime.strptime(i, \"%m/%d/%y\")\n",
    "        year = date.year\n",
    "        dataframe.loc[dataframe[sale_date] == i, years] = year\n",
    "    return dataframe"
   ]
  },
  {
   "cell_type": "code",
   "execution_count": 143,
   "id": "95870c73",
   "metadata": {},
   "outputs": [],
   "source": [
    "df = map_years(df,\"Year\",\"Sale Date\")"
   ]
  },
  {
   "cell_type": "code",
   "execution_count": 144,
   "id": "6b69061d",
   "metadata": {},
   "outputs": [
    {
     "data": {
      "text/html": [
       "<div>\n",
       "<style scoped>\n",
       "    .dataframe tbody tr th:only-of-type {\n",
       "        vertical-align: middle;\n",
       "    }\n",
       "\n",
       "    .dataframe tbody tr th {\n",
       "        vertical-align: top;\n",
       "    }\n",
       "\n",
       "    .dataframe thead th {\n",
       "        text-align: right;\n",
       "    }\n",
       "</style>\n",
       "<table border=\"1\" class=\"dataframe\">\n",
       "  <thead>\n",
       "    <tr style=\"text-align: right;\">\n",
       "      <th></th>\n",
       "      <th>Sale Date</th>\n",
       "      <th>Item Model</th>\n",
       "      <th>Quantity</th>\n",
       "      <th>Price</th>\n",
       "      <th>Coupon Code</th>\n",
       "      <th>Discount Amount</th>\n",
       "      <th>Ship Country</th>\n",
       "      <th>Order ID</th>\n",
       "      <th>Season</th>\n",
       "      <th>Month</th>\n",
       "      <th>Year</th>\n",
       "    </tr>\n",
       "  </thead>\n",
       "  <tbody>\n",
       "    <tr>\n",
       "      <th>0</th>\n",
       "      <td>12/31/20</td>\n",
       "      <td>Genuine Gray Leather Samsung Galaxy Note 20 Pr...</td>\n",
       "      <td>1</td>\n",
       "      <td>44.67</td>\n",
       "      <td>25OFFDECEMBER</td>\n",
       "      <td>11.17</td>\n",
       "      <td>United States</td>\n",
       "      <td>1908770705</td>\n",
       "      <td>Winter</td>\n",
       "      <td>12</td>\n",
       "      <td>2020</td>\n",
       "    </tr>\n",
       "    <tr>\n",
       "      <th>1</th>\n",
       "      <td>12/31/20</td>\n",
       "      <td>Genuine Leather Apple iPhone 12 &amp; iPhone 12 Pr...</td>\n",
       "      <td>1</td>\n",
       "      <td>52.00</td>\n",
       "      <td>25OFFDECEMBER</td>\n",
       "      <td>13.00</td>\n",
       "      <td>United States</td>\n",
       "      <td>1900438126</td>\n",
       "      <td>Winter</td>\n",
       "      <td>12</td>\n",
       "      <td>2020</td>\n",
       "    </tr>\n",
       "    <tr>\n",
       "      <th>2</th>\n",
       "      <td>12/30/20</td>\n",
       "      <td>Apple iPhone 11 Pro Max (6.5'') Handmade Full ...</td>\n",
       "      <td>1</td>\n",
       "      <td>55.33</td>\n",
       "      <td>25OFFDECEMBER</td>\n",
       "      <td>13.83</td>\n",
       "      <td>United States</td>\n",
       "      <td>1899380664</td>\n",
       "      <td>Winter</td>\n",
       "      <td>12</td>\n",
       "      <td>2020</td>\n",
       "    </tr>\n",
       "    <tr>\n",
       "      <th>3</th>\n",
       "      <td>12/30/20</td>\n",
       "      <td>Genuine Leather Apple iPhone 12 PRO MAX (6.7\")...</td>\n",
       "      <td>1</td>\n",
       "      <td>62.00</td>\n",
       "      <td>25OFFDECEMBER</td>\n",
       "      <td>15.50</td>\n",
       "      <td>United States</td>\n",
       "      <td>1899347518</td>\n",
       "      <td>Winter</td>\n",
       "      <td>12</td>\n",
       "      <td>2020</td>\n",
       "    </tr>\n",
       "    <tr>\n",
       "      <th>4</th>\n",
       "      <td>12/29/20</td>\n",
       "      <td>Handmade Genuine Leather Apple Watch Band 44mm...</td>\n",
       "      <td>1</td>\n",
       "      <td>53.00</td>\n",
       "      <td>25OFFDECEMBER</td>\n",
       "      <td>13.25</td>\n",
       "      <td>United States</td>\n",
       "      <td>1906991839</td>\n",
       "      <td>Winter</td>\n",
       "      <td>12</td>\n",
       "      <td>2020</td>\n",
       "    </tr>\n",
       "  </tbody>\n",
       "</table>\n",
       "</div>"
      ],
      "text/plain": [
       "  Sale Date                                         Item Model  Quantity  \\\n",
       "0  12/31/20  Genuine Gray Leather Samsung Galaxy Note 20 Pr...         1   \n",
       "1  12/31/20  Genuine Leather Apple iPhone 12 & iPhone 12 Pr...         1   \n",
       "2  12/30/20  Apple iPhone 11 Pro Max (6.5'') Handmade Full ...         1   \n",
       "3  12/30/20  Genuine Leather Apple iPhone 12 PRO MAX (6.7\")...         1   \n",
       "4  12/29/20  Handmade Genuine Leather Apple Watch Band 44mm...         1   \n",
       "\n",
       "   Price    Coupon Code  Discount Amount   Ship Country    Order ID  Season  \\\n",
       "0  44.67  25OFFDECEMBER            11.17  United States  1908770705  Winter   \n",
       "1  52.00  25OFFDECEMBER            13.00  United States  1900438126  Winter   \n",
       "2  55.33  25OFFDECEMBER            13.83  United States  1899380664  Winter   \n",
       "3  62.00  25OFFDECEMBER            15.50  United States  1899347518  Winter   \n",
       "4  53.00  25OFFDECEMBER            13.25  United States  1906991839  Winter   \n",
       "\n",
       "  Month  Year  \n",
       "0    12  2020  \n",
       "1    12  2020  \n",
       "2    12  2020  \n",
       "3    12  2020  \n",
       "4    12  2020  "
      ]
     },
     "execution_count": 144,
     "metadata": {},
     "output_type": "execute_result"
    }
   ],
   "source": [
    "df.head()"
   ]
  },
  {
   "cell_type": "code",
   "execution_count": 145,
   "id": "91b6d518",
   "metadata": {},
   "outputs": [],
   "source": [
    "seasons_dict = {'Winter': 0, 'Spring': 1, 'Summer': 2, 'Fall': 3}\n",
    "df['Season'] = df['Season'].replace(seasons_dict)"
   ]
  },
  {
   "cell_type": "code",
   "execution_count": 146,
   "id": "cbe11b58",
   "metadata": {},
   "outputs": [],
   "source": [
    "df['Sale Date'] = pd.to_datetime(df['Sale Date'], format='%m/%d/%y')\n",
    "df['Day Of Year'] = df['Sale Date'].apply(lambda x: x.timetuple().tm_yday)"
   ]
  },
  {
   "cell_type": "code",
   "execution_count": 147,
   "id": "d25dfa5e",
   "metadata": {},
   "outputs": [
    {
     "data": {
      "text/plain": [
       "array(['United States', 'Switzerland', 'Germany', 'Canada',\n",
       "       'United Kingdom', 'Australia', 'The Netherlands', 'Luxembourg',\n",
       "       'Sweden', 'France', 'Latvia', 'Israel', 'Greece', 'Italy',\n",
       "       'Ireland', 'New Zealand', 'Finland', 'South Africa', 'Reunion',\n",
       "       'Denmark', 'Austria', 'United Arab Emirates', 'Hong Kong',\n",
       "       'Norway', 'Malaysia', 'Taiwan', 'Estonia', 'Philippines'],\n",
       "      dtype=object)"
      ]
     },
     "execution_count": 147,
     "metadata": {},
     "output_type": "execute_result"
    }
   ],
   "source": [
    "countries = df['Ship Country'].unique()\n",
    "countries"
   ]
  },
  {
   "cell_type": "code",
   "execution_count": 148,
   "id": "96f5cbe2",
   "metadata": {},
   "outputs": [],
   "source": [
    "country_map = {'United States':1, 'Canada':2, 'United Kingdom':3, 'Australia':4,\n",
    "       'Switzerland':5, 'Sweden':6, 'Israel':7, 'Italy':8, 'Ireland':9,\n",
    "       'New Zealand':10, 'United Arab Emirates':11, 'Hong Kong':12, 'Malaysia':13,\n",
    "       'The Netherlands':14, 'Taiwan':15, 'Germany':16, 'Philippines':17,\"Austria\":18,\n",
    "              \"South Korea\":19,\"France\":20,\"Hungary\":21,\"Singapore\":22,\"Finland\":23,\n",
    "              \"Belgium\":24,\"Luxembourg\":25,\"Puerto Rico\":26,\"Sri Lanka\":27,\"South Africa\":28,\n",
    "              \"Latvia\":29,\"Greece\":30,\"Reunion\":31,\"Denmark\":32,\"Norway\":33,\"Estonia\":34,\n",
    "              \"Spain\":35,\"Brazil\":36,\"India\":37,\"Japan\":38,\"Indonesia\":39,\"Mexico\":40,\n",
    "              \"Russia\":41}"
   ]
  },
  {
   "cell_type": "code",
   "execution_count": 149,
   "id": "23acefee",
   "metadata": {},
   "outputs": [],
   "source": [
    "def map_country(country):\n",
    "    x = False\n",
    "    for i, number in country_map.items():\n",
    "        if i in country:\n",
    "            x= True\n",
    "            return number\n",
    "    if x == False:\n",
    "        print(country)\n",
    "df[\"Ship Country\"] = df[\"Ship Country\"].apply(map_country)"
   ]
  },
  {
   "cell_type": "code",
   "execution_count": 150,
   "id": "148ad668",
   "metadata": {},
   "outputs": [],
   "source": [
    "df.drop(columns=['Sale Date','Day Of Year'],inplace = True)"
   ]
  },
  {
   "cell_type": "code",
   "execution_count": 151,
   "id": "bc0117e4",
   "metadata": {},
   "outputs": [],
   "source": [
    "color_map = {\"Brown\":1,\"Gray\":2,\"Black\":3,\"Navy Blue\":4,\"Blue\":5,\"Yellow\":6,\"Red\":7,\"Pink\":8,\n",
    "            \"Multicolered\":9,\"Green\":10,\"Beige\":11,\"Purple\":12,\"Leopar\":13,\"Multicolored\":9,\n",
    "            \"Grey\":2,\"Multicolor\":9,\"Rose Gold\":14,\"Rainbow\":15,\"White\":16,\"Genuine Leather\":0,\\\n",
    "            \"Leather\":-1}"
   ]
  },
  {
   "cell_type": "code",
   "execution_count": 152,
   "id": "5a73b439",
   "metadata": {},
   "outputs": [
    {
     "data": {
      "text/plain": [
       "Index(['Item Model', 'Quantity', 'Price', 'Coupon Code', 'Discount Amount',\n",
       "       'Ship Country', 'Order ID', 'Season', 'Month', 'Year'],\n",
       "      dtype='object')"
      ]
     },
     "execution_count": 152,
     "metadata": {},
     "output_type": "execute_result"
    }
   ],
   "source": [
    "df.columns"
   ]
  },
  {
   "cell_type": "code",
   "execution_count": 153,
   "id": "41321ec7",
   "metadata": {},
   "outputs": [
    {
     "name": "stdout",
     "output_type": "stream",
     "text": [
      "Samsung Galaxy S10 Plus Magnetic Detachable Phone Case, Wallet Phone Case Samsung S10 Plus, Samsung Phone  S10 Plus Cover by Bouletta\n"
     ]
    }
   ],
   "source": [
    "def map_color(item_name):\n",
    "    x = False\n",
    "    for model, number in color_map.items():\n",
    "        if model in item_name:\n",
    "            x= True\n",
    "            return number\n",
    "    if x == False:\n",
    "        if \"Genuine\" in item_name:\n",
    "            return 0\n",
    "        elif \"Leather\" in item_name:\n",
    "            return -1\n",
    "        else:\n",
    "            print(item_name)\n",
    "df[\"Color\"] = df[\"Item Model\"].apply(map_color)"
   ]
  },
  {
   "cell_type": "code",
   "execution_count": 154,
   "id": "2adec1c7",
   "metadata": {},
   "outputs": [],
   "source": [
    "model_map = {\"iPhone 12\": 1, \"iPhone 12 Pro\": 2, \"Samsung Galaxy S21\": 3,\"Galaxy Note 20\":4,\\\n",
    "             \"iPhone 11 Pro Max\": 5,\"iPhone 12 PRO MAX\":6,\"Watch Band\":7,\"iPhone Mini 12\":8,\\\n",
    "            \"Galaxy Note 20 ULTRA\":9,\"Galaxy S20 Ultra\":10,\"iPhone 13 Series\":11,\n",
    "            \"Galaxy Note 10 Plus\":12,\"iPhone 13 Pro\":13,\"Dog\":14,\"AirPods\":14,\"Desk Mat\":15,\n",
    "            \"Galaxy S20 Plus\":16,\"iPhone SE\":17,\"Samsung Galaxy S20\":18,\"Apple iPhone XS MAX\":19,\n",
    "            \"Apple iPhone XR\":20,\"Apple iPhone X/XS\":21,\"iPhone 11\":22,\"Samsung S10\":23,\n",
    "            \"Card Holder\":24,\"Galaxy N10\":25,\"iPhone 7/8\":26,\"Women's Wallet\":27,\n",
    "            \"Custom order\":28,\"Organizer\":29,\"iPhone 14 Series\":30,\"Galaxy S22 Series\":31,\"AirTag\":32,\n",
    "            \"Mouse Pad\":33,\"Galaxy S22\":34,\"Makeup Purse\":35,\"Huawei Mate 20 Pro\":36,\n",
    "             \"Samsung Galaxy S10\":37,\"Huawei Mate 20 Lite\":38,\"Samsung Galaxy S8 Plus\":39,\n",
    "             \"Samsung Galaxy S10 Plus\":40,\"Samsung Note 8\":41,\"Huawei P20 Pro\":42,\"Samsung Note 10\":43,\n",
    "            \"Samsung Galaxy S8\":44,\"Galaxy S9 Plus\":45,\"Galaxy Note 9\":46,\"Galaxy S9\":47,\n",
    "            \"iPhone XS MAX\":48,\"Samsung Note 9\":46,\"iPhone X/iPhone XS\":49,\"iPhone X / iPhone XS\":49,\n",
    "            \"Apple Watch\":7,\"iPhone X/XS\":49,\"iPhone 7 / 8\":26,\"Galaxy Note 10+\":51,\"iPhone X\":52} "
   ]
  },
  {
   "cell_type": "code",
   "execution_count": 155,
   "id": "2fd31032",
   "metadata": {},
   "outputs": [],
   "source": [
    "def map_model(item_name):\n",
    "    x = False\n",
    "    for model, number in model_map.items():\n",
    "        if model in item_name:\n",
    "            x= True\n",
    "            return number\n",
    "    if x == False:\n",
    "        print(item_name)\n",
    "df[\"Item Model\"] = df[\"Item Model\"].apply(map_model)"
   ]
  },
  {
   "cell_type": "code",
   "execution_count": 156,
   "id": "6d9dd6f8",
   "metadata": {},
   "outputs": [
    {
     "data": {
      "text/html": [
       "<div>\n",
       "<style scoped>\n",
       "    .dataframe tbody tr th:only-of-type {\n",
       "        vertical-align: middle;\n",
       "    }\n",
       "\n",
       "    .dataframe tbody tr th {\n",
       "        vertical-align: top;\n",
       "    }\n",
       "\n",
       "    .dataframe thead th {\n",
       "        text-align: right;\n",
       "    }\n",
       "</style>\n",
       "<table border=\"1\" class=\"dataframe\">\n",
       "  <thead>\n",
       "    <tr style=\"text-align: right;\">\n",
       "      <th></th>\n",
       "      <th>Item Model</th>\n",
       "      <th>Quantity</th>\n",
       "      <th>Price</th>\n",
       "      <th>Coupon Code</th>\n",
       "      <th>Discount Amount</th>\n",
       "      <th>Ship Country</th>\n",
       "      <th>Order ID</th>\n",
       "      <th>Season</th>\n",
       "      <th>Month</th>\n",
       "      <th>Year</th>\n",
       "      <th>Color</th>\n",
       "    </tr>\n",
       "  </thead>\n",
       "  <tbody>\n",
       "    <tr>\n",
       "      <th>324</th>\n",
       "      <td>7</td>\n",
       "      <td>1</td>\n",
       "      <td>49.9</td>\n",
       "      <td>SEPTEMBER20OFF</td>\n",
       "      <td>9.98</td>\n",
       "      <td>1</td>\n",
       "      <td>1748315544</td>\n",
       "      <td>2</td>\n",
       "      <td>08</td>\n",
       "      <td>2020</td>\n",
       "      <td>1.0</td>\n",
       "    </tr>\n",
       "    <tr>\n",
       "      <th>563</th>\n",
       "      <td>7</td>\n",
       "      <td>1</td>\n",
       "      <td>49.9</td>\n",
       "      <td>MAY15OFF</td>\n",
       "      <td>7.49</td>\n",
       "      <td>2</td>\n",
       "      <td>1641197329</td>\n",
       "      <td>1</td>\n",
       "      <td>05</td>\n",
       "      <td>2020</td>\n",
       "      <td>1.0</td>\n",
       "    </tr>\n",
       "  </tbody>\n",
       "</table>\n",
       "</div>"
      ],
      "text/plain": [
       "     Item Model  Quantity  Price     Coupon Code  Discount Amount  \\\n",
       "324           7         1   49.9  SEPTEMBER20OFF             9.98   \n",
       "563           7         1   49.9        MAY15OFF             7.49   \n",
       "\n",
       "     Ship Country    Order ID  Season Month  Year  Color  \n",
       "324             1  1748315544       2    08  2020    1.0  \n",
       "563             2  1641197329       1    05  2020    1.0  "
      ]
     },
     "execution_count": 156,
     "metadata": {},
     "output_type": "execute_result"
    }
   ],
   "source": [
    "df.sample(2)"
   ]
  },
  {
   "cell_type": "code",
   "execution_count": 157,
   "id": "554885d9",
   "metadata": {
    "scrolled": true
   },
   "outputs": [
    {
     "data": {
      "text/html": [
       "<div>\n",
       "<style scoped>\n",
       "    .dataframe tbody tr th:only-of-type {\n",
       "        vertical-align: middle;\n",
       "    }\n",
       "\n",
       "    .dataframe tbody tr th {\n",
       "        vertical-align: top;\n",
       "    }\n",
       "\n",
       "    .dataframe thead th {\n",
       "        text-align: right;\n",
       "    }\n",
       "</style>\n",
       "<table border=\"1\" class=\"dataframe\">\n",
       "  <thead>\n",
       "    <tr style=\"text-align: right;\">\n",
       "      <th></th>\n",
       "      <th>Item Model</th>\n",
       "      <th>Quantity</th>\n",
       "      <th>Price</th>\n",
       "      <th>Discount Amount</th>\n",
       "      <th>Ship Country</th>\n",
       "      <th>Order ID</th>\n",
       "      <th>Season</th>\n",
       "      <th>Color</th>\n",
       "    </tr>\n",
       "  </thead>\n",
       "  <tbody>\n",
       "    <tr>\n",
       "      <th>count</th>\n",
       "      <td>681.000000</td>\n",
       "      <td>681.000000</td>\n",
       "      <td>681.000000</td>\n",
       "      <td>681.000000</td>\n",
       "      <td>681.000000</td>\n",
       "      <td>6.810000e+02</td>\n",
       "      <td>681.000000</td>\n",
       "      <td>680.000000</td>\n",
       "    </tr>\n",
       "    <tr>\n",
       "      <th>mean</th>\n",
       "      <td>16.753304</td>\n",
       "      <td>1.005874</td>\n",
       "      <td>60.315301</td>\n",
       "      <td>13.180749</td>\n",
       "      <td>3.099853</td>\n",
       "      <td>1.739061e+09</td>\n",
       "      <td>1.729809</td>\n",
       "      <td>2.927941</td>\n",
       "    </tr>\n",
       "    <tr>\n",
       "      <th>std</th>\n",
       "      <td>12.762569</td>\n",
       "      <td>0.076471</td>\n",
       "      <td>18.859632</td>\n",
       "      <td>7.727264</td>\n",
       "      <td>5.365085</td>\n",
       "      <td>9.822614e+07</td>\n",
       "      <td>1.118221</td>\n",
       "      <td>3.330023</td>\n",
       "    </tr>\n",
       "    <tr>\n",
       "      <th>min</th>\n",
       "      <td>1.000000</td>\n",
       "      <td>1.000000</td>\n",
       "      <td>25.330000</td>\n",
       "      <td>0.000000</td>\n",
       "      <td>1.000000</td>\n",
       "      <td>1.557283e+09</td>\n",
       "      <td>0.000000</td>\n",
       "      <td>-1.000000</td>\n",
       "    </tr>\n",
       "    <tr>\n",
       "      <th>25%</th>\n",
       "      <td>5.000000</td>\n",
       "      <td>1.000000</td>\n",
       "      <td>49.000000</td>\n",
       "      <td>8.760000</td>\n",
       "      <td>1.000000</td>\n",
       "      <td>1.655229e+09</td>\n",
       "      <td>1.000000</td>\n",
       "      <td>1.000000</td>\n",
       "    </tr>\n",
       "    <tr>\n",
       "      <th>50%</th>\n",
       "      <td>17.000000</td>\n",
       "      <td>1.000000</td>\n",
       "      <td>56.400000</td>\n",
       "      <td>11.330000</td>\n",
       "      <td>1.000000</td>\n",
       "      <td>1.739930e+09</td>\n",
       "      <td>2.000000</td>\n",
       "      <td>1.000000</td>\n",
       "    </tr>\n",
       "    <tr>\n",
       "      <th>75%</th>\n",
       "      <td>23.000000</td>\n",
       "      <td>1.000000</td>\n",
       "      <td>65.400000</td>\n",
       "      <td>14.670000</td>\n",
       "      <td>2.000000</td>\n",
       "      <td>1.824392e+09</td>\n",
       "      <td>3.000000</td>\n",
       "      <td>5.000000</td>\n",
       "    </tr>\n",
       "    <tr>\n",
       "      <th>max</th>\n",
       "      <td>52.000000</td>\n",
       "      <td>2.000000</td>\n",
       "      <td>146.250000</td>\n",
       "      <td>83.460000</td>\n",
       "      <td>34.000000</td>\n",
       "      <td>1.908771e+09</td>\n",
       "      <td>3.000000</td>\n",
       "      <td>16.000000</td>\n",
       "    </tr>\n",
       "  </tbody>\n",
       "</table>\n",
       "</div>"
      ],
      "text/plain": [
       "       Item Model    Quantity       Price  Discount Amount  Ship Country  \\\n",
       "count  681.000000  681.000000  681.000000       681.000000    681.000000   \n",
       "mean    16.753304    1.005874   60.315301        13.180749      3.099853   \n",
       "std     12.762569    0.076471   18.859632         7.727264      5.365085   \n",
       "min      1.000000    1.000000   25.330000         0.000000      1.000000   \n",
       "25%      5.000000    1.000000   49.000000         8.760000      1.000000   \n",
       "50%     17.000000    1.000000   56.400000        11.330000      1.000000   \n",
       "75%     23.000000    1.000000   65.400000        14.670000      2.000000   \n",
       "max     52.000000    2.000000  146.250000        83.460000     34.000000   \n",
       "\n",
       "           Order ID      Season       Color  \n",
       "count  6.810000e+02  681.000000  680.000000  \n",
       "mean   1.739061e+09    1.729809    2.927941  \n",
       "std    9.822614e+07    1.118221    3.330023  \n",
       "min    1.557283e+09    0.000000   -1.000000  \n",
       "25%    1.655229e+09    1.000000    1.000000  \n",
       "50%    1.739930e+09    2.000000    1.000000  \n",
       "75%    1.824392e+09    3.000000    5.000000  \n",
       "max    1.908771e+09    3.000000   16.000000  "
      ]
     },
     "execution_count": 157,
     "metadata": {},
     "output_type": "execute_result"
    }
   ],
   "source": [
    "df.describe()"
   ]
  },
  {
   "cell_type": "code",
   "execution_count": 158,
   "id": "ec726527",
   "metadata": {},
   "outputs": [],
   "source": [
    "df['Coupon Code'] = df['Coupon Code'].map(lambda x: 0 if pd.isnull(x) else 1)"
   ]
  },
  {
   "cell_type": "code",
   "execution_count": 159,
   "id": "9a23dc71",
   "metadata": {},
   "outputs": [],
   "source": [
    "df[\"Price\"] = df[\"Price\"] - df[\"Discount Amount\"]"
   ]
  },
  {
   "cell_type": "code",
   "execution_count": 160,
   "id": "676f2243",
   "metadata": {},
   "outputs": [],
   "source": [
    "df.drop('Discount Amount', axis=1,inplace=True)"
   ]
  },
  {
   "cell_type": "code",
   "execution_count": 161,
   "id": "5f9e8289",
   "metadata": {},
   "outputs": [],
   "source": [
    "df.to_csv(\"../../Datasets/Bouletta/\"+df_name+\"Modified.csv\", index=False)"
   ]
  },
  {
   "cell_type": "code",
   "execution_count": 162,
   "id": "217b62eb",
   "metadata": {},
   "outputs": [],
   "source": [
    "df_2020 = pd.read_csv(\"../../Datasets/Bouletta/EtsySoldOrderItems2020Modified.csv\")\n",
    "df_2021 = pd.read_csv(\"../../Datasets/Bouletta/EtsySoldOrderItems2021Modified.csv\")\n",
    "df_2022 = pd.read_csv(\"../../Datasets/Bouletta/EtsySoldOrderItems2022Modified.csv\")"
   ]
  },
  {
   "cell_type": "code",
   "execution_count": 163,
   "id": "2951b6c1",
   "metadata": {},
   "outputs": [],
   "source": [
    "merged_df = pd.concat([df_2020, df_2021, df_2022])"
   ]
  },
  {
   "cell_type": "code",
   "execution_count": 164,
   "id": "4090b527",
   "metadata": {},
   "outputs": [],
   "source": [
    "merged_df_csv = merged_df.drop(columns=[\"Order ID\"])"
   ]
  },
  {
   "cell_type": "code",
   "execution_count": 165,
   "id": "728157e3",
   "metadata": {},
   "outputs": [
    {
     "data": {
      "text/html": [
       "<div>\n",
       "<style scoped>\n",
       "    .dataframe tbody tr th:only-of-type {\n",
       "        vertical-align: middle;\n",
       "    }\n",
       "\n",
       "    .dataframe tbody tr th {\n",
       "        vertical-align: top;\n",
       "    }\n",
       "\n",
       "    .dataframe thead th {\n",
       "        text-align: right;\n",
       "    }\n",
       "</style>\n",
       "<table border=\"1\" class=\"dataframe\">\n",
       "  <thead>\n",
       "    <tr style=\"text-align: right;\">\n",
       "      <th></th>\n",
       "      <th>Item Model</th>\n",
       "      <th>Quantity</th>\n",
       "      <th>Price</th>\n",
       "      <th>Coupon Code</th>\n",
       "      <th>Ship Country</th>\n",
       "      <th>Order ID</th>\n",
       "      <th>Season</th>\n",
       "      <th>Month</th>\n",
       "      <th>Year</th>\n",
       "      <th>Color</th>\n",
       "    </tr>\n",
       "  </thead>\n",
       "  <tbody>\n",
       "    <tr>\n",
       "      <th>count</th>\n",
       "      <td>2227.000000</td>\n",
       "      <td>2227.000000</td>\n",
       "      <td>2227.000000</td>\n",
       "      <td>2227.0</td>\n",
       "      <td>2227.000000</td>\n",
       "      <td>2.227000e+03</td>\n",
       "      <td>2227.000000</td>\n",
       "      <td>2227.000000</td>\n",
       "      <td>2227.000000</td>\n",
       "      <td>2224.000000</td>\n",
       "    </tr>\n",
       "    <tr>\n",
       "      <th>mean</th>\n",
       "      <td>12.615177</td>\n",
       "      <td>1.003592</td>\n",
       "      <td>53.196744</td>\n",
       "      <td>1.0</td>\n",
       "      <td>2.750786</td>\n",
       "      <td>2.106016e+09</td>\n",
       "      <td>1.550516</td>\n",
       "      <td>6.957791</td>\n",
       "      <td>2020.957342</td>\n",
       "      <td>2.246403</td>\n",
       "    </tr>\n",
       "    <tr>\n",
       "      <th>std</th>\n",
       "      <td>10.496164</td>\n",
       "      <td>0.059841</td>\n",
       "      <td>23.083331</td>\n",
       "      <td>0.0</td>\n",
       "      <td>5.052318</td>\n",
       "      <td>3.085715e+08</td>\n",
       "      <td>1.123359</td>\n",
       "      <td>3.439637</td>\n",
       "      <td>0.753234</td>\n",
       "      <td>3.756714</td>\n",
       "    </tr>\n",
       "    <tr>\n",
       "      <th>min</th>\n",
       "      <td>1.000000</td>\n",
       "      <td>1.000000</td>\n",
       "      <td>-23.820000</td>\n",
       "      <td>1.0</td>\n",
       "      <td>1.000000</td>\n",
       "      <td>1.557283e+09</td>\n",
       "      <td>0.000000</td>\n",
       "      <td>1.000000</td>\n",
       "      <td>2020.000000</td>\n",
       "      <td>-1.000000</td>\n",
       "    </tr>\n",
       "    <tr>\n",
       "      <th>25%</th>\n",
       "      <td>4.000000</td>\n",
       "      <td>1.000000</td>\n",
       "      <td>39.005000</td>\n",
       "      <td>1.0</td>\n",
       "      <td>1.000000</td>\n",
       "      <td>1.841292e+09</td>\n",
       "      <td>1.000000</td>\n",
       "      <td>4.000000</td>\n",
       "      <td>2020.000000</td>\n",
       "      <td>0.000000</td>\n",
       "    </tr>\n",
       "    <tr>\n",
       "      <th>50%</th>\n",
       "      <td>11.000000</td>\n",
       "      <td>1.000000</td>\n",
       "      <td>48.250000</td>\n",
       "      <td>1.0</td>\n",
       "      <td>1.000000</td>\n",
       "      <td>2.120118e+09</td>\n",
       "      <td>2.000000</td>\n",
       "      <td>7.000000</td>\n",
       "      <td>2021.000000</td>\n",
       "      <td>1.000000</td>\n",
       "    </tr>\n",
       "    <tr>\n",
       "      <th>75%</th>\n",
       "      <td>18.000000</td>\n",
       "      <td>1.000000</td>\n",
       "      <td>57.870000</td>\n",
       "      <td>1.0</td>\n",
       "      <td>1.000000</td>\n",
       "      <td>2.345903e+09</td>\n",
       "      <td>3.000000</td>\n",
       "      <td>10.000000</td>\n",
       "      <td>2022.000000</td>\n",
       "      <td>3.000000</td>\n",
       "    </tr>\n",
       "    <tr>\n",
       "      <th>max</th>\n",
       "      <td>52.000000</td>\n",
       "      <td>2.000000</td>\n",
       "      <td>219.000000</td>\n",
       "      <td>1.0</td>\n",
       "      <td>41.000000</td>\n",
       "      <td>2.743856e+09</td>\n",
       "      <td>3.000000</td>\n",
       "      <td>12.000000</td>\n",
       "      <td>2022.000000</td>\n",
       "      <td>16.000000</td>\n",
       "    </tr>\n",
       "  </tbody>\n",
       "</table>\n",
       "</div>"
      ],
      "text/plain": [
       "        Item Model     Quantity        Price  Coupon Code  Ship Country  \\\n",
       "count  2227.000000  2227.000000  2227.000000       2227.0   2227.000000   \n",
       "mean     12.615177     1.003592    53.196744          1.0      2.750786   \n",
       "std      10.496164     0.059841    23.083331          0.0      5.052318   \n",
       "min       1.000000     1.000000   -23.820000          1.0      1.000000   \n",
       "25%       4.000000     1.000000    39.005000          1.0      1.000000   \n",
       "50%      11.000000     1.000000    48.250000          1.0      1.000000   \n",
       "75%      18.000000     1.000000    57.870000          1.0      1.000000   \n",
       "max      52.000000     2.000000   219.000000          1.0     41.000000   \n",
       "\n",
       "           Order ID       Season        Month         Year        Color  \n",
       "count  2.227000e+03  2227.000000  2227.000000  2227.000000  2224.000000  \n",
       "mean   2.106016e+09     1.550516     6.957791  2020.957342     2.246403  \n",
       "std    3.085715e+08     1.123359     3.439637     0.753234     3.756714  \n",
       "min    1.557283e+09     0.000000     1.000000  2020.000000    -1.000000  \n",
       "25%    1.841292e+09     1.000000     4.000000  2020.000000     0.000000  \n",
       "50%    2.120118e+09     2.000000     7.000000  2021.000000     1.000000  \n",
       "75%    2.345903e+09     3.000000    10.000000  2022.000000     3.000000  \n",
       "max    2.743856e+09     3.000000    12.000000  2022.000000    16.000000  "
      ]
     },
     "execution_count": 165,
     "metadata": {},
     "output_type": "execute_result"
    }
   ],
   "source": [
    "merged_df.describe()"
   ]
  },
  {
   "cell_type": "code",
   "execution_count": 166,
   "id": "a8cea961",
   "metadata": {},
   "outputs": [
    {
     "data": {
      "text/html": [
       "<div>\n",
       "<style scoped>\n",
       "    .dataframe tbody tr th:only-of-type {\n",
       "        vertical-align: middle;\n",
       "    }\n",
       "\n",
       "    .dataframe tbody tr th {\n",
       "        vertical-align: top;\n",
       "    }\n",
       "\n",
       "    .dataframe thead th {\n",
       "        text-align: right;\n",
       "    }\n",
       "</style>\n",
       "<table border=\"1\" class=\"dataframe\">\n",
       "  <thead>\n",
       "    <tr style=\"text-align: right;\">\n",
       "      <th></th>\n",
       "      <th>Item Model</th>\n",
       "      <th>Quantity</th>\n",
       "      <th>Price</th>\n",
       "      <th>Coupon Code</th>\n",
       "      <th>Ship Country</th>\n",
       "      <th>Order ID</th>\n",
       "      <th>Season</th>\n",
       "      <th>Month</th>\n",
       "      <th>Year</th>\n",
       "      <th>Color</th>\n",
       "    </tr>\n",
       "  </thead>\n",
       "  <tbody>\n",
       "    <tr>\n",
       "      <th>523</th>\n",
       "      <td>3</td>\n",
       "      <td>1</td>\n",
       "      <td>56.5</td>\n",
       "      <td>1</td>\n",
       "      <td>1</td>\n",
       "      <td>2364813044</td>\n",
       "      <td>0</td>\n",
       "      <td>1</td>\n",
       "      <td>2022</td>\n",
       "      <td>1.0</td>\n",
       "    </tr>\n",
       "  </tbody>\n",
       "</table>\n",
       "</div>"
      ],
      "text/plain": [
       "     Item Model  Quantity  Price  Coupon Code  Ship Country    Order ID  \\\n",
       "523           3         1   56.5            1             1  2364813044   \n",
       "\n",
       "     Season  Month  Year  Color  \n",
       "523       0      1  2022    1.0  "
      ]
     },
     "execution_count": 166,
     "metadata": {},
     "output_type": "execute_result"
    }
   ],
   "source": [
    "merged_df.sample()"
   ]
  },
  {
   "cell_type": "code",
   "execution_count": 167,
   "id": "6f47769b",
   "metadata": {},
   "outputs": [],
   "source": [
    "merged_df_csv.to_csv(\"../../Datasets/Bouletta/\"+\"EtsySoldOrderItems2020-2021-2022.csv\", index=False)"
   ]
  },
  {
   "cell_type": "code",
   "execution_count": 168,
   "id": "3b014f67",
   "metadata": {},
   "outputs": [
    {
     "data": {
      "text/plain": [
       "Item Model      0\n",
       "Quantity        0\n",
       "Price           0\n",
       "Coupon Code     0\n",
       "Ship Country    0\n",
       "Order ID        0\n",
       "Season          0\n",
       "Month           0\n",
       "Year            0\n",
       "Color           3\n",
       "dtype: int64"
      ]
     },
     "execution_count": 168,
     "metadata": {},
     "output_type": "execute_result"
    }
   ],
   "source": [
    "merged_df.isna().sum()"
   ]
  },
  {
   "cell_type": "code",
   "execution_count": 169,
   "id": "c62f514d",
   "metadata": {},
   "outputs": [
    {
     "data": {
      "text/plain": [
       "0"
      ]
     },
     "execution_count": 169,
     "metadata": {},
     "output_type": "execute_result"
    }
   ],
   "source": [
    "merged_df.duplicated().all().sum()"
   ]
  },
  {
   "cell_type": "code",
   "execution_count": 170,
   "id": "7f89836f",
   "metadata": {},
   "outputs": [],
   "source": [
    "review_df = pd.read_json('reviews.json')"
   ]
  },
  {
   "cell_type": "code",
   "execution_count": 171,
   "id": "001898b5",
   "metadata": {},
   "outputs": [
    {
     "data": {
      "text/html": [
       "<div>\n",
       "<style scoped>\n",
       "    .dataframe tbody tr th:only-of-type {\n",
       "        vertical-align: middle;\n",
       "    }\n",
       "\n",
       "    .dataframe tbody tr th {\n",
       "        vertical-align: top;\n",
       "    }\n",
       "\n",
       "    .dataframe thead th {\n",
       "        text-align: right;\n",
       "    }\n",
       "</style>\n",
       "<table border=\"1\" class=\"dataframe\">\n",
       "  <thead>\n",
       "    <tr style=\"text-align: right;\">\n",
       "      <th></th>\n",
       "      <th>reviewer</th>\n",
       "      <th>date_reviewed</th>\n",
       "      <th>star_rating</th>\n",
       "      <th>message</th>\n",
       "      <th>order_id</th>\n",
       "    </tr>\n",
       "  </thead>\n",
       "  <tbody>\n",
       "    <tr>\n",
       "      <th>0</th>\n",
       "      <td>Katie</td>\n",
       "      <td>01/24/2023</td>\n",
       "      <td>5</td>\n",
       "      <td>Bought for my bf, arrived earlier than expecte...</td>\n",
       "      <td>2698975905</td>\n",
       "    </tr>\n",
       "    <tr>\n",
       "      <th>1</th>\n",
       "      <td>Andrea</td>\n",
       "      <td>01/02/2023</td>\n",
       "      <td>4</td>\n",
       "      <td>Wir haben den Artikel in schwarz und blau best...</td>\n",
       "      <td>2735309118</td>\n",
       "    </tr>\n",
       "    <tr>\n",
       "      <th>2</th>\n",
       "      <td>Andrea</td>\n",
       "      <td>01/02/2023</td>\n",
       "      <td>4</td>\n",
       "      <td>Die Handytaschen sind sehr hochwertig verarbei...</td>\n",
       "      <td>2735309118</td>\n",
       "    </tr>\n",
       "    <tr>\n",
       "      <th>3</th>\n",
       "      <td>Lerissa</td>\n",
       "      <td>12/30/2022</td>\n",
       "      <td>4</td>\n",
       "      <td></td>\n",
       "      <td>2732670357</td>\n",
       "    </tr>\n",
       "    <tr>\n",
       "      <th>4</th>\n",
       "      <td>Lerissa</td>\n",
       "      <td>12/30/2022</td>\n",
       "      <td>4</td>\n",
       "      <td></td>\n",
       "      <td>2732670357</td>\n",
       "    </tr>\n",
       "  </tbody>\n",
       "</table>\n",
       "</div>"
      ],
      "text/plain": [
       "  reviewer date_reviewed  star_rating  \\\n",
       "0    Katie    01/24/2023            5   \n",
       "1   Andrea    01/02/2023            4   \n",
       "2   Andrea    01/02/2023            4   \n",
       "3  Lerissa    12/30/2022            4   \n",
       "4  Lerissa    12/30/2022            4   \n",
       "\n",
       "                                             message    order_id  \n",
       "0  Bought for my bf, arrived earlier than expecte...  2698975905  \n",
       "1  Wir haben den Artikel in schwarz und blau best...  2735309118  \n",
       "2  Die Handytaschen sind sehr hochwertig verarbei...  2735309118  \n",
       "3                                                     2732670357  \n",
       "4                                                     2732670357  "
      ]
     },
     "execution_count": 171,
     "metadata": {},
     "output_type": "execute_result"
    }
   ],
   "source": [
    "review_df.head()"
   ]
  },
  {
   "cell_type": "code",
   "execution_count": 172,
   "id": "4501ff6b",
   "metadata": {},
   "outputs": [],
   "source": [
    "review_df['message'] = np.where(review_df['message'] == '', 0, 1)"
   ]
  },
  {
   "cell_type": "code",
   "execution_count": 173,
   "id": "b817f947",
   "metadata": {},
   "outputs": [],
   "source": [
    "etsy = pd.merge(merged_df, review_df, left_on='Order ID',right_on='order_id',how=\"left\")"
   ]
  },
  {
   "cell_type": "code",
   "execution_count": 174,
   "id": "b982e23a",
   "metadata": {},
   "outputs": [],
   "source": [
    "etsy.drop(columns=['date_reviewed',\"Order ID\",\"reviewer\",\"order_id\",\"date_reviewed\"],inplace = True)"
   ]
  },
  {
   "cell_type": "code",
   "execution_count": 175,
   "id": "827ce382",
   "metadata": {},
   "outputs": [],
   "source": [
    "etsy[\"star_rating\"].fillna(0,inplace=True)"
   ]
  },
  {
   "cell_type": "code",
   "execution_count": 176,
   "id": "441a7c04",
   "metadata": {},
   "outputs": [],
   "source": [
    "etsy[\"message\"].fillna(0,inplace=True)"
   ]
  },
  {
   "cell_type": "code",
   "execution_count": 177,
   "id": "6af5a3ef",
   "metadata": {},
   "outputs": [
    {
     "data": {
      "text/html": [
       "<div>\n",
       "<style scoped>\n",
       "    .dataframe tbody tr th:only-of-type {\n",
       "        vertical-align: middle;\n",
       "    }\n",
       "\n",
       "    .dataframe tbody tr th {\n",
       "        vertical-align: top;\n",
       "    }\n",
       "\n",
       "    .dataframe thead th {\n",
       "        text-align: right;\n",
       "    }\n",
       "</style>\n",
       "<table border=\"1\" class=\"dataframe\">\n",
       "  <thead>\n",
       "    <tr style=\"text-align: right;\">\n",
       "      <th></th>\n",
       "      <th>Item Model</th>\n",
       "      <th>Quantity</th>\n",
       "      <th>Price</th>\n",
       "      <th>Coupon Code</th>\n",
       "      <th>Ship Country</th>\n",
       "      <th>Season</th>\n",
       "      <th>Month</th>\n",
       "      <th>Year</th>\n",
       "      <th>Color</th>\n",
       "      <th>star_rating</th>\n",
       "      <th>message</th>\n",
       "    </tr>\n",
       "  </thead>\n",
       "  <tbody>\n",
       "    <tr>\n",
       "      <th>0</th>\n",
       "      <td>4</td>\n",
       "      <td>1</td>\n",
       "      <td>33.50</td>\n",
       "      <td>1</td>\n",
       "      <td>1</td>\n",
       "      <td>0</td>\n",
       "      <td>12</td>\n",
       "      <td>2020</td>\n",
       "      <td>2.0</td>\n",
       "      <td>0.0</td>\n",
       "      <td>0.0</td>\n",
       "    </tr>\n",
       "    <tr>\n",
       "      <th>1</th>\n",
       "      <td>1</td>\n",
       "      <td>1</td>\n",
       "      <td>39.00</td>\n",
       "      <td>1</td>\n",
       "      <td>1</td>\n",
       "      <td>0</td>\n",
       "      <td>12</td>\n",
       "      <td>2020</td>\n",
       "      <td>1.0</td>\n",
       "      <td>0.0</td>\n",
       "      <td>0.0</td>\n",
       "    </tr>\n",
       "    <tr>\n",
       "      <th>2</th>\n",
       "      <td>5</td>\n",
       "      <td>1</td>\n",
       "      <td>41.50</td>\n",
       "      <td>1</td>\n",
       "      <td>1</td>\n",
       "      <td>0</td>\n",
       "      <td>12</td>\n",
       "      <td>2020</td>\n",
       "      <td>1.0</td>\n",
       "      <td>2.0</td>\n",
       "      <td>1.0</td>\n",
       "    </tr>\n",
       "    <tr>\n",
       "      <th>3</th>\n",
       "      <td>1</td>\n",
       "      <td>1</td>\n",
       "      <td>46.50</td>\n",
       "      <td>1</td>\n",
       "      <td>1</td>\n",
       "      <td>0</td>\n",
       "      <td>12</td>\n",
       "      <td>2020</td>\n",
       "      <td>1.0</td>\n",
       "      <td>0.0</td>\n",
       "      <td>0.0</td>\n",
       "    </tr>\n",
       "    <tr>\n",
       "      <th>4</th>\n",
       "      <td>7</td>\n",
       "      <td>1</td>\n",
       "      <td>39.75</td>\n",
       "      <td>1</td>\n",
       "      <td>1</td>\n",
       "      <td>0</td>\n",
       "      <td>12</td>\n",
       "      <td>2020</td>\n",
       "      <td>0.0</td>\n",
       "      <td>0.0</td>\n",
       "      <td>0.0</td>\n",
       "    </tr>\n",
       "  </tbody>\n",
       "</table>\n",
       "</div>"
      ],
      "text/plain": [
       "   Item Model  Quantity  Price  Coupon Code  Ship Country  Season  Month  \\\n",
       "0           4         1  33.50            1             1       0     12   \n",
       "1           1         1  39.00            1             1       0     12   \n",
       "2           5         1  41.50            1             1       0     12   \n",
       "3           1         1  46.50            1             1       0     12   \n",
       "4           7         1  39.75            1             1       0     12   \n",
       "\n",
       "   Year  Color  star_rating  message  \n",
       "0  2020    2.0          0.0      0.0  \n",
       "1  2020    1.0          0.0      0.0  \n",
       "2  2020    1.0          2.0      1.0  \n",
       "3  2020    1.0          0.0      0.0  \n",
       "4  2020    0.0          0.0      0.0  "
      ]
     },
     "execution_count": 177,
     "metadata": {},
     "output_type": "execute_result"
    }
   ],
   "source": [
    "etsy.head()"
   ]
  },
  {
   "cell_type": "code",
   "execution_count": 178,
   "id": "1b976357",
   "metadata": {},
   "outputs": [
    {
     "data": {
      "text/html": [
       "<div>\n",
       "<style scoped>\n",
       "    .dataframe tbody tr th:only-of-type {\n",
       "        vertical-align: middle;\n",
       "    }\n",
       "\n",
       "    .dataframe tbody tr th {\n",
       "        vertical-align: top;\n",
       "    }\n",
       "\n",
       "    .dataframe thead th {\n",
       "        text-align: right;\n",
       "    }\n",
       "</style>\n",
       "<table border=\"1\" class=\"dataframe\">\n",
       "  <thead>\n",
       "    <tr style=\"text-align: right;\">\n",
       "      <th></th>\n",
       "      <th>Item Model</th>\n",
       "      <th>Quantity</th>\n",
       "      <th>Price</th>\n",
       "      <th>Coupon Code</th>\n",
       "      <th>Ship Country</th>\n",
       "      <th>Season</th>\n",
       "      <th>Month</th>\n",
       "      <th>Year</th>\n",
       "      <th>Color</th>\n",
       "      <th>star_rating</th>\n",
       "      <th>message</th>\n",
       "    </tr>\n",
       "  </thead>\n",
       "  <tbody>\n",
       "    <tr>\n",
       "      <th>count</th>\n",
       "      <td>2253.000000</td>\n",
       "      <td>2253.000000</td>\n",
       "      <td>2253.000000</td>\n",
       "      <td>2253.0</td>\n",
       "      <td>2253.000000</td>\n",
       "      <td>2253.000000</td>\n",
       "      <td>2253.000000</td>\n",
       "      <td>2253.000000</td>\n",
       "      <td>2250.000000</td>\n",
       "      <td>2253.000000</td>\n",
       "      <td>2253.000000</td>\n",
       "    </tr>\n",
       "    <tr>\n",
       "      <th>mean</th>\n",
       "      <td>12.636485</td>\n",
       "      <td>1.003551</td>\n",
       "      <td>53.075348</td>\n",
       "      <td>1.0</td>\n",
       "      <td>2.775854</td>\n",
       "      <td>1.551265</td>\n",
       "      <td>6.960941</td>\n",
       "      <td>2020.960497</td>\n",
       "      <td>2.250222</td>\n",
       "      <td>1.112295</td>\n",
       "      <td>0.172659</td>\n",
       "    </tr>\n",
       "    <tr>\n",
       "      <th>std</th>\n",
       "      <td>10.493491</td>\n",
       "      <td>0.059496</td>\n",
       "      <td>23.228542</td>\n",
       "      <td>0.0</td>\n",
       "      <td>5.097618</td>\n",
       "      <td>1.121272</td>\n",
       "      <td>3.435434</td>\n",
       "      <td>0.754349</td>\n",
       "      <td>3.759211</td>\n",
       "      <td>2.034405</td>\n",
       "      <td>0.378036</td>\n",
       "    </tr>\n",
       "    <tr>\n",
       "      <th>min</th>\n",
       "      <td>1.000000</td>\n",
       "      <td>1.000000</td>\n",
       "      <td>-23.820000</td>\n",
       "      <td>1.0</td>\n",
       "      <td>1.000000</td>\n",
       "      <td>0.000000</td>\n",
       "      <td>1.000000</td>\n",
       "      <td>2020.000000</td>\n",
       "      <td>-1.000000</td>\n",
       "      <td>0.000000</td>\n",
       "      <td>0.000000</td>\n",
       "    </tr>\n",
       "    <tr>\n",
       "      <th>25%</th>\n",
       "      <td>4.000000</td>\n",
       "      <td>1.000000</td>\n",
       "      <td>39.000000</td>\n",
       "      <td>1.0</td>\n",
       "      <td>1.000000</td>\n",
       "      <td>1.000000</td>\n",
       "      <td>4.000000</td>\n",
       "      <td>2020.000000</td>\n",
       "      <td>0.000000</td>\n",
       "      <td>0.000000</td>\n",
       "      <td>0.000000</td>\n",
       "    </tr>\n",
       "    <tr>\n",
       "      <th>50%</th>\n",
       "      <td>11.000000</td>\n",
       "      <td>1.000000</td>\n",
       "      <td>48.250000</td>\n",
       "      <td>1.0</td>\n",
       "      <td>1.000000</td>\n",
       "      <td>2.000000</td>\n",
       "      <td>7.000000</td>\n",
       "      <td>2021.000000</td>\n",
       "      <td>1.000000</td>\n",
       "      <td>0.000000</td>\n",
       "      <td>0.000000</td>\n",
       "    </tr>\n",
       "    <tr>\n",
       "      <th>75%</th>\n",
       "      <td>18.000000</td>\n",
       "      <td>1.000000</td>\n",
       "      <td>57.870000</td>\n",
       "      <td>1.0</td>\n",
       "      <td>1.000000</td>\n",
       "      <td>3.000000</td>\n",
       "      <td>10.000000</td>\n",
       "      <td>2022.000000</td>\n",
       "      <td>3.000000</td>\n",
       "      <td>0.000000</td>\n",
       "      <td>0.000000</td>\n",
       "    </tr>\n",
       "    <tr>\n",
       "      <th>max</th>\n",
       "      <td>52.000000</td>\n",
       "      <td>2.000000</td>\n",
       "      <td>219.000000</td>\n",
       "      <td>1.0</td>\n",
       "      <td>41.000000</td>\n",
       "      <td>3.000000</td>\n",
       "      <td>12.000000</td>\n",
       "      <td>2022.000000</td>\n",
       "      <td>16.000000</td>\n",
       "      <td>5.000000</td>\n",
       "      <td>1.000000</td>\n",
       "    </tr>\n",
       "  </tbody>\n",
       "</table>\n",
       "</div>"
      ],
      "text/plain": [
       "        Item Model     Quantity        Price  Coupon Code  Ship Country  \\\n",
       "count  2253.000000  2253.000000  2253.000000       2253.0   2253.000000   \n",
       "mean     12.636485     1.003551    53.075348          1.0      2.775854   \n",
       "std      10.493491     0.059496    23.228542          0.0      5.097618   \n",
       "min       1.000000     1.000000   -23.820000          1.0      1.000000   \n",
       "25%       4.000000     1.000000    39.000000          1.0      1.000000   \n",
       "50%      11.000000     1.000000    48.250000          1.0      1.000000   \n",
       "75%      18.000000     1.000000    57.870000          1.0      1.000000   \n",
       "max      52.000000     2.000000   219.000000          1.0     41.000000   \n",
       "\n",
       "            Season        Month         Year        Color  star_rating  \\\n",
       "count  2253.000000  2253.000000  2253.000000  2250.000000  2253.000000   \n",
       "mean      1.551265     6.960941  2020.960497     2.250222     1.112295   \n",
       "std       1.121272     3.435434     0.754349     3.759211     2.034405   \n",
       "min       0.000000     1.000000  2020.000000    -1.000000     0.000000   \n",
       "25%       1.000000     4.000000  2020.000000     0.000000     0.000000   \n",
       "50%       2.000000     7.000000  2021.000000     1.000000     0.000000   \n",
       "75%       3.000000    10.000000  2022.000000     3.000000     0.000000   \n",
       "max       3.000000    12.000000  2022.000000    16.000000     5.000000   \n",
       "\n",
       "           message  \n",
       "count  2253.000000  \n",
       "mean      0.172659  \n",
       "std       0.378036  \n",
       "min       0.000000  \n",
       "25%       0.000000  \n",
       "50%       0.000000  \n",
       "75%       0.000000  \n",
       "max       1.000000  "
      ]
     },
     "execution_count": 178,
     "metadata": {},
     "output_type": "execute_result"
    }
   ],
   "source": [
    "etsy.describe()"
   ]
  },
  {
   "cell_type": "code",
   "execution_count": 179,
   "id": "d01ae209",
   "metadata": {},
   "outputs": [],
   "source": [
    "etsy.to_csv(\"../../Datasets/Bouletta/EtsySoldOrderItemsWithReviews2020-2021-2022.csv\", index=False)"
   ]
  }
 ],
 "metadata": {
  "kernelspec": {
   "display_name": "Python 3 (ipykernel)",
   "language": "python",
   "name": "python3"
  },
  "language_info": {
   "codemirror_mode": {
    "name": "ipython",
    "version": 3
   },
   "file_extension": ".py",
   "mimetype": "text/x-python",
   "name": "python",
   "nbconvert_exporter": "python",
   "pygments_lexer": "ipython3",
   "version": "3.9.12"
  }
 },
 "nbformat": 4,
 "nbformat_minor": 5
}
