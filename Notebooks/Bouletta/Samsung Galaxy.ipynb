{
 "cells": [
  {
   "cell_type": "code",
   "execution_count": 210,
   "id": "f5f40961",
   "metadata": {},
   "outputs": [],
   "source": [
    "import pandas as pd\n",
    "import numpy as np\n",
    "from sklearn.linear_model import LogisticRegression\n",
    "import matplotlib.pyplot as plt\n",
    "%matplotlib inline\n",
    "import seaborn as sns\n",
    "from sklearn.model_selection import train_test_split\n",
    "from sklearn import svm"
   ]
  },
  {
   "cell_type": "code",
   "execution_count": 211,
   "id": "7c833963",
   "metadata": {},
   "outputs": [],
   "source": [
    "df = pd.read_csv(\"../../Datasets/Bouletta/EtsySoldOrderItems2020-2021-2022.csv\")"
   ]
  },
  {
   "cell_type": "code",
   "execution_count": 212,
   "id": "a3785eab",
   "metadata": {
    "scrolled": true
   },
   "outputs": [
    {
     "data": {
      "text/html": [
       "<div>\n",
       "<style scoped>\n",
       "    .dataframe tbody tr th:only-of-type {\n",
       "        vertical-align: middle;\n",
       "    }\n",
       "\n",
       "    .dataframe tbody tr th {\n",
       "        vertical-align: top;\n",
       "    }\n",
       "\n",
       "    .dataframe thead th {\n",
       "        text-align: right;\n",
       "    }\n",
       "</style>\n",
       "<table border=\"1\" class=\"dataframe\">\n",
       "  <thead>\n",
       "    <tr style=\"text-align: right;\">\n",
       "      <th></th>\n",
       "      <th>Item Model</th>\n",
       "      <th>Quantity</th>\n",
       "      <th>Price</th>\n",
       "      <th>Coupon Code</th>\n",
       "      <th>Ship Country</th>\n",
       "      <th>Season</th>\n",
       "      <th>Month</th>\n",
       "      <th>Year</th>\n",
       "      <th>Color</th>\n",
       "    </tr>\n",
       "  </thead>\n",
       "  <tbody>\n",
       "    <tr>\n",
       "      <th>0</th>\n",
       "      <td>4</td>\n",
       "      <td>1</td>\n",
       "      <td>44.67</td>\n",
       "      <td>1</td>\n",
       "      <td>1</td>\n",
       "      <td>0</td>\n",
       "      <td>12</td>\n",
       "      <td>2020</td>\n",
       "      <td>2.0</td>\n",
       "    </tr>\n",
       "    <tr>\n",
       "      <th>1</th>\n",
       "      <td>1</td>\n",
       "      <td>1</td>\n",
       "      <td>52.00</td>\n",
       "      <td>1</td>\n",
       "      <td>1</td>\n",
       "      <td>0</td>\n",
       "      <td>12</td>\n",
       "      <td>2020</td>\n",
       "      <td>1.0</td>\n",
       "    </tr>\n",
       "  </tbody>\n",
       "</table>\n",
       "</div>"
      ],
      "text/plain": [
       "   Item Model  Quantity  Price  Coupon Code  Ship Country  Season  Month  \\\n",
       "0           4         1  44.67            1             1       0     12   \n",
       "1           1         1  52.00            1             1       0     12   \n",
       "\n",
       "   Year  Color  \n",
       "0  2020    2.0  \n",
       "1  2020    1.0  "
      ]
     },
     "execution_count": 212,
     "metadata": {},
     "output_type": "execute_result"
    }
   ],
   "source": [
    "df.head(2)"
   ]
  },
  {
   "cell_type": "code",
   "execution_count": 213,
   "id": "2c06f6e5",
   "metadata": {},
   "outputs": [],
   "source": [
    "dummy_season = pd.read_csv(\"../../Datasets/Bouletta/Dummy_GroupedBySeason.csv\")"
   ]
  },
  {
   "cell_type": "code",
   "execution_count": 214,
   "id": "24f0fb44",
   "metadata": {},
   "outputs": [
    {
     "data": {
      "text/html": [
       "<div>\n",
       "<style scoped>\n",
       "    .dataframe tbody tr th:only-of-type {\n",
       "        vertical-align: middle;\n",
       "    }\n",
       "\n",
       "    .dataframe tbody tr th {\n",
       "        vertical-align: top;\n",
       "    }\n",
       "\n",
       "    .dataframe thead th {\n",
       "        text-align: right;\n",
       "    }\n",
       "</style>\n",
       "<table border=\"1\" class=\"dataframe\">\n",
       "  <thead>\n",
       "    <tr style=\"text-align: right;\">\n",
       "      <th></th>\n",
       "      <th>Season</th>\n",
       "      <th>Quantity</th>\n",
       "      <th>Price</th>\n",
       "      <th>Coupon Code</th>\n",
       "      <th>Ship Country</th>\n",
       "      <th>Year</th>\n",
       "      <th>Color</th>\n",
       "      <th>AirPods</th>\n",
       "      <th>AirTag</th>\n",
       "      <th>Apple iPhone X/XS</th>\n",
       "      <th>...</th>\n",
       "      <th>iPhone 11 Pro Max</th>\n",
       "      <th>iPhone 12</th>\n",
       "      <th>iPhone 13 Pro</th>\n",
       "      <th>iPhone 13 Series</th>\n",
       "      <th>iPhone 14 Series</th>\n",
       "      <th>iPhone 7/8</th>\n",
       "      <th>iPhone SE</th>\n",
       "      <th>iPhone X</th>\n",
       "      <th>iPhone X/XS</th>\n",
       "      <th>iPhone XS MAX</th>\n",
       "    </tr>\n",
       "  </thead>\n",
       "  <tbody>\n",
       "    <tr>\n",
       "      <th>0</th>\n",
       "      <td>Fall</td>\n",
       "      <td>585</td>\n",
       "      <td>43132.99</td>\n",
       "      <td>582</td>\n",
       "      <td>1639</td>\n",
       "      <td>1176087</td>\n",
       "      <td>1207.0</td>\n",
       "      <td>1</td>\n",
       "      <td>0</td>\n",
       "      <td>5</td>\n",
       "      <td>...</td>\n",
       "      <td>7</td>\n",
       "      <td>112</td>\n",
       "      <td>8</td>\n",
       "      <td>59</td>\n",
       "      <td>4</td>\n",
       "      <td>3</td>\n",
       "      <td>11</td>\n",
       "      <td>0</td>\n",
       "      <td>0</td>\n",
       "      <td>0</td>\n",
       "    </tr>\n",
       "    <tr>\n",
       "      <th>1</th>\n",
       "      <td>Spring</td>\n",
       "      <td>491</td>\n",
       "      <td>33449.45</td>\n",
       "      <td>489</td>\n",
       "      <td>1126</td>\n",
       "      <td>988283</td>\n",
       "      <td>1121.0</td>\n",
       "      <td>0</td>\n",
       "      <td>1</td>\n",
       "      <td>5</td>\n",
       "      <td>...</td>\n",
       "      <td>5</td>\n",
       "      <td>69</td>\n",
       "      <td>8</td>\n",
       "      <td>21</td>\n",
       "      <td>0</td>\n",
       "      <td>11</td>\n",
       "      <td>16</td>\n",
       "      <td>0</td>\n",
       "      <td>0</td>\n",
       "      <td>1</td>\n",
       "    </tr>\n",
       "  </tbody>\n",
       "</table>\n",
       "<p>2 rows × 53 columns</p>\n",
       "</div>"
      ],
      "text/plain": [
       "   Season  Quantity     Price  Coupon Code  Ship Country     Year   Color  \\\n",
       "0    Fall       585  43132.99          582          1639  1176087  1207.0   \n",
       "1  Spring       491  33449.45          489          1126   988283  1121.0   \n",
       "\n",
       "   AirPods  AirTag  Apple iPhone X/XS  ...  iPhone 11 Pro Max  iPhone 12  \\\n",
       "0        1       0                  5  ...                  7        112   \n",
       "1        0       1                  5  ...                  5         69   \n",
       "\n",
       "   iPhone 13 Pro  iPhone 13 Series  iPhone 14 Series  iPhone 7/8  iPhone SE  \\\n",
       "0              8                59                 4           3         11   \n",
       "1              8                21                 0          11         16   \n",
       "\n",
       "   iPhone X  iPhone X/XS  iPhone XS MAX  \n",
       "0         0            0              0  \n",
       "1         0            0              1  \n",
       "\n",
       "[2 rows x 53 columns]"
      ]
     },
     "execution_count": 214,
     "metadata": {},
     "output_type": "execute_result"
    }
   ],
   "source": [
    "dummy_season.head(2)"
   ]
  },
  {
   "cell_type": "code",
   "execution_count": 215,
   "id": "26b17004",
   "metadata": {},
   "outputs": [],
   "source": [
    "dummy_season = dummy_season.drop(columns=[\"Year\",\"Quantity\",\"Price\",\"Coupon Code\",\"Ship Country\",\"Color\"])"
   ]
  },
  {
   "cell_type": "code",
   "execution_count": 216,
   "id": "d02493bf",
   "metadata": {},
   "outputs": [],
   "source": [
    "s = dummy_season.groupby(['Season'], as_index=True).sum()"
   ]
  },
  {
   "cell_type": "code",
   "execution_count": 217,
   "id": "55356b5f",
   "metadata": {},
   "outputs": [
    {
     "data": {
      "text/html": [
       "<div>\n",
       "<style scoped>\n",
       "    .dataframe tbody tr th:only-of-type {\n",
       "        vertical-align: middle;\n",
       "    }\n",
       "\n",
       "    .dataframe tbody tr th {\n",
       "        vertical-align: top;\n",
       "    }\n",
       "\n",
       "    .dataframe thead th {\n",
       "        text-align: right;\n",
       "    }\n",
       "</style>\n",
       "<table border=\"1\" class=\"dataframe\">\n",
       "  <thead>\n",
       "    <tr style=\"text-align: right;\">\n",
       "      <th></th>\n",
       "      <th>AirPods</th>\n",
       "      <th>AirTag</th>\n",
       "      <th>Apple iPhone X/XS</th>\n",
       "      <th>Apple iPhone XR</th>\n",
       "      <th>Apple iPhone XS MAX</th>\n",
       "      <th>Card Holder</th>\n",
       "      <th>Custom order</th>\n",
       "      <th>Desk Mat</th>\n",
       "      <th>Galaxy N10</th>\n",
       "      <th>Galaxy Note 10 Plus</th>\n",
       "      <th>...</th>\n",
       "      <th>iPhone 11 Pro Max</th>\n",
       "      <th>iPhone 12</th>\n",
       "      <th>iPhone 13 Pro</th>\n",
       "      <th>iPhone 13 Series</th>\n",
       "      <th>iPhone 14 Series</th>\n",
       "      <th>iPhone 7/8</th>\n",
       "      <th>iPhone SE</th>\n",
       "      <th>iPhone X</th>\n",
       "      <th>iPhone X/XS</th>\n",
       "      <th>iPhone XS MAX</th>\n",
       "    </tr>\n",
       "    <tr>\n",
       "      <th>Season</th>\n",
       "      <th></th>\n",
       "      <th></th>\n",
       "      <th></th>\n",
       "      <th></th>\n",
       "      <th></th>\n",
       "      <th></th>\n",
       "      <th></th>\n",
       "      <th></th>\n",
       "      <th></th>\n",
       "      <th></th>\n",
       "      <th></th>\n",
       "      <th></th>\n",
       "      <th></th>\n",
       "      <th></th>\n",
       "      <th></th>\n",
       "      <th></th>\n",
       "      <th></th>\n",
       "      <th></th>\n",
       "      <th></th>\n",
       "      <th></th>\n",
       "      <th></th>\n",
       "    </tr>\n",
       "  </thead>\n",
       "  <tbody>\n",
       "    <tr>\n",
       "      <th>Fall</th>\n",
       "      <td>1</td>\n",
       "      <td>0</td>\n",
       "      <td>5</td>\n",
       "      <td>6</td>\n",
       "      <td>1</td>\n",
       "      <td>38</td>\n",
       "      <td>1</td>\n",
       "      <td>32</td>\n",
       "      <td>2</td>\n",
       "      <td>9</td>\n",
       "      <td>...</td>\n",
       "      <td>7</td>\n",
       "      <td>112</td>\n",
       "      <td>8</td>\n",
       "      <td>59</td>\n",
       "      <td>4</td>\n",
       "      <td>3</td>\n",
       "      <td>11</td>\n",
       "      <td>0</td>\n",
       "      <td>0</td>\n",
       "      <td>0</td>\n",
       "    </tr>\n",
       "    <tr>\n",
       "      <th>Spring</th>\n",
       "      <td>0</td>\n",
       "      <td>1</td>\n",
       "      <td>5</td>\n",
       "      <td>9</td>\n",
       "      <td>2</td>\n",
       "      <td>25</td>\n",
       "      <td>0</td>\n",
       "      <td>28</td>\n",
       "      <td>3</td>\n",
       "      <td>14</td>\n",
       "      <td>...</td>\n",
       "      <td>5</td>\n",
       "      <td>69</td>\n",
       "      <td>8</td>\n",
       "      <td>21</td>\n",
       "      <td>0</td>\n",
       "      <td>11</td>\n",
       "      <td>16</td>\n",
       "      <td>0</td>\n",
       "      <td>0</td>\n",
       "      <td>1</td>\n",
       "    </tr>\n",
       "    <tr>\n",
       "      <th>Summer</th>\n",
       "      <td>4</td>\n",
       "      <td>0</td>\n",
       "      <td>6</td>\n",
       "      <td>12</td>\n",
       "      <td>0</td>\n",
       "      <td>52</td>\n",
       "      <td>1</td>\n",
       "      <td>56</td>\n",
       "      <td>1</td>\n",
       "      <td>33</td>\n",
       "      <td>...</td>\n",
       "      <td>6</td>\n",
       "      <td>33</td>\n",
       "      <td>10</td>\n",
       "      <td>19</td>\n",
       "      <td>0</td>\n",
       "      <td>6</td>\n",
       "      <td>25</td>\n",
       "      <td>0</td>\n",
       "      <td>0</td>\n",
       "      <td>0</td>\n",
       "    </tr>\n",
       "    <tr>\n",
       "      <th>Winter</th>\n",
       "      <td>9</td>\n",
       "      <td>1</td>\n",
       "      <td>3</td>\n",
       "      <td>7</td>\n",
       "      <td>3</td>\n",
       "      <td>31</td>\n",
       "      <td>0</td>\n",
       "      <td>29</td>\n",
       "      <td>0</td>\n",
       "      <td>12</td>\n",
       "      <td>...</td>\n",
       "      <td>17</td>\n",
       "      <td>116</td>\n",
       "      <td>2</td>\n",
       "      <td>44</td>\n",
       "      <td>5</td>\n",
       "      <td>8</td>\n",
       "      <td>4</td>\n",
       "      <td>1</td>\n",
       "      <td>5</td>\n",
       "      <td>0</td>\n",
       "    </tr>\n",
       "  </tbody>\n",
       "</table>\n",
       "<p>4 rows × 46 columns</p>\n",
       "</div>"
      ],
      "text/plain": [
       "        AirPods  AirTag  Apple iPhone X/XS  Apple iPhone XR  \\\n",
       "Season                                                        \n",
       "Fall          1       0                  5                6   \n",
       "Spring        0       1                  5                9   \n",
       "Summer        4       0                  6               12   \n",
       "Winter        9       1                  3                7   \n",
       "\n",
       "        Apple iPhone XS MAX  Card Holder  Custom order  Desk Mat  Galaxy N10  \\\n",
       "Season                                                                         \n",
       "Fall                      1           38             1        32           2   \n",
       "Spring                    2           25             0        28           3   \n",
       "Summer                    0           52             1        56           1   \n",
       "Winter                    3           31             0        29           0   \n",
       "\n",
       "        Galaxy Note 10 Plus  ...  iPhone 11 Pro Max  iPhone 12  iPhone 13 Pro  \\\n",
       "Season                       ...                                                \n",
       "Fall                      9  ...                  7        112              8   \n",
       "Spring                   14  ...                  5         69              8   \n",
       "Summer                   33  ...                  6         33             10   \n",
       "Winter                   12  ...                 17        116              2   \n",
       "\n",
       "        iPhone 13 Series  iPhone 14 Series  iPhone 7/8  iPhone SE  iPhone X  \\\n",
       "Season                                                                        \n",
       "Fall                  59                 4           3         11         0   \n",
       "Spring                21                 0          11         16         0   \n",
       "Summer                19                 0           6         25         0   \n",
       "Winter                44                 5           8          4         1   \n",
       "\n",
       "        iPhone X/XS  iPhone XS MAX  \n",
       "Season                              \n",
       "Fall              0              0  \n",
       "Spring            0              1  \n",
       "Summer            0              0  \n",
       "Winter            5              0  \n",
       "\n",
       "[4 rows x 46 columns]"
      ]
     },
     "execution_count": 217,
     "metadata": {},
     "output_type": "execute_result"
    }
   ],
   "source": [
    "s"
   ]
  },
  {
   "cell_type": "code",
   "execution_count": 218,
   "id": "6ab65090",
   "metadata": {
    "scrolled": true
   },
   "outputs": [
    {
     "data": {
      "image/png": "[encoded data removed]",
      "text/plain": [
       "<Figure size 1332x756 with 1 Axes>"
      ]
     },
     "metadata": {
      "needs_background": "light"
     },
     "output_type": "display_data"
    }
   ],
   "source": [
    "s.plot(kind='bar')\n",
    "plt.legend(bbox_to_anchor=(1.05, 1), loc=2, borderaxespad=0.)\n",
    "plt.tick_params(labelsize='large')\n",
    "fig = plt.gcf()\n",
    "fig.set_size_inches(18.5, 10.5)\n",
    "fig.savefig('test2png.png', dpi=100)"
   ]
  },
  {
   "cell_type": "code",
   "execution_count": 219,
   "id": "5db4c0c3",
   "metadata": {
    "scrolled": false
   },
   "outputs": [
    {
     "data": {
      "image/png": "[encoded data removed]",
      "text/plain": [
       "<Figure size 720x720 with 4 Axes>"
      ]
     },
     "metadata": {
      "needs_background": "light"
     },
     "output_type": "display_data"
    }
   ],
   "source": [
    "g = sns.clustermap(s)"
   ]
  },
  {
   "cell_type": "code",
   "execution_count": 220,
   "id": "86fc4a0c",
   "metadata": {},
   "outputs": [],
   "source": [
    "dummy_drop = df.drop(columns=[\"Year\",\"Quantity\",\"Price\",\"Coupon Code\",\"Ship Country\",\"Color\"])"
   ]
  },
  {
   "cell_type": "code",
   "execution_count": 221,
   "id": "2e609261",
   "metadata": {},
   "outputs": [
    {
     "data": {
      "text/html": [
       "<div>\n",
       "<style scoped>\n",
       "    .dataframe tbody tr th:only-of-type {\n",
       "        vertical-align: middle;\n",
       "    }\n",
       "\n",
       "    .dataframe tbody tr th {\n",
       "        vertical-align: top;\n",
       "    }\n",
       "\n",
       "    .dataframe thead th {\n",
       "        text-align: right;\n",
       "    }\n",
       "</style>\n",
       "<table border=\"1\" class=\"dataframe\">\n",
       "  <thead>\n",
       "    <tr style=\"text-align: right;\">\n",
       "      <th></th>\n",
       "      <th>Item Model</th>\n",
       "      <th>Season</th>\n",
       "      <th>Month</th>\n",
       "    </tr>\n",
       "  </thead>\n",
       "  <tbody>\n",
       "    <tr>\n",
       "      <th>0</th>\n",
       "      <td>4</td>\n",
       "      <td>0</td>\n",
       "      <td>12</td>\n",
       "    </tr>\n",
       "    <tr>\n",
       "      <th>1</th>\n",
       "      <td>1</td>\n",
       "      <td>0</td>\n",
       "      <td>12</td>\n",
       "    </tr>\n",
       "    <tr>\n",
       "      <th>2</th>\n",
       "      <td>5</td>\n",
       "      <td>0</td>\n",
       "      <td>12</td>\n",
       "    </tr>\n",
       "    <tr>\n",
       "      <th>3</th>\n",
       "      <td>1</td>\n",
       "      <td>0</td>\n",
       "      <td>12</td>\n",
       "    </tr>\n",
       "    <tr>\n",
       "      <th>4</th>\n",
       "      <td>7</td>\n",
       "      <td>0</td>\n",
       "      <td>12</td>\n",
       "    </tr>\n",
       "    <tr>\n",
       "      <th>...</th>\n",
       "      <td>...</td>\n",
       "      <td>...</td>\n",
       "      <td>...</td>\n",
       "    </tr>\n",
       "    <tr>\n",
       "      <th>2222</th>\n",
       "      <td>12</td>\n",
       "      <td>0</td>\n",
       "      <td>1</td>\n",
       "    </tr>\n",
       "    <tr>\n",
       "      <th>2223</th>\n",
       "      <td>24</td>\n",
       "      <td>0</td>\n",
       "      <td>1</td>\n",
       "    </tr>\n",
       "    <tr>\n",
       "      <th>2224</th>\n",
       "      <td>12</td>\n",
       "      <td>0</td>\n",
       "      <td>1</td>\n",
       "    </tr>\n",
       "    <tr>\n",
       "      <th>2225</th>\n",
       "      <td>7</td>\n",
       "      <td>0</td>\n",
       "      <td>1</td>\n",
       "    </tr>\n",
       "    <tr>\n",
       "      <th>2226</th>\n",
       "      <td>24</td>\n",
       "      <td>0</td>\n",
       "      <td>1</td>\n",
       "    </tr>\n",
       "  </tbody>\n",
       "</table>\n",
       "<p>2227 rows × 3 columns</p>\n",
       "</div>"
      ],
      "text/plain": [
       "      Item Model  Season  Month\n",
       "0              4       0     12\n",
       "1              1       0     12\n",
       "2              5       0     12\n",
       "3              1       0     12\n",
       "4              7       0     12\n",
       "...          ...     ...    ...\n",
       "2222          12       0      1\n",
       "2223          24       0      1\n",
       "2224          12       0      1\n",
       "2225           7       0      1\n",
       "2226          24       0      1\n",
       "\n",
       "[2227 rows x 3 columns]"
      ]
     },
     "execution_count": 221,
     "metadata": {},
     "output_type": "execute_result"
    }
   ],
   "source": [
    "dummy_drop"
   ]
  },
  {
   "cell_type": "code",
   "execution_count": 222,
   "id": "26b3fe08",
   "metadata": {},
   "outputs": [],
   "source": [
    "dummy_df = pd.read_csv(\"../../Datasets/Bouletta/Dummy.csv\")"
   ]
  },
  {
   "cell_type": "code",
   "execution_count": 223,
   "id": "cd41d61a",
   "metadata": {},
   "outputs": [
    {
     "data": {
      "text/plain": [
       "0    2018\n",
       "1     209\n",
       "Name: Samsung Galaxy S21, dtype: int64"
      ]
     },
     "execution_count": 223,
     "metadata": {},
     "output_type": "execute_result"
    }
   ],
   "source": [
    "dummy_df['Samsung Galaxy S21'].value_counts()"
   ]
  },
  {
   "cell_type": "code",
   "execution_count": 224,
   "id": "89203e29",
   "metadata": {},
   "outputs": [],
   "source": [
    "band_df = dummy_df[[\"Samsung Galaxy S21\",\"Winter\",\"Summer\",\"Spring\",\"Fall\"]]"
   ]
  },
  {
   "cell_type": "code",
   "execution_count": 225,
   "id": "f9cc7039",
   "metadata": {},
   "outputs": [
    {
     "data": {
      "text/html": [
       "<div>\n",
       "<style scoped>\n",
       "    .dataframe tbody tr th:only-of-type {\n",
       "        vertical-align: middle;\n",
       "    }\n",
       "\n",
       "    .dataframe tbody tr th {\n",
       "        vertical-align: top;\n",
       "    }\n",
       "\n",
       "    .dataframe thead th {\n",
       "        text-align: right;\n",
       "    }\n",
       "</style>\n",
       "<table border=\"1\" class=\"dataframe\">\n",
       "  <thead>\n",
       "    <tr style=\"text-align: right;\">\n",
       "      <th></th>\n",
       "      <th>Samsung Galaxy S21</th>\n",
       "      <th>Winter</th>\n",
       "      <th>Summer</th>\n",
       "      <th>Spring</th>\n",
       "      <th>Fall</th>\n",
       "    </tr>\n",
       "  </thead>\n",
       "  <tbody>\n",
       "    <tr>\n",
       "      <th>0</th>\n",
       "      <td>0</td>\n",
       "      <td>1</td>\n",
       "      <td>0</td>\n",
       "      <td>0</td>\n",
       "      <td>0</td>\n",
       "    </tr>\n",
       "    <tr>\n",
       "      <th>1</th>\n",
       "      <td>0</td>\n",
       "      <td>1</td>\n",
       "      <td>0</td>\n",
       "      <td>0</td>\n",
       "      <td>0</td>\n",
       "    </tr>\n",
       "    <tr>\n",
       "      <th>2</th>\n",
       "      <td>0</td>\n",
       "      <td>1</td>\n",
       "      <td>0</td>\n",
       "      <td>0</td>\n",
       "      <td>0</td>\n",
       "    </tr>\n",
       "    <tr>\n",
       "      <th>3</th>\n",
       "      <td>0</td>\n",
       "      <td>1</td>\n",
       "      <td>0</td>\n",
       "      <td>0</td>\n",
       "      <td>0</td>\n",
       "    </tr>\n",
       "    <tr>\n",
       "      <th>4</th>\n",
       "      <td>0</td>\n",
       "      <td>1</td>\n",
       "      <td>0</td>\n",
       "      <td>0</td>\n",
       "      <td>0</td>\n",
       "    </tr>\n",
       "  </tbody>\n",
       "</table>\n",
       "</div>"
      ],
      "text/plain": [
       "   Samsung Galaxy S21  Winter  Summer  Spring  Fall\n",
       "0                   0       1       0       0     0\n",
       "1                   0       1       0       0     0\n",
       "2                   0       1       0       0     0\n",
       "3                   0       1       0       0     0\n",
       "4                   0       1       0       0     0"
      ]
     },
     "execution_count": 225,
     "metadata": {},
     "output_type": "execute_result"
    }
   ],
   "source": [
    "band_df.head()"
   ]
  },
  {
   "cell_type": "code",
   "execution_count": 226,
   "id": "20518da2",
   "metadata": {},
   "outputs": [],
   "source": [
    "seasons_count = pd.read_csv(\"../../Datasets/Bouletta/EtsySoldOrderItems2020-2021-2022.csv\")"
   ]
  },
  {
   "cell_type": "code",
   "execution_count": 227,
   "id": "eb1f538d",
   "metadata": {},
   "outputs": [],
   "source": [
    "reversed_seasons = {0:'Winter', 1:'Spring', 2:'Summer',3: 'Fall'}\n",
    "seasons_count['Season'] = seasons_count['Season'].map(reversed_seasons)"
   ]
  },
  {
   "cell_type": "code",
   "execution_count": 228,
   "id": "41989a66",
   "metadata": {
    "scrolled": true
   },
   "outputs": [
    {
     "data": {
      "text/plain": [
       "<AxesSubplot:>"
      ]
     },
     "execution_count": 228,
     "metadata": {},
     "output_type": "execute_result"
    },
    {
     "data": {
      "image/png": "[encoded data removed]",
      "text/plain": [
       "<Figure size 432x288 with 1 Axes>"
      ]
     },
     "metadata": {
      "needs_background": "light"
     },
     "output_type": "display_data"
    }
   ],
   "source": [
    "seasons_count[\"Season\"].value_counts().plot(kind='bar')"
   ]
  },
  {
   "cell_type": "markdown",
   "id": "6d012a9c",
   "metadata": {},
   "source": [
    "There is not much difference between the total sales of the seasons"
   ]
  },
  {
   "cell_type": "code",
   "execution_count": 229,
   "id": "1775dc50",
   "metadata": {},
   "outputs": [
    {
     "data": {
      "text/html": [
       "<div>\n",
       "<style scoped>\n",
       "    .dataframe tbody tr th:only-of-type {\n",
       "        vertical-align: middle;\n",
       "    }\n",
       "\n",
       "    .dataframe tbody tr th {\n",
       "        vertical-align: top;\n",
       "    }\n",
       "\n",
       "    .dataframe thead th {\n",
       "        text-align: right;\n",
       "    }\n",
       "</style>\n",
       "<table border=\"1\" class=\"dataframe\">\n",
       "  <thead>\n",
       "    <tr style=\"text-align: right;\">\n",
       "      <th></th>\n",
       "      <th>Samsung Galaxy S21</th>\n",
       "      <th>Winter</th>\n",
       "      <th>Summer</th>\n",
       "      <th>Spring</th>\n",
       "      <th>Fall</th>\n",
       "    </tr>\n",
       "  </thead>\n",
       "  <tbody>\n",
       "    <tr>\n",
       "      <th>Samsung Galaxy S21</th>\n",
       "      <td>1.000000</td>\n",
       "      <td>-0.008353</td>\n",
       "      <td>0.034015</td>\n",
       "      <td>-0.003317</td>\n",
       "      <td>-0.023199</td>\n",
       "    </tr>\n",
       "    <tr>\n",
       "      <th>Winter</th>\n",
       "      <td>-0.008353</td>\n",
       "      <td>1.000000</td>\n",
       "      <td>-0.350073</td>\n",
       "      <td>-0.302669</td>\n",
       "      <td>-0.339404</td>\n",
       "    </tr>\n",
       "    <tr>\n",
       "      <th>Summer</th>\n",
       "      <td>0.034015</td>\n",
       "      <td>-0.350073</td>\n",
       "      <td>1.000000</td>\n",
       "      <td>-0.325424</td>\n",
       "      <td>-0.364920</td>\n",
       "    </tr>\n",
       "    <tr>\n",
       "      <th>Spring</th>\n",
       "      <td>-0.003317</td>\n",
       "      <td>-0.302669</td>\n",
       "      <td>-0.325424</td>\n",
       "      <td>1.000000</td>\n",
       "      <td>-0.315506</td>\n",
       "    </tr>\n",
       "    <tr>\n",
       "      <th>Fall</th>\n",
       "      <td>-0.023199</td>\n",
       "      <td>-0.339404</td>\n",
       "      <td>-0.364920</td>\n",
       "      <td>-0.315506</td>\n",
       "      <td>1.000000</td>\n",
       "    </tr>\n",
       "  </tbody>\n",
       "</table>\n",
       "</div>"
      ],
      "text/plain": [
       "                    Samsung Galaxy S21    Winter    Summer    Spring      Fall\n",
       "Samsung Galaxy S21            1.000000 -0.008353  0.034015 -0.003317 -0.023199\n",
       "Winter                       -0.008353  1.000000 -0.350073 -0.302669 -0.339404\n",
       "Summer                        0.034015 -0.350073  1.000000 -0.325424 -0.364920\n",
       "Spring                       -0.003317 -0.302669 -0.325424  1.000000 -0.315506\n",
       "Fall                         -0.023199 -0.339404 -0.364920 -0.315506  1.000000"
      ]
     },
     "execution_count": 229,
     "metadata": {},
     "output_type": "execute_result"
    }
   ],
   "source": [
    "band_df.corr()"
   ]
  },
  {
   "cell_type": "markdown",
   "id": "379757e7",
   "metadata": {},
   "source": [
    "Percentage of sales in the summer for Samsung Galaxy S21 vs. other categories"
   ]
  },
  {
   "cell_type": "code",
   "execution_count": 230,
   "id": "0c6e0aa9",
   "metadata": {},
   "outputs": [
    {
     "data": {
      "text/plain": [
       "Samsung Galaxy S21\n",
       "0    0.268583\n",
       "1    0.320574\n",
       "Name: Summer, dtype: float64"
      ]
     },
     "execution_count": 230,
     "metadata": {},
     "output_type": "execute_result"
    }
   ],
   "source": [
    "band_df.groupby(\"Samsung Galaxy S21\")['Summer'].mean()"
   ]
  },
  {
   "cell_type": "markdown",
   "id": "ad1394ea",
   "metadata": {},
   "source": [
    "Percentage of sales in the winter for Samsung Galaxy S21 vs. other categories"
   ]
  },
  {
   "cell_type": "code",
   "execution_count": 231,
   "id": "842f93f8",
   "metadata": {},
   "outputs": [
    {
     "data": {
      "text/plain": [
       "Samsung Galaxy S21\n",
       "0    0.246779\n",
       "1    0.234450\n",
       "Name: Winter, dtype: float64"
      ]
     },
     "execution_count": 231,
     "metadata": {},
     "output_type": "execute_result"
    }
   ],
   "source": [
    "band_df.groupby(\"Samsung Galaxy S21\")['Winter'].mean()"
   ]
  },
  {
   "cell_type": "markdown",
   "id": "551375de",
   "metadata": {},
   "source": [
    "Percentage of sales in the spring for Samsung Galaxy S21 vs. other categories"
   ]
  },
  {
   "cell_type": "code",
   "execution_count": 232,
   "id": "344325f5",
   "metadata": {},
   "outputs": [
    {
     "data": {
      "text/plain": [
       "Samsung Galaxy S21\n",
       "0    0.220020\n",
       "1    0.215311\n",
       "Name: Spring, dtype: float64"
      ]
     },
     "execution_count": 232,
     "metadata": {},
     "output_type": "execute_result"
    }
   ],
   "source": [
    "band_df.groupby(\"Samsung Galaxy S21\")['Spring'].mean()"
   ]
  },
  {
   "cell_type": "markdown",
   "id": "539fa45f",
   "metadata": {},
   "source": [
    "Percentage of sales in the fall for Samsung Galaxy S21 vs. other categories"
   ]
  },
  {
   "cell_type": "code",
   "execution_count": 233,
   "id": "851cbc00",
   "metadata": {},
   "outputs": [
    {
     "data": {
      "text/plain": [
       "Samsung Galaxy S21\n",
       "0    0.264618\n",
       "1    0.229665\n",
       "Name: Fall, dtype: float64"
      ]
     },
     "execution_count": 233,
     "metadata": {},
     "output_type": "execute_result"
    }
   ],
   "source": [
    "band_df.groupby(\"Samsung Galaxy S21\")['Fall'].mean()"
   ]
  },
  {
   "cell_type": "code",
   "execution_count": 234,
   "id": "7d798647",
   "metadata": {},
   "outputs": [],
   "source": [
    "X = np.array(band_df[['Samsung Galaxy S21']]).reshape(-1,1)\n",
    "y= band_df['Summer']"
   ]
  },
  {
   "cell_type": "code",
   "execution_count": 237,
   "id": "6b735642",
   "metadata": {},
   "outputs": [],
   "source": [
    "lm = LogisticRegression(C=100000)"
   ]
  },
  {
   "cell_type": "code",
   "execution_count": 238,
   "id": "06814f75",
   "metadata": {},
   "outputs": [],
   "source": [
    "# X_train, X_test, y_train, y_test = train_test_split(X,y,test_size=0.2,random_state=0)"
   ]
  },
  {
   "cell_type": "code",
   "execution_count": 239,
   "id": "8c8a610e",
   "metadata": {},
   "outputs": [
    {
     "data": {
      "text/plain": [
       "LogisticRegression(C=100000)"
      ]
     },
     "execution_count": 239,
     "metadata": {},
     "output_type": "execute_result"
    }
   ],
   "source": [
    "lm.fit(X,y)"
   ]
  },
  {
   "cell_type": "code",
   "execution_count": 240,
   "id": "0860b84a",
   "metadata": {},
   "outputs": [
    {
     "name": "stdout",
     "output_type": "stream",
     "text": [
      "[('Summer', 0.25069811070666154)]\n"
     ]
    }
   ],
   "source": [
    "print(list(zip([\"Summer\"],lm.coef_[0])))"
   ]
  },
  {
   "cell_type": "markdown",
   "id": "01a8e7bd",
   "metadata": {},
   "source": [
    "The coefficient is positive which means that the variable has a positive relationship with the outcome. Specifically, in the summer season, the log odds of selling a Samsung Galaxy S21 multiply by 0.25 vs. other seasons"
   ]
  },
  {
   "cell_type": "code",
   "execution_count": 241,
   "id": "4fd1bb85",
   "metadata": {},
   "outputs": [
    {
     "data": {
      "text/plain": [
       "array([1.28492212])"
      ]
     },
     "execution_count": 241,
     "metadata": {},
     "output_type": "execute_result"
    }
   ],
   "source": [
    "#exponentiate so that the result is in terms of odds, not log of odds\n",
    "np.exp(lm.coef_[0])"
   ]
  },
  {
   "cell_type": "markdown",
   "id": "bf3a8cc0",
   "metadata": {},
   "source": [
    "By exponentiating the coefficient, we can say the odds of selling a Samsung Galaxy S21 item multiplies by 1.28 for the summer season vs. other seasons"
   ]
  },
  {
   "cell_type": "code",
   "execution_count": 242,
   "id": "fd9560b7",
   "metadata": {},
   "outputs": [
    {
     "name": "stdout",
     "output_type": "stream",
     "text": [
      "Odds of selling other item categories in summer: 0.367208\n"
     ]
    }
   ],
   "source": [
    "#What are the odds of selling other items in summer?\n",
    "print(\"Odds of selling other item categories in summer: %f\" % np.exp(lm.intercept_ ))"
   ]
  },
  {
   "cell_type": "code",
   "execution_count": 243,
   "id": "fea5ed0d",
   "metadata": {},
   "outputs": [
    {
     "name": "stdout",
     "output_type": "stream",
     "text": [
      "Odds of selling Samsung Galaxy S21 items in summer: 0.471834\n"
     ]
    }
   ],
   "source": [
    "#What are the odds of selling wedding items in summer?\n",
    "print(\"Odds of selling Samsung Galaxy S21 items in summer: %f\" % np.exp(lm.intercept_ + lm.coef_[0] ))"
   ]
  },
  {
   "cell_type": "code",
   "execution_count": 244,
   "id": "5f534ad3",
   "metadata": {
    "scrolled": true
   },
   "outputs": [
    {
     "name": "stdout",
     "output_type": "stream",
     "text": [
      "Relative Increase of Odds of selling an item in the summer if Samsung Galaxy S21 item vs. another category of item: 1.284922\n"
     ]
    }
   ],
   "source": [
    "odds_ratio= np.exp(lm.intercept_ + lm.coef_[0] ) / np.exp(lm.intercept_ )\n",
    "print(\"Relative Increase of Odds of selling an item in the summer if Samsung Galaxy S21 item vs. another category of item: %f\" % odds_ratio)"
   ]
  },
  {
   "cell_type": "code",
   "execution_count": 245,
   "id": "6a5eefe8",
   "metadata": {},
   "outputs": [],
   "source": [
    "# X_train, X_test, y_train, y_test = train_test_split(X,y,test_size=0.2,random_state=0)"
   ]
  },
  {
   "cell_type": "code",
   "execution_count": 246,
   "id": "f3dd0b6c",
   "metadata": {},
   "outputs": [],
   "source": [
    "# y_pred = log_model.predict(X_test)"
   ]
  },
  {
   "cell_type": "code",
   "execution_count": 247,
   "id": "dc243307",
   "metadata": {},
   "outputs": [],
   "source": [
    "# # Plot confusion matrix\n",
    "# cm = confusion_matrix(y_test, y_pred)\n",
    "# sns.heatmap(cm, annot=True)\n",
    "# plt.xlabel(\"Predicted label\")\n",
    "# plt.ylabel(\"True label\")\n",
    "# plt.title(\"Confusion Matrix\")\n",
    "# plt.show()"
   ]
  },
  {
   "cell_type": "code",
   "execution_count": 248,
   "id": "7aba53d4",
   "metadata": {},
   "outputs": [
    {
     "data": {
      "text/plain": [
       "array([[0.67942461, 0.32057539]])"
      ]
     },
     "execution_count": 248,
     "metadata": {},
     "output_type": "execute_result"
    }
   ],
   "source": [
    "#set our predictor to just be one row of a wedding item\n",
    "observation = [1]\n",
    "observation = np.array(observation).reshape(-1,1)\n",
    "\n",
    "#tell the trained logistic regression object to predict the probability of that observation \n",
    "#belonging to class 0 and the probability of that observation belonging to class 1\n",
    "predictions = lm.predict_proba(observation)\n",
    "predictions"
   ]
  },
  {
   "cell_type": "markdown",
   "id": "96ef7cbf",
   "metadata": {},
   "source": [
    "Our model gives that item a 68% chance of selling in seasons other than summer, and a 32% chance of selling in the summer. This probability corresponds to the data, where 32% of Samsung Galaxy S21 items sold were in the summer"
   ]
  }
 ],
 "metadata": {
  "kernelspec": {
   "display_name": "Python 3 (ipykernel)",
   "language": "python",
   "name": "python3"
  },
  "language_info": {
   "codemirror_mode": {
    "name": "ipython",
    "version": 3
   },
   "file_extension": ".py",
   "mimetype": "text/x-python",
   "name": "python",
   "nbconvert_exporter": "python",
   "pygments_lexer": "ipython3",
   "version": "3.9.12"
  }
 },
 "nbformat": 4,
 "nbformat_minor": 5
}
