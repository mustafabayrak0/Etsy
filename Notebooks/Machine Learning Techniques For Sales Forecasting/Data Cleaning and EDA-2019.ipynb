{
 "cells": [
  {
   "cell_type": "code",
   "execution_count": 1,
   "id": "929ca1f1",
   "metadata": {},
   "outputs": [],
   "source": [
    "import pandas as pd\n",
    "import matplotlib.pyplot as plt\n",
    "import numpy as np\n",
    "import seaborn as sns\n",
    "import datetime\n",
    "import statsmodels.tsa.api as smt\n",
    "from datetime import datetime"
   ]
  },
  {
   "cell_type": "code",
   "execution_count": 2,
   "id": "3aa34f37",
   "metadata": {},
   "outputs": [],
   "source": [
    "df = pd.read_excel(\"../../Datasets/Cosmexp/Cosmexp.xlsx\")"
   ]
  },
  {
   "cell_type": "code",
   "execution_count": 3,
   "id": "5475bac9",
   "metadata": {},
   "outputs": [],
   "source": [
    "df.dropna(subset=[\"Sale Date\",\"Quantity\",\"Price\",\"Discount Amount\"],inplace=True)"
   ]
  },
  {
   "cell_type": "code",
   "execution_count": 4,
   "id": "7a55d7fa",
   "metadata": {},
   "outputs": [],
   "source": [
    "df = pd.DataFrame(df[[\"Sale Date\",\"Quantity\",\"Price\",\"Discount Amount\"]])"
   ]
  },
  {
   "cell_type": "code",
   "execution_count": 5,
   "id": "fc555c2f",
   "metadata": {},
   "outputs": [
    {
     "data": {
      "text/html": [
       "<div>\n",
       "<style scoped>\n",
       "    .dataframe tbody tr th:only-of-type {\n",
       "        vertical-align: middle;\n",
       "    }\n",
       "\n",
       "    .dataframe tbody tr th {\n",
       "        vertical-align: top;\n",
       "    }\n",
       "\n",
       "    .dataframe thead th {\n",
       "        text-align: right;\n",
       "    }\n",
       "</style>\n",
       "<table border=\"1\" class=\"dataframe\">\n",
       "  <thead>\n",
       "    <tr style=\"text-align: right;\">\n",
       "      <th></th>\n",
       "      <th>Sale Date</th>\n",
       "      <th>Quantity</th>\n",
       "      <th>Price</th>\n",
       "      <th>Discount Amount</th>\n",
       "    </tr>\n",
       "  </thead>\n",
       "  <tbody>\n",
       "    <tr>\n",
       "      <th>0</th>\n",
       "      <td>12/31/19</td>\n",
       "      <td>1.0</td>\n",
       "      <td>5000.0</td>\n",
       "      <td>500.0</td>\n",
       "    </tr>\n",
       "    <tr>\n",
       "      <th>1</th>\n",
       "      <td>12/31/19</td>\n",
       "      <td>1.0</td>\n",
       "      <td>4990.0</td>\n",
       "      <td>499.0</td>\n",
       "    </tr>\n",
       "    <tr>\n",
       "      <th>2</th>\n",
       "      <td>12/31/19</td>\n",
       "      <td>1.0</td>\n",
       "      <td>5990.0</td>\n",
       "      <td>1498.0</td>\n",
       "    </tr>\n",
       "    <tr>\n",
       "      <th>3</th>\n",
       "      <td>12/31/19</td>\n",
       "      <td>1.0</td>\n",
       "      <td>4990.0</td>\n",
       "      <td>499.0</td>\n",
       "    </tr>\n",
       "    <tr>\n",
       "      <th>4</th>\n",
       "      <td>12/31/19</td>\n",
       "      <td>1.0</td>\n",
       "      <td>4990.0</td>\n",
       "      <td>499.0</td>\n",
       "    </tr>\n",
       "  </tbody>\n",
       "</table>\n",
       "</div>"
      ],
      "text/plain": [
       "  Sale Date  Quantity   Price  Discount Amount\n",
       "0  12/31/19       1.0  5000.0            500.0\n",
       "1  12/31/19       1.0  4990.0            499.0\n",
       "2  12/31/19       1.0  5990.0           1498.0\n",
       "3  12/31/19       1.0  4990.0            499.0\n",
       "4  12/31/19       1.0  4990.0            499.0"
      ]
     },
     "execution_count": 5,
     "metadata": {},
     "output_type": "execute_result"
    }
   ],
   "source": [
    "df.head(5)"
   ]
  },
  {
   "cell_type": "code",
   "execution_count": 6,
   "id": "0042e185",
   "metadata": {},
   "outputs": [],
   "source": [
    "df[\"Price\"] = (df[\"Price\"] -df[\"Discount Amount\"])/ 100"
   ]
  },
  {
   "cell_type": "code",
   "execution_count": 7,
   "id": "6fdb6160",
   "metadata": {},
   "outputs": [],
   "source": [
    "def map_seasons(dataframe,month,season,sale_date):\n",
    "    dataframe[season] = \"\"  # Add a new column named \"Season\" to the dataframe\n",
    "    for i in dataframe[sale_date]:\n",
    "        nums = str.split(i,sep=\"/\")\n",
    "        date = \"\"\n",
    "        if nums[0] in [\"12\",\"01\",\"02\"]:\n",
    "            date = \"Winter\"\n",
    "        elif nums[0] in [\"03\",\"04\",\"05\"]:\n",
    "            date = \"Spring\"\n",
    "        elif nums[0] in [\"06\",\"07\",\"08\"]:\n",
    "            date = \"Summer\"\n",
    "        elif nums[0] in [\"09\",\"10\",\"11\"]:\n",
    "            date = \"Fall\"\n",
    "        dataframe.loc[dataframe[sale_date] == i, month] = nums[0]\n",
    "    return dataframe   "
   ]
  },
  {
   "cell_type": "code",
   "execution_count": 8,
   "id": "b69ba0d1",
   "metadata": {},
   "outputs": [],
   "source": [
    "df = map_seasons(df,\"Month\",\"Season\",\"Sale Date\")"
   ]
  },
  {
   "cell_type": "code",
   "execution_count": 9,
   "id": "89da88cf",
   "metadata": {},
   "outputs": [],
   "source": [
    "def map_years(dataframe, years,sale_date):\n",
    "    dataframe[years] = \"\"\n",
    "    for i in dataframe[sale_date]:\n",
    "        date = datetime.strptime(i, \"%m/%d/%y\")\n",
    "        year = date.year\n",
    "        dataframe.loc[dataframe[sale_date] == i, years] = year\n",
    "    return dataframe"
   ]
  },
  {
   "cell_type": "code",
   "execution_count": 10,
   "id": "dc8343a5",
   "metadata": {},
   "outputs": [],
   "source": [
    "df = map_years(df,\"Year\",\"Sale Date\")"
   ]
  },
  {
   "cell_type": "code",
   "execution_count": 11,
   "id": "d004ed78",
   "metadata": {},
   "outputs": [
    {
     "data": {
      "text/html": [
       "<div>\n",
       "<style scoped>\n",
       "    .dataframe tbody tr th:only-of-type {\n",
       "        vertical-align: middle;\n",
       "    }\n",
       "\n",
       "    .dataframe tbody tr th {\n",
       "        vertical-align: top;\n",
       "    }\n",
       "\n",
       "    .dataframe thead th {\n",
       "        text-align: right;\n",
       "    }\n",
       "</style>\n",
       "<table border=\"1\" class=\"dataframe\">\n",
       "  <thead>\n",
       "    <tr style=\"text-align: right;\">\n",
       "      <th></th>\n",
       "      <th>Sale Date</th>\n",
       "      <th>Quantity</th>\n",
       "      <th>Price</th>\n",
       "      <th>Discount Amount</th>\n",
       "      <th>Season</th>\n",
       "      <th>Month</th>\n",
       "      <th>Year</th>\n",
       "    </tr>\n",
       "  </thead>\n",
       "  <tbody>\n",
       "    <tr>\n",
       "      <th>0</th>\n",
       "      <td>12/31/19</td>\n",
       "      <td>1.0</td>\n",
       "      <td>45.00</td>\n",
       "      <td>500.0</td>\n",
       "      <td></td>\n",
       "      <td>12</td>\n",
       "      <td>2019</td>\n",
       "    </tr>\n",
       "    <tr>\n",
       "      <th>1</th>\n",
       "      <td>12/31/19</td>\n",
       "      <td>1.0</td>\n",
       "      <td>44.91</td>\n",
       "      <td>499.0</td>\n",
       "      <td></td>\n",
       "      <td>12</td>\n",
       "      <td>2019</td>\n",
       "    </tr>\n",
       "    <tr>\n",
       "      <th>2</th>\n",
       "      <td>12/31/19</td>\n",
       "      <td>1.0</td>\n",
       "      <td>44.92</td>\n",
       "      <td>1498.0</td>\n",
       "      <td></td>\n",
       "      <td>12</td>\n",
       "      <td>2019</td>\n",
       "    </tr>\n",
       "    <tr>\n",
       "      <th>3</th>\n",
       "      <td>12/31/19</td>\n",
       "      <td>1.0</td>\n",
       "      <td>44.91</td>\n",
       "      <td>499.0</td>\n",
       "      <td></td>\n",
       "      <td>12</td>\n",
       "      <td>2019</td>\n",
       "    </tr>\n",
       "    <tr>\n",
       "      <th>4</th>\n",
       "      <td>12/31/19</td>\n",
       "      <td>1.0</td>\n",
       "      <td>44.91</td>\n",
       "      <td>499.0</td>\n",
       "      <td></td>\n",
       "      <td>12</td>\n",
       "      <td>2019</td>\n",
       "    </tr>\n",
       "    <tr>\n",
       "      <th>...</th>\n",
       "      <td>...</td>\n",
       "      <td>...</td>\n",
       "      <td>...</td>\n",
       "      <td>...</td>\n",
       "      <td>...</td>\n",
       "      <td>...</td>\n",
       "      <td>...</td>\n",
       "    </tr>\n",
       "    <tr>\n",
       "      <th>3668</th>\n",
       "      <td>01/01/20</td>\n",
       "      <td>1.0</td>\n",
       "      <td>49.90</td>\n",
       "      <td>0.0</td>\n",
       "      <td></td>\n",
       "      <td>01</td>\n",
       "      <td>2020</td>\n",
       "    </tr>\n",
       "    <tr>\n",
       "      <th>3669</th>\n",
       "      <td>01/01/20</td>\n",
       "      <td>1.0</td>\n",
       "      <td>49.90</td>\n",
       "      <td>0.0</td>\n",
       "      <td></td>\n",
       "      <td>01</td>\n",
       "      <td>2020</td>\n",
       "    </tr>\n",
       "    <tr>\n",
       "      <th>3670</th>\n",
       "      <td>01/01/20</td>\n",
       "      <td>1.0</td>\n",
       "      <td>49.50</td>\n",
       "      <td>550.0</td>\n",
       "      <td></td>\n",
       "      <td>01</td>\n",
       "      <td>2020</td>\n",
       "    </tr>\n",
       "    <tr>\n",
       "      <th>3671</th>\n",
       "      <td>01/01/20</td>\n",
       "      <td>1.0</td>\n",
       "      <td>54.00</td>\n",
       "      <td>600.0</td>\n",
       "      <td></td>\n",
       "      <td>01</td>\n",
       "      <td>2020</td>\n",
       "    </tr>\n",
       "    <tr>\n",
       "      <th>3672</th>\n",
       "      <td>01/01/20</td>\n",
       "      <td>1.0</td>\n",
       "      <td>45.00</td>\n",
       "      <td>500.0</td>\n",
       "      <td></td>\n",
       "      <td>01</td>\n",
       "      <td>2020</td>\n",
       "    </tr>\n",
       "  </tbody>\n",
       "</table>\n",
       "<p>3669 rows × 7 columns</p>\n",
       "</div>"
      ],
      "text/plain": [
       "     Sale Date  Quantity  Price  Discount Amount Season Month  Year\n",
       "0     12/31/19       1.0  45.00            500.0           12  2019\n",
       "1     12/31/19       1.0  44.91            499.0           12  2019\n",
       "2     12/31/19       1.0  44.92           1498.0           12  2019\n",
       "3     12/31/19       1.0  44.91            499.0           12  2019\n",
       "4     12/31/19       1.0  44.91            499.0           12  2019\n",
       "...        ...       ...    ...              ...    ...   ...   ...\n",
       "3668  01/01/20       1.0  49.90              0.0           01  2020\n",
       "3669  01/01/20       1.0  49.90              0.0           01  2020\n",
       "3670  01/01/20       1.0  49.50            550.0           01  2020\n",
       "3671  01/01/20       1.0  54.00            600.0           01  2020\n",
       "3672  01/01/20       1.0  45.00            500.0           01  2020\n",
       "\n",
       "[3669 rows x 7 columns]"
      ]
     },
     "execution_count": 11,
     "metadata": {},
     "output_type": "execute_result"
    }
   ],
   "source": [
    "df"
   ]
  },
  {
   "cell_type": "code",
   "execution_count": 12,
   "id": "6751dce4",
   "metadata": {},
   "outputs": [],
   "source": [
    "# create a new column 'Date' based on 'Month' and 'Year'\n",
    "df['Sale Date'] = pd.to_datetime(df['Year'].astype(str) + '-' + df['Month'].astype(str) + '-01')"
   ]
  },
  {
   "cell_type": "code",
   "execution_count": 13,
   "id": "db3145b7",
   "metadata": {},
   "outputs": [],
   "source": [
    "df = df.rename(columns={'Sale Date': 'date'})"
   ]
  },
  {
   "cell_type": "code",
   "execution_count": 14,
   "id": "2ae7a0e6",
   "metadata": {},
   "outputs": [
    {
     "data": {
      "text/html": [
       "<div>\n",
       "<style scoped>\n",
       "    .dataframe tbody tr th:only-of-type {\n",
       "        vertical-align: middle;\n",
       "    }\n",
       "\n",
       "    .dataframe tbody tr th {\n",
       "        vertical-align: top;\n",
       "    }\n",
       "\n",
       "    .dataframe thead th {\n",
       "        text-align: right;\n",
       "    }\n",
       "</style>\n",
       "<table border=\"1\" class=\"dataframe\">\n",
       "  <thead>\n",
       "    <tr style=\"text-align: right;\">\n",
       "      <th></th>\n",
       "      <th>date</th>\n",
       "      <th>Quantity</th>\n",
       "      <th>Price</th>\n",
       "      <th>Discount Amount</th>\n",
       "      <th>Season</th>\n",
       "      <th>Month</th>\n",
       "      <th>Year</th>\n",
       "    </tr>\n",
       "  </thead>\n",
       "  <tbody>\n",
       "    <tr>\n",
       "      <th>0</th>\n",
       "      <td>2019-12-01</td>\n",
       "      <td>1.0</td>\n",
       "      <td>45.00</td>\n",
       "      <td>500.0</td>\n",
       "      <td></td>\n",
       "      <td>12</td>\n",
       "      <td>2019</td>\n",
       "    </tr>\n",
       "    <tr>\n",
       "      <th>1</th>\n",
       "      <td>2019-12-01</td>\n",
       "      <td>1.0</td>\n",
       "      <td>44.91</td>\n",
       "      <td>499.0</td>\n",
       "      <td></td>\n",
       "      <td>12</td>\n",
       "      <td>2019</td>\n",
       "    </tr>\n",
       "    <tr>\n",
       "      <th>2</th>\n",
       "      <td>2019-12-01</td>\n",
       "      <td>1.0</td>\n",
       "      <td>44.92</td>\n",
       "      <td>1498.0</td>\n",
       "      <td></td>\n",
       "      <td>12</td>\n",
       "      <td>2019</td>\n",
       "    </tr>\n",
       "    <tr>\n",
       "      <th>3</th>\n",
       "      <td>2019-12-01</td>\n",
       "      <td>1.0</td>\n",
       "      <td>44.91</td>\n",
       "      <td>499.0</td>\n",
       "      <td></td>\n",
       "      <td>12</td>\n",
       "      <td>2019</td>\n",
       "    </tr>\n",
       "    <tr>\n",
       "      <th>4</th>\n",
       "      <td>2019-12-01</td>\n",
       "      <td>1.0</td>\n",
       "      <td>44.91</td>\n",
       "      <td>499.0</td>\n",
       "      <td></td>\n",
       "      <td>12</td>\n",
       "      <td>2019</td>\n",
       "    </tr>\n",
       "    <tr>\n",
       "      <th>...</th>\n",
       "      <td>...</td>\n",
       "      <td>...</td>\n",
       "      <td>...</td>\n",
       "      <td>...</td>\n",
       "      <td>...</td>\n",
       "      <td>...</td>\n",
       "      <td>...</td>\n",
       "    </tr>\n",
       "    <tr>\n",
       "      <th>3668</th>\n",
       "      <td>2020-01-01</td>\n",
       "      <td>1.0</td>\n",
       "      <td>49.90</td>\n",
       "      <td>0.0</td>\n",
       "      <td></td>\n",
       "      <td>01</td>\n",
       "      <td>2020</td>\n",
       "    </tr>\n",
       "    <tr>\n",
       "      <th>3669</th>\n",
       "      <td>2020-01-01</td>\n",
       "      <td>1.0</td>\n",
       "      <td>49.90</td>\n",
       "      <td>0.0</td>\n",
       "      <td></td>\n",
       "      <td>01</td>\n",
       "      <td>2020</td>\n",
       "    </tr>\n",
       "    <tr>\n",
       "      <th>3670</th>\n",
       "      <td>2020-01-01</td>\n",
       "      <td>1.0</td>\n",
       "      <td>49.50</td>\n",
       "      <td>550.0</td>\n",
       "      <td></td>\n",
       "      <td>01</td>\n",
       "      <td>2020</td>\n",
       "    </tr>\n",
       "    <tr>\n",
       "      <th>3671</th>\n",
       "      <td>2020-01-01</td>\n",
       "      <td>1.0</td>\n",
       "      <td>54.00</td>\n",
       "      <td>600.0</td>\n",
       "      <td></td>\n",
       "      <td>01</td>\n",
       "      <td>2020</td>\n",
       "    </tr>\n",
       "    <tr>\n",
       "      <th>3672</th>\n",
       "      <td>2020-01-01</td>\n",
       "      <td>1.0</td>\n",
       "      <td>45.00</td>\n",
       "      <td>500.0</td>\n",
       "      <td></td>\n",
       "      <td>01</td>\n",
       "      <td>2020</td>\n",
       "    </tr>\n",
       "  </tbody>\n",
       "</table>\n",
       "<p>3669 rows × 7 columns</p>\n",
       "</div>"
      ],
      "text/plain": [
       "           date  Quantity  Price  Discount Amount Season Month  Year\n",
       "0    2019-12-01       1.0  45.00            500.0           12  2019\n",
       "1    2019-12-01       1.0  44.91            499.0           12  2019\n",
       "2    2019-12-01       1.0  44.92           1498.0           12  2019\n",
       "3    2019-12-01       1.0  44.91            499.0           12  2019\n",
       "4    2019-12-01       1.0  44.91            499.0           12  2019\n",
       "...         ...       ...    ...              ...    ...   ...   ...\n",
       "3668 2020-01-01       1.0  49.90              0.0           01  2020\n",
       "3669 2020-01-01       1.0  49.90              0.0           01  2020\n",
       "3670 2020-01-01       1.0  49.50            550.0           01  2020\n",
       "3671 2020-01-01       1.0  54.00            600.0           01  2020\n",
       "3672 2020-01-01       1.0  45.00            500.0           01  2020\n",
       "\n",
       "[3669 rows x 7 columns]"
      ]
     },
     "execution_count": 14,
     "metadata": {},
     "output_type": "execute_result"
    }
   ],
   "source": [
    "df"
   ]
  },
  {
   "cell_type": "code",
   "execution_count": 15,
   "id": "5b8fa003",
   "metadata": {},
   "outputs": [],
   "source": [
    "df['Total Profits'] = df['Quantity'] * df['Price']"
   ]
  },
  {
   "cell_type": "code",
   "execution_count": 16,
   "id": "ea7fcd9e",
   "metadata": {},
   "outputs": [],
   "source": [
    "df.to_csv('../../Datasets/Bouletta/train.csv')"
   ]
  },
  {
   "cell_type": "code",
   "execution_count": 17,
   "id": "14a48f23",
   "metadata": {},
   "outputs": [],
   "source": [
    "def monthly_sales(data):\n",
    "    monthly_data = data.copy()\n",
    "    monthly_data = monthly_data.groupby('date')['Total Profits'].sum().reset_index()\n",
    "    print(monthly_data.shape)\n",
    "    monthly_data.date = pd.to_datetime(monthly_data.date)\n",
    "    return monthly_data"
   ]
  },
  {
   "cell_type": "code",
   "execution_count": 18,
   "id": "80f0dcd7",
   "metadata": {},
   "outputs": [
    {
     "name": "stdout",
     "output_type": "stream",
     "text": [
      "(21, 2)\n"
     ]
    },
    {
     "data": {
      "text/html": [
       "<div>\n",
       "<style scoped>\n",
       "    .dataframe tbody tr th:only-of-type {\n",
       "        vertical-align: middle;\n",
       "    }\n",
       "\n",
       "    .dataframe tbody tr th {\n",
       "        vertical-align: top;\n",
       "    }\n",
       "\n",
       "    .dataframe thead th {\n",
       "        text-align: right;\n",
       "    }\n",
       "</style>\n",
       "<table border=\"1\" class=\"dataframe\">\n",
       "  <thead>\n",
       "    <tr style=\"text-align: right;\">\n",
       "      <th></th>\n",
       "      <th>date</th>\n",
       "      <th>Total Profits</th>\n",
       "    </tr>\n",
       "  </thead>\n",
       "  <tbody>\n",
       "    <tr>\n",
       "      <th>0</th>\n",
       "      <td>2019-01-01</td>\n",
       "      <td>1784.49</td>\n",
       "    </tr>\n",
       "    <tr>\n",
       "      <th>1</th>\n",
       "      <td>2019-02-01</td>\n",
       "      <td>1661.71</td>\n",
       "    </tr>\n",
       "    <tr>\n",
       "      <th>2</th>\n",
       "      <td>2019-03-01</td>\n",
       "      <td>1520.22</td>\n",
       "    </tr>\n",
       "    <tr>\n",
       "      <th>3</th>\n",
       "      <td>2019-04-01</td>\n",
       "      <td>1140.89</td>\n",
       "    </tr>\n",
       "    <tr>\n",
       "      <th>4</th>\n",
       "      <td>2019-05-01</td>\n",
       "      <td>2650.14</td>\n",
       "    </tr>\n",
       "    <tr>\n",
       "      <th>5</th>\n",
       "      <td>2019-06-01</td>\n",
       "      <td>2603.02</td>\n",
       "    </tr>\n",
       "    <tr>\n",
       "      <th>6</th>\n",
       "      <td>2019-07-01</td>\n",
       "      <td>2990.11</td>\n",
       "    </tr>\n",
       "    <tr>\n",
       "      <th>7</th>\n",
       "      <td>2019-08-01</td>\n",
       "      <td>3834.81</td>\n",
       "    </tr>\n",
       "    <tr>\n",
       "      <th>8</th>\n",
       "      <td>2019-09-01</td>\n",
       "      <td>4352.32</td>\n",
       "    </tr>\n",
       "    <tr>\n",
       "      <th>9</th>\n",
       "      <td>2019-10-01</td>\n",
       "      <td>6059.99</td>\n",
       "    </tr>\n",
       "    <tr>\n",
       "      <th>10</th>\n",
       "      <td>2019-11-01</td>\n",
       "      <td>5713.28</td>\n",
       "    </tr>\n",
       "    <tr>\n",
       "      <th>11</th>\n",
       "      <td>2019-12-01</td>\n",
       "      <td>15671.72</td>\n",
       "    </tr>\n",
       "    <tr>\n",
       "      <th>12</th>\n",
       "      <td>2020-01-01</td>\n",
       "      <td>13163.33</td>\n",
       "    </tr>\n",
       "    <tr>\n",
       "      <th>13</th>\n",
       "      <td>2020-02-01</td>\n",
       "      <td>13061.57</td>\n",
       "    </tr>\n",
       "    <tr>\n",
       "      <th>14</th>\n",
       "      <td>2020-03-01</td>\n",
       "      <td>11399.91</td>\n",
       "    </tr>\n",
       "    <tr>\n",
       "      <th>15</th>\n",
       "      <td>2020-04-01</td>\n",
       "      <td>14030.52</td>\n",
       "    </tr>\n",
       "    <tr>\n",
       "      <th>16</th>\n",
       "      <td>2020-05-01</td>\n",
       "      <td>14051.33</td>\n",
       "    </tr>\n",
       "    <tr>\n",
       "      <th>17</th>\n",
       "      <td>2020-06-01</td>\n",
       "      <td>9803.42</td>\n",
       "    </tr>\n",
       "    <tr>\n",
       "      <th>18</th>\n",
       "      <td>2020-07-01</td>\n",
       "      <td>11206.02</td>\n",
       "    </tr>\n",
       "    <tr>\n",
       "      <th>19</th>\n",
       "      <td>2020-08-01</td>\n",
       "      <td>9586.44</td>\n",
       "    </tr>\n",
       "    <tr>\n",
       "      <th>20</th>\n",
       "      <td>2020-09-01</td>\n",
       "      <td>3203.38</td>\n",
       "    </tr>\n",
       "  </tbody>\n",
       "</table>\n",
       "</div>"
      ],
      "text/plain": [
       "         date  Total Profits\n",
       "0  2019-01-01        1784.49\n",
       "1  2019-02-01        1661.71\n",
       "2  2019-03-01        1520.22\n",
       "3  2019-04-01        1140.89\n",
       "4  2019-05-01        2650.14\n",
       "5  2019-06-01        2603.02\n",
       "6  2019-07-01        2990.11\n",
       "7  2019-08-01        3834.81\n",
       "8  2019-09-01        4352.32\n",
       "9  2019-10-01        6059.99\n",
       "10 2019-11-01        5713.28\n",
       "11 2019-12-01       15671.72\n",
       "12 2020-01-01       13163.33\n",
       "13 2020-02-01       13061.57\n",
       "14 2020-03-01       11399.91\n",
       "15 2020-04-01       14030.52\n",
       "16 2020-05-01       14051.33\n",
       "17 2020-06-01        9803.42\n",
       "18 2020-07-01       11206.02\n",
       "19 2020-08-01        9586.44\n",
       "20 2020-09-01        3203.38"
      ]
     },
     "execution_count": 18,
     "metadata": {},
     "output_type": "execute_result"
    }
   ],
   "source": [
    "monthly_df = monthly_sales(df)\n",
    "monthly_df"
   ]
  },
  {
   "cell_type": "code",
   "execution_count": 19,
   "id": "b24b44d3",
   "metadata": {},
   "outputs": [
    {
     "data": {
      "text/plain": [
       "(3669, 8)"
      ]
     },
     "execution_count": 19,
     "metadata": {},
     "output_type": "execute_result"
    }
   ],
   "source": [
    "df.shape"
   ]
  },
  {
   "cell_type": "code",
   "execution_count": 20,
   "id": "cc0d7b0d",
   "metadata": {},
   "outputs": [
    {
     "data": {
      "text/plain": [
       "(21, 2)"
      ]
     },
     "execution_count": 20,
     "metadata": {},
     "output_type": "execute_result"
    }
   ],
   "source": [
    "monthly_df.shape"
   ]
  },
  {
   "cell_type": "code",
   "execution_count": 21,
   "id": "d5cbfa29",
   "metadata": {},
   "outputs": [],
   "source": [
    "def time_plot(data, x_col, y_col, title):\n",
    "    fig, ax = plt.subplots(figsize=(15,5))\n",
    "    sns.lineplot(x_col, y_col, data=data, ax=ax, color='mediumblue', label='Total Sales')\n",
    "    second = data.groupby(data.date.dt.year)[y_col].mean().reset_index()\n",
    "    second.date = pd.to_datetime(second.date, format='%Y')\n",
    "    sns.lineplot((second.date + datetime.timedelta(6*365/12)), y_col, data=second, ax=ax, color='red',\\\n",
    "                 label='Mean Sales')   \n",
    "    ax.set(xlabel = \"date\",ylabel = \"Total Profits\",title = title)\n",
    "    sns.despine()"
   ]
  },
  {
   "cell_type": "code",
   "execution_count": 22,
   "id": "222a30ab",
   "metadata": {},
   "outputs": [
    {
     "name": "stderr",
     "output_type": "stream",
     "text": [
      "C:\\Users\\Hp\\anaconda3\\lib\\site-packages\\seaborn\\_decorators.py:36: FutureWarning: Pass the following variables as keyword args: x, y. From version 0.12, the only valid positional argument will be `data`, and passing other arguments without an explicit keyword will result in an error or misinterpretation.\n",
      "  warnings.warn(\n"
     ]
    },
    {
     "ename": "AttributeError",
     "evalue": "type object 'datetime.datetime' has no attribute 'timedelta'",
     "output_type": "error",
     "traceback": [
      "\u001b[1;31m---------------------------------------------------------------------------\u001b[0m",
      "\u001b[1;31mAttributeError\u001b[0m                            Traceback (most recent call last)",
      "Input \u001b[1;32mIn [22]\u001b[0m, in \u001b[0;36m<cell line: 1>\u001b[1;34m()\u001b[0m\n\u001b[1;32m----> 1\u001b[0m \u001b[43mtime_plot\u001b[49m\u001b[43m(\u001b[49m\u001b[43mmonthly_df\u001b[49m\u001b[43m,\u001b[49m\u001b[43m \u001b[49m\u001b[38;5;124;43m'\u001b[39;49m\u001b[38;5;124;43mdate\u001b[39;49m\u001b[38;5;124;43m'\u001b[39;49m\u001b[43m,\u001b[49m\u001b[43m \u001b[49m\u001b[38;5;124;43m'\u001b[39;49m\u001b[38;5;124;43mTotal Profits\u001b[39;49m\u001b[38;5;124;43m'\u001b[39;49m\u001b[43m,\u001b[49m\u001b[43m \u001b[49m\u001b[38;5;124;43m'\u001b[39;49m\u001b[38;5;124;43mMonthly Sales Before Diff Transformation\u001b[39;49m\u001b[38;5;124;43m'\u001b[39;49m\u001b[43m)\u001b[49m\n",
      "Input \u001b[1;32mIn [21]\u001b[0m, in \u001b[0;36mtime_plot\u001b[1;34m(data, x_col, y_col, title)\u001b[0m\n\u001b[0;32m      4\u001b[0m second \u001b[38;5;241m=\u001b[39m data\u001b[38;5;241m.\u001b[39mgroupby(data\u001b[38;5;241m.\u001b[39mdate\u001b[38;5;241m.\u001b[39mdt\u001b[38;5;241m.\u001b[39myear)[y_col]\u001b[38;5;241m.\u001b[39mmean()\u001b[38;5;241m.\u001b[39mreset_index()\n\u001b[0;32m      5\u001b[0m second\u001b[38;5;241m.\u001b[39mdate \u001b[38;5;241m=\u001b[39m pd\u001b[38;5;241m.\u001b[39mto_datetime(second\u001b[38;5;241m.\u001b[39mdate, \u001b[38;5;28mformat\u001b[39m\u001b[38;5;241m=\u001b[39m\u001b[38;5;124m'\u001b[39m\u001b[38;5;124m%\u001b[39m\u001b[38;5;124mY\u001b[39m\u001b[38;5;124m'\u001b[39m)\n\u001b[1;32m----> 6\u001b[0m sns\u001b[38;5;241m.\u001b[39mlineplot((second\u001b[38;5;241m.\u001b[39mdate \u001b[38;5;241m+\u001b[39m \u001b[43mdatetime\u001b[49m\u001b[38;5;241;43m.\u001b[39;49m\u001b[43mtimedelta\u001b[49m(\u001b[38;5;241m6\u001b[39m\u001b[38;5;241m*\u001b[39m\u001b[38;5;241m365\u001b[39m\u001b[38;5;241m/\u001b[39m\u001b[38;5;241m12\u001b[39m)), y_col, data\u001b[38;5;241m=\u001b[39msecond, ax\u001b[38;5;241m=\u001b[39max, color\u001b[38;5;241m=\u001b[39m\u001b[38;5;124m'\u001b[39m\u001b[38;5;124mred\u001b[39m\u001b[38;5;124m'\u001b[39m,\\\n\u001b[0;32m      7\u001b[0m              label\u001b[38;5;241m=\u001b[39m\u001b[38;5;124m'\u001b[39m\u001b[38;5;124mMean Sales\u001b[39m\u001b[38;5;124m'\u001b[39m)   \n\u001b[0;32m      8\u001b[0m ax\u001b[38;5;241m.\u001b[39mset(xlabel \u001b[38;5;241m=\u001b[39m \u001b[38;5;124m\"\u001b[39m\u001b[38;5;124mdate\u001b[39m\u001b[38;5;124m\"\u001b[39m,ylabel \u001b[38;5;241m=\u001b[39m \u001b[38;5;124m\"\u001b[39m\u001b[38;5;124mTotal Profits\u001b[39m\u001b[38;5;124m\"\u001b[39m,title \u001b[38;5;241m=\u001b[39m title)\n\u001b[0;32m      9\u001b[0m sns\u001b[38;5;241m.\u001b[39mdespine()\n",
      "\u001b[1;31mAttributeError\u001b[0m: type object 'datetime.datetime' has no attribute 'timedelta'"
     ]
    },
    {
     "data": {
      "image/png": "[encoded data removed]",
      "text/plain": [
       "<Figure size 1080x360 with 1 Axes>"
      ]
     },
     "metadata": {
      "needs_background": "light"
     },
     "output_type": "display_data"
    }
   ],
   "source": [
    "time_plot(monthly_df, 'date', 'Total Profits', 'Monthly Sales Before Diff Transformation')"
   ]
  },
  {
   "cell_type": "code",
   "execution_count": null,
   "id": "38fa1c13",
   "metadata": {},
   "outputs": [],
   "source": [
    "def get_diff(data):\n",
    "    data['sales_diff'] = data[\"Total Profits\"].diff()\n",
    "    data = data.dropna()\n",
    "    data.to_csv('../../Datasets/Bouletta/stationary_df.csv')\n",
    "    return data"
   ]
  },
  {
   "cell_type": "code",
   "execution_count": null,
   "id": "9785310b",
   "metadata": {},
   "outputs": [],
   "source": [
    "stationary_df = get_diff(monthly_df)"
   ]
  },
  {
   "cell_type": "code",
   "execution_count": null,
   "id": "4fa7f199",
   "metadata": {},
   "outputs": [],
   "source": [
    "stationary_df"
   ]
  },
  {
   "cell_type": "code",
   "execution_count": null,
   "id": "d6557b5c",
   "metadata": {},
   "outputs": [],
   "source": [
    "time_plot(stationary_df, 'date', 'sales_diff', 'Monthly Sales After Diff Transformation')"
   ]
  },
  {
   "cell_type": "code",
   "execution_count": null,
   "id": "d96608a4",
   "metadata": {},
   "outputs": [],
   "source": [
    "def plots(data, lags=None):\n",
    "    \n",
    "    # Convert dataframe to datetime index\n",
    "    dt_data = data.set_index('date').drop('Total Profits', axis=1)\n",
    "    dt_data.dropna(axis=0)\n",
    "    \n",
    "    layout = (1, 2)\n",
    "    raw  = plt.subplot2grid(layout, (0, 0))\n",
    "    acf  = plt.subplot2grid(layout, (0, 1))\n",
    "#     pacf = plt.subplot2grid(layout, (0, 2))\n",
    "    \n",
    "    dt_data.plot(ax=raw, figsize=(12, 5), color='mediumblue')\n",
    "    smt.graphics.plot_acf(dt_data, lags=lags, ax=acf, color='mediumblue')\n",
    "#     smt.graphics.plot_pacf(dt_data, lags=lags, ax=pacf, color='mediumblue')\n",
    "    sns.despine()\n",
    "    plt.tight_layout()\n",
    "\n",
    "plots(stationary_df, lags=24);"
   ]
  },
  {
   "cell_type": "markdown",
   "id": "700ca638",
   "metadata": {},
   "source": [
    "***Regressive Modeling***"
   ]
  },
  {
   "cell_type": "code",
   "execution_count": null,
   "id": "8b21d0dd",
   "metadata": {},
   "outputs": [],
   "source": [
    "#create dataframe for transformation from time series to supervised\n",
    "def generate_supervised(data):\n",
    "    supervised_df = data.copy()\n",
    "    \n",
    "    #create column for each lag\n",
    "    for i in range(1,13):\n",
    "        col_name = 'lag_' + str(i)\n",
    "        supervised_df[col_name] = supervised_df['sales_diff'].shift(i)\n",
    "    \n",
    "    #drop null values\n",
    "    supervised_df = supervised_df.dropna().reset_index(drop=True)\n",
    "    \n",
    "    supervised_df.to_csv('../../Datasets/Bouletta/model_df.csv', index=False)\n",
    "    \n",
    "    return supervised_df"
   ]
  },
  {
   "cell_type": "code",
   "execution_count": null,
   "id": "7b96e0d9",
   "metadata": {},
   "outputs": [],
   "source": [
    "model_df = generate_supervised(stationary_df)"
   ]
  },
  {
   "cell_type": "code",
   "execution_count": null,
   "id": "da6209db",
   "metadata": {},
   "outputs": [],
   "source": [
    "model_df"
   ]
  },
  {
   "cell_type": "markdown",
   "id": "9ab5d9c6",
   "metadata": {},
   "source": [
    "***ARIMA Modeling***"
   ]
  },
  {
   "cell_type": "code",
   "execution_count": null,
   "id": "2be74002",
   "metadata": {},
   "outputs": [],
   "source": [
    "def generate_arima_data(data):\n",
    "    dt_data = data.set_index('date').drop('Total Profits', axis=1)\n",
    "    dt_data.dropna(axis=0)\n",
    "    \n",
    "    dt_data.to_csv('../../Datasets/Bouletta/arima_df.csv')\n",
    "    \n",
    "    return dt_data"
   ]
  },
  {
   "cell_type": "code",
   "execution_count": null,
   "id": "aade7278",
   "metadata": {},
   "outputs": [],
   "source": [
    "datetime_df = generate_arima_data(stationary_df)"
   ]
  },
  {
   "cell_type": "code",
   "execution_count": null,
   "id": "fcd5da91",
   "metadata": {},
   "outputs": [],
   "source": [
    "datetime_df"
   ]
  }
 ],
 "metadata": {
  "kernelspec": {
   "display_name": "Python 3 (ipykernel)",
   "language": "python",
   "name": "python3"
  },
  "language_info": {
   "codemirror_mode": {
    "name": "ipython",
    "version": 3
   },
   "file_extension": ".py",
   "mimetype": "text/x-python",
   "name": "python",
   "nbconvert_exporter": "python",
   "pygments_lexer": "ipython3",
   "version": "3.9.12"
  }
 },
 "nbformat": 4,
 "nbformat_minor": 5
}
