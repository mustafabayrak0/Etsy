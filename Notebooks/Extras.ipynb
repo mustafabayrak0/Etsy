{
 "cells": [
  {
   "cell_type": "code",
   "execution_count": 370,
   "id": "2db017d7",
   "metadata": {},
   "outputs": [],
   "source": [
    "import pandas as pd\n",
    "import numpy as np\n",
    "import matplotlib.pyplot as plt\n",
    "import datetime"
   ]
  },
  {
   "cell_type": "code",
   "execution_count": 371,
   "id": "53c7fe33",
   "metadata": {},
   "outputs": [],
   "source": [
    "df_2020 = pd.read_csv(\"EtsySoldOrderItems2020.csv\")\n",
    "df_2021 = pd.read_csv(\"EtsySoldOrderItems2021.csv\")\n",
    "df_2022 = pd.read_csv(\"EtsySoldOrderItems2022.csv\")"
   ]
  },
  {
   "cell_type": "code",
   "execution_count": 372,
   "id": "2190b1ec",
   "metadata": {},
   "outputs": [],
   "source": [
    "df = pd.concat([df_2020, df_2021, df_2022])"
   ]
  },
  {
   "cell_type": "code",
   "execution_count": 373,
   "id": "2c3edc33",
   "metadata": {},
   "outputs": [],
   "source": [
    "df.drop(columns=['Buyer','Coupon Details','Shipping Discount','Order Shipping',\\\n",
    "                      'Order Sales Tax','Item Total', 'Currency','Transaction ID', 'Listing ID',\\\n",
    "                      'Date Paid', 'Date Shipped','Ship Name', 'Ship Address1', 'Ship Address2',\\\n",
    "                      'Ship Zipcode', 'Variations','Order Type', 'Listings Type',\\\n",
    "                      'Payment Type', 'InPerson Discount','InPerson Location', 'VAT Paid by Buyer',\\\n",
    "                      'SKU','Ship City','Ship State',\"Item Name\",\"Coupon Code\",\"Ship Country\",\\\n",
    "                \"Order ID\"],inplace = True)"
   ]
  },
  {
   "cell_type": "code",
   "execution_count": 374,
   "id": "5436f495",
   "metadata": {},
   "outputs": [
    {
     "data": {
      "text/html": [
       "<div>\n",
       "<style scoped>\n",
       "    .dataframe tbody tr th:only-of-type {\n",
       "        vertical-align: middle;\n",
       "    }\n",
       "\n",
       "    .dataframe tbody tr th {\n",
       "        vertical-align: top;\n",
       "    }\n",
       "\n",
       "    .dataframe thead th {\n",
       "        text-align: right;\n",
       "    }\n",
       "</style>\n",
       "<table border=\"1\" class=\"dataframe\">\n",
       "  <thead>\n",
       "    <tr style=\"text-align: right;\">\n",
       "      <th></th>\n",
       "      <th>Sale Date</th>\n",
       "      <th>Quantity</th>\n",
       "      <th>Price</th>\n",
       "      <th>Discount Amount</th>\n",
       "    </tr>\n",
       "  </thead>\n",
       "  <tbody>\n",
       "    <tr>\n",
       "      <th>0</th>\n",
       "      <td>12/31/20</td>\n",
       "      <td>1</td>\n",
       "      <td>44.67</td>\n",
       "      <td>11.17</td>\n",
       "    </tr>\n",
       "    <tr>\n",
       "      <th>1</th>\n",
       "      <td>12/31/20</td>\n",
       "      <td>1</td>\n",
       "      <td>52.00</td>\n",
       "      <td>13.00</td>\n",
       "    </tr>\n",
       "  </tbody>\n",
       "</table>\n",
       "</div>"
      ],
      "text/plain": [
       "  Sale Date  Quantity  Price  Discount Amount\n",
       "0  12/31/20         1  44.67            11.17\n",
       "1  12/31/20         1  52.00            13.00"
      ]
     },
     "execution_count": 374,
     "metadata": {},
     "output_type": "execute_result"
    }
   ],
   "source": [
    "df.head(2)"
   ]
  },
  {
   "cell_type": "code",
   "execution_count": 388,
   "id": "0843beb4",
   "metadata": {},
   "outputs": [],
   "source": [
    "def map_years(dataframe, years, days,months, sale_date):\n",
    "    dataframe[years] = \"\"\n",
    "    dataframe[days] = \"\"\n",
    "    for i in dataframe[sale_date]:\n",
    "        date = datetime.datetime.strptime(i, \"%m/%d/%y\")\n",
    "        year = date.year\n",
    "        month = date.month\n",
    "        day_of_year = date.strftime(\"%j\")\n",
    "        dataframe.loc[dataframe[sale_date] == i, years] = year\n",
    "        dataframe.loc[dataframe[sale_date] == i, days] = int(day_of_year)\n",
    "        dataframe.loc[dataframe[sale_date] == i, months] = int(month)\n",
    "    return dataframe"
   ]
  },
  {
   "cell_type": "code",
   "execution_count": 389,
   "id": "370b1adc",
   "metadata": {},
   "outputs": [],
   "source": [
    "df = map_years(df,\"Year\",\"Day\",\"Month\",\"Sale Date\")"
   ]
  },
  {
   "cell_type": "code",
   "execution_count": 390,
   "id": "b642e3f4",
   "metadata": {},
   "outputs": [
    {
     "data": {
      "text/html": [
       "<div>\n",
       "<style scoped>\n",
       "    .dataframe tbody tr th:only-of-type {\n",
       "        vertical-align: middle;\n",
       "    }\n",
       "\n",
       "    .dataframe tbody tr th {\n",
       "        vertical-align: top;\n",
       "    }\n",
       "\n",
       "    .dataframe thead th {\n",
       "        text-align: right;\n",
       "    }\n",
       "</style>\n",
       "<table border=\"1\" class=\"dataframe\">\n",
       "  <thead>\n",
       "    <tr style=\"text-align: right;\">\n",
       "      <th></th>\n",
       "      <th>Sale Date</th>\n",
       "      <th>Quantity</th>\n",
       "      <th>Price</th>\n",
       "      <th>Discount Amount</th>\n",
       "      <th>Year</th>\n",
       "      <th>Day</th>\n",
       "      <th>Month</th>\n",
       "    </tr>\n",
       "  </thead>\n",
       "  <tbody>\n",
       "    <tr>\n",
       "      <th>0</th>\n",
       "      <td>12/31/20</td>\n",
       "      <td>1</td>\n",
       "      <td>44.67</td>\n",
       "      <td>11.17</td>\n",
       "      <td>2020</td>\n",
       "      <td>366</td>\n",
       "      <td>12.0</td>\n",
       "    </tr>\n",
       "    <tr>\n",
       "      <th>1</th>\n",
       "      <td>12/31/20</td>\n",
       "      <td>1</td>\n",
       "      <td>52.00</td>\n",
       "      <td>13.00</td>\n",
       "      <td>2020</td>\n",
       "      <td>366</td>\n",
       "      <td>12.0</td>\n",
       "    </tr>\n",
       "  </tbody>\n",
       "</table>\n",
       "</div>"
      ],
      "text/plain": [
       "  Sale Date  Quantity  Price  Discount Amount  Year  Day  Month\n",
       "0  12/31/20         1  44.67            11.17  2020  366   12.0\n",
       "1  12/31/20         1  52.00            13.00  2020  366   12.0"
      ]
     },
     "execution_count": 390,
     "metadata": {},
     "output_type": "execute_result"
    }
   ],
   "source": [
    "df.head(2)"
   ]
  },
  {
   "cell_type": "code",
   "execution_count": 395,
   "id": "bf7615fd",
   "metadata": {},
   "outputs": [],
   "source": [
    "x = pd.DataFrame(df.groupby([\"Year\"]).sum()).drop(columns=[\"Month\"])"
   ]
  },
  {
   "cell_type": "code",
   "execution_count": 396,
   "id": "789acfdb",
   "metadata": {},
   "outputs": [],
   "source": [
    "x[\"Total Profit\"] = x[\"Price\"] - x[\"Discount Amount\"]"
   ]
  },
  {
   "cell_type": "code",
   "execution_count": 397,
   "id": "d750734c",
   "metadata": {},
   "outputs": [
    {
     "data": {
      "text/html": [
       "<div>\n",
       "<style scoped>\n",
       "    .dataframe tbody tr th:only-of-type {\n",
       "        vertical-align: middle;\n",
       "    }\n",
       "\n",
       "    .dataframe tbody tr th {\n",
       "        vertical-align: top;\n",
       "    }\n",
       "\n",
       "    .dataframe thead th {\n",
       "        text-align: right;\n",
       "    }\n",
       "</style>\n",
       "<table border=\"1\" class=\"dataframe\">\n",
       "  <thead>\n",
       "    <tr style=\"text-align: right;\">\n",
       "      <th></th>\n",
       "      <th>Quantity</th>\n",
       "      <th>Price</th>\n",
       "      <th>Discount Amount</th>\n",
       "      <th>Total Profit</th>\n",
       "    </tr>\n",
       "    <tr>\n",
       "      <th>Year</th>\n",
       "      <th></th>\n",
       "      <th></th>\n",
       "      <th></th>\n",
       "      <th></th>\n",
       "    </tr>\n",
       "  </thead>\n",
       "  <tbody>\n",
       "    <tr>\n",
       "      <th>2020</th>\n",
       "      <td>706</td>\n",
       "      <td>42233.51</td>\n",
       "      <td>8976.09</td>\n",
       "      <td>33257.42</td>\n",
       "    </tr>\n",
       "    <tr>\n",
       "      <th>2021</th>\n",
       "      <td>995</td>\n",
       "      <td>70220.94</td>\n",
       "      <td>17329.83</td>\n",
       "      <td>52891.11</td>\n",
       "    </tr>\n",
       "    <tr>\n",
       "      <th>2022</th>\n",
       "      <td>597</td>\n",
       "      <td>49463.54</td>\n",
       "      <td>13381.96</td>\n",
       "      <td>36081.58</td>\n",
       "    </tr>\n",
       "  </tbody>\n",
       "</table>\n",
       "</div>"
      ],
      "text/plain": [
       "      Quantity     Price  Discount Amount  Total Profit\n",
       "Year                                                   \n",
       "2020       706  42233.51          8976.09      33257.42\n",
       "2021       995  70220.94         17329.83      52891.11\n",
       "2022       597  49463.54         13381.96      36081.58"
      ]
     },
     "execution_count": 397,
     "metadata": {},
     "output_type": "execute_result"
    }
   ],
   "source": [
    "x.head()"
   ]
  },
  {
   "cell_type": "code",
   "execution_count": 398,
   "id": "6cfc7084",
   "metadata": {},
   "outputs": [],
   "source": [
    "x = x.reset_index()"
   ]
  },
  {
   "cell_type": "code",
   "execution_count": 399,
   "id": "31ce6555",
   "metadata": {},
   "outputs": [
    {
     "data": {
      "image/png": "[encoded data removed]",
      "text/plain": [
       "<Figure size 432x288 with 1 Axes>"
      ]
     },
     "metadata": {
      "needs_background": "light"
     },
     "output_type": "display_data"
    }
   ],
   "source": [
    "x.plot(kind=\"bar\", x=\"Year\", y=[\"Total Profit\"])\n",
    "plt.title(\"Total Profit by Year\")\n",
    "plt.xlabel(\"Year\")\n",
    "plt.ylabel(\"Value\")\n",
    "plt.show()"
   ]
  },
  {
   "cell_type": "code",
   "execution_count": 412,
   "id": "c60a4ceb",
   "metadata": {},
   "outputs": [
    {
     "data": {
      "image/png": "[encoded data removed]",
      "text/plain": [
       "<Figure size 432x288 with 1 Axes>"
      ]
     },
     "metadata": {
      "needs_background": "light"
     },
     "output_type": "display_data"
    }
   ],
   "source": [
    "x.plot(kind=\"bar\", x=\"Year\", y=[\"Quantity\"],color=\"g\")\n",
    "plt.title(\"Total Quantities by Year\")\n",
    "plt.xlabel(\"Year\")\n",
    "plt.ylabel(\"Value\")\n",
    "plt.show()"
   ]
  },
  {
   "cell_type": "code",
   "execution_count": 406,
   "id": "490caf7b",
   "metadata": {},
   "outputs": [],
   "source": [
    "grouped = df.groupby(['Year', 'Month'])\n",
    "monthly_quantities = grouped['Quantity'].sum()\n",
    "monthly_quantities = monthly_quantities.reset_index()"
   ]
  },
  {
   "cell_type": "code",
   "execution_count": 410,
   "id": "68cbfa96",
   "metadata": {
    "scrolled": true
   },
   "outputs": [
    {
     "data": {
      "image/png": "[encoded data removed]",
      "text/plain": [
       "<Figure size 576x360 with 1 Axes>"
      ]
     },
     "metadata": {
      "needs_background": "light"
     },
     "output_type": "display_data"
    },
    {
     "data": {
      "image/png": "[encoded data removed]",
      "text/plain": [
       "<Figure size 576x360 with 1 Axes>"
      ]
     },
     "metadata": {
      "needs_background": "light"
     },
     "output_type": "display_data"
    },
    {
     "data": {
      "image/png": "[encoded data removed]",
      "text/plain": [
       "<Figure size 576x360 with 1 Axes>"
      ]
     },
     "metadata": {
      "needs_background": "light"
     },
     "output_type": "display_data"
    }
   ],
   "source": [
    "for year in monthly_quantities['Year'].unique():\n",
    "    plt.figure(figsize=(8, 5))  # Set the figure size to 10 inches wide by 6 inches tall\n",
    "    plt.bar(monthly_quantities.loc[monthly_quantities['Year'] == year, 'Month'],\n",
    "             monthly_quantities.loc[monthly_quantities['Year'] == year, 'Quantity'])\n",
    "    plt.xlabel('Month')\n",
    "    plt.ylabel('Monthly Order Quantities')\n",
    "    plt.title(f'Monthly Order Quantities for {year}')\n",
    "    plt.show()"
   ]
  },
  {
   "cell_type": "code",
   "execution_count": null,
   "id": "1bec56a7",
   "metadata": {},
   "outputs": [],
   "source": []
  }
 ],
 "metadata": {
  "kernelspec": {
   "display_name": "Python 3 (ipykernel)",
   "language": "python",
   "name": "python3"
  },
  "language_info": {
   "codemirror_mode": {
    "name": "ipython",
    "version": 3
   },
   "file_extension": ".py",
   "mimetype": "text/x-python",
   "name": "python",
   "nbconvert_exporter": "python",
   "pygments_lexer": "ipython3",
   "version": "3.9.12"
  }
 },
 "nbformat": 4,
 "nbformat_minor": 5
}
