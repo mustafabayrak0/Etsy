{
 "cells": [
  {
   "cell_type": "code",
   "execution_count": 365,
   "id": "5ef90173",
   "metadata": {},
   "outputs": [],
   "source": [
    "import pandas as pd\n",
    "import numpy as np\n",
    "import matplotlib.pyplot as plt"
   ]
  },
  {
   "cell_type": "code",
   "execution_count": 366,
   "id": "34923581",
   "metadata": {},
   "outputs": [],
   "source": [
    "df = pd.read_csv(\"EtsySoldOrderItems2020-2021-2022.csv\")"
   ]
  },
  {
   "cell_type": "code",
   "execution_count": 367,
   "id": "502db9ea",
   "metadata": {},
   "outputs": [],
   "source": [
    "model_map = {\"iPhone 12\": 1, \"iPhone 12 Pro\": 2, \"Samsung Galaxy S21\": 3,\"Galaxy Note 20\":4,\\\n",
    "             \"iPhone 11 Pro Max\": 5,\"iPhone 12 PRO MAX\":6,\"Watch Band\":7,\"iPhone Mini 12\":8,\\\n",
    "            \"Galaxy Note 20 ULTRA\":9,\"Galaxy S20 Ultra\":10,\"iPhone 13 Series\":11,\n",
    "            \"Galaxy Note 10 Plus\":12,\"iPhone 13 Pro\":13,\"Dog\":14,\"AirPods\":14,\"Desk Mat\":15,\n",
    "            \"Galaxy S20 Plus\":16,\"iPhone SE\":17,\"Samsung Galaxy S20\":18,\"Apple iPhone XS MAX\":19,\n",
    "            \"Apple iPhone XR\":20,\"Apple iPhone X/XS\":21,\"iPhone 11\":22,\"Samsung S10\":23,\n",
    "            \"Card Holder\":24,\"Galaxy N10\":25,\"iPhone 7/8\":26,\"Women's Wallet\":27,\n",
    "            \"Custom order\":28,\"Organizer\":29,\"iPhone 14 Series\":30,\"Galaxy S22 Series\":31,\"AirTag\":32,\n",
    "            \"Mouse Pad\":33,\"Galaxy S22\":34,\"Makeup Purse\":35,\"Huawei Mate 20 Pro\":36,\n",
    "             \"Samsung Galaxy S10\":37,\"Huawei Mate 20 Lite\":38,\"Samsung Galaxy S8 Plus\":39,\n",
    "             \"Samsung Galaxy S10 Plus\":40,\"Samsung Note 8\":41,\"Huawei P20 Pro\":42,\"Samsung Note 10\":43,\n",
    "            \"Samsung Galaxy S8\":44,\"Galaxy S9 Plus\":45,\"Galaxy Note 9\":46,\"Galaxy S9\":47,\n",
    "            \"iPhone XS MAX\":48,\"Samsung Note 9\":46,\"iPhone X/iPhone XS\":49,\"iPhone X / iPhone XS\":49\\\n",
    "             ,\"iPhone X/XS\":49,\"iPhone 7 / 8\":26,\"Galaxy Note 10+\":51,\"iPhone X\":52} "
   ]
  },
  {
   "cell_type": "code",
   "execution_count": 368,
   "id": "76789ea0",
   "metadata": {},
   "outputs": [],
   "source": [
    "reversed_dict = {value: key for key, value in model_map.items()}"
   ]
  },
  {
   "cell_type": "code",
   "execution_count": 369,
   "id": "3dd9dbc4",
   "metadata": {},
   "outputs": [],
   "source": [
    "def map_model(item_name):\n",
    "    x = False\n",
    "    for model, number in reversed_dict.items():\n",
    "        if model==item_name:\n",
    "            x= True\n",
    "            return number\n",
    "    if x == False:\n",
    "        print(item_name)\n",
    "df[\"Item Model\"] = df[\"Item Model\"].apply(map_model)"
   ]
  },
  {
   "cell_type": "code",
   "execution_count": 370,
   "id": "4a83d26b",
   "metadata": {},
   "outputs": [],
   "source": [
    "x = pd.DataFrame(df.groupby([\"Year\"]).sum()).drop(columns=[\"Season\"])"
   ]
  },
  {
   "cell_type": "markdown",
   "id": "83f1d5ea",
   "metadata": {},
   "source": [
    "Total Quantities by year"
   ]
  },
  {
   "cell_type": "code",
   "execution_count": 371,
   "id": "30e90576",
   "metadata": {},
   "outputs": [
    {
     "data": {
      "text/html": [
       "<div>\n",
       "<style scoped>\n",
       "    .dataframe tbody tr th:only-of-type {\n",
       "        vertical-align: middle;\n",
       "    }\n",
       "\n",
       "    .dataframe tbody tr th {\n",
       "        vertical-align: top;\n",
       "    }\n",
       "\n",
       "    .dataframe thead th {\n",
       "        text-align: right;\n",
       "    }\n",
       "</style>\n",
       "<table border=\"1\" class=\"dataframe\">\n",
       "  <thead>\n",
       "    <tr style=\"text-align: right;\">\n",
       "      <th></th>\n",
       "      <th>Quantity</th>\n",
       "      <th>Price</th>\n",
       "      <th>Coupon Code</th>\n",
       "      <th>Discount Amount</th>\n",
       "      <th>Ship Country</th>\n",
       "      <th>Color</th>\n",
       "    </tr>\n",
       "    <tr>\n",
       "      <th>Year</th>\n",
       "      <th></th>\n",
       "      <th></th>\n",
       "      <th></th>\n",
       "      <th></th>\n",
       "      <th></th>\n",
       "      <th></th>\n",
       "    </tr>\n",
       "  </thead>\n",
       "  <tbody>\n",
       "    <tr>\n",
       "      <th>2020</th>\n",
       "      <td>685</td>\n",
       "      <td>41074.72</td>\n",
       "      <td>6060.0</td>\n",
       "      <td>8976.09</td>\n",
       "      <td>2111</td>\n",
       "      <td>1991.0</td>\n",
       "    </tr>\n",
       "    <tr>\n",
       "      <th>2021</th>\n",
       "      <td>961</td>\n",
       "      <td>68192.77</td>\n",
       "      <td>24725.0</td>\n",
       "      <td>17329.83</td>\n",
       "      <td>2339</td>\n",
       "      <td>2287.0</td>\n",
       "    </tr>\n",
       "    <tr>\n",
       "      <th>2022</th>\n",
       "      <td>589</td>\n",
       "      <td>48889.54</td>\n",
       "      <td>12203.0</td>\n",
       "      <td>13381.96</td>\n",
       "      <td>1676</td>\n",
       "      <td>718.0</td>\n",
       "    </tr>\n",
       "  </tbody>\n",
       "</table>\n",
       "</div>"
      ],
      "text/plain": [
       "      Quantity     Price  Coupon Code  Discount Amount  Ship Country   Color\n",
       "Year                                                                        \n",
       "2020       685  41074.72       6060.0          8976.09          2111  1991.0\n",
       "2021       961  68192.77      24725.0         17329.83          2339  2287.0\n",
       "2022       589  48889.54      12203.0         13381.96          1676   718.0"
      ]
     },
     "execution_count": 371,
     "metadata": {},
     "output_type": "execute_result"
    }
   ],
   "source": [
    "x.head()"
   ]
  },
  {
   "cell_type": "code",
   "execution_count": 372,
   "id": "2e4492b0",
   "metadata": {},
   "outputs": [],
   "source": [
    "x.reset_index(inplace=True)"
   ]
  },
  {
   "cell_type": "code",
   "execution_count": 373,
   "id": "e226bd1d",
   "metadata": {},
   "outputs": [
    {
     "data": {
      "image/png": "[encoded data removed]",
      "text/plain": [
       "<Figure size 432x288 with 1 Axes>"
      ]
     },
     "metadata": {
      "needs_background": "light"
     },
     "output_type": "display_data"
    }
   ],
   "source": [
    "x.plot(x='Year', y='Quantity', kind='bar',)\n",
    "plt.xlabel('Year')\n",
    "plt.ylabel('Quantity')\n",
    "plt.title('Quantity by Year')\n",
    "plt.show()"
   ]
  },
  {
   "cell_type": "code",
   "execution_count": 374,
   "id": "550901bf",
   "metadata": {},
   "outputs": [],
   "source": [
    "category_dist = df.groupby(\"Item Model\").sum()"
   ]
  },
  {
   "cell_type": "code",
   "execution_count": 375,
   "id": "0f005aba",
   "metadata": {},
   "outputs": [
    {
     "data": {
      "text/html": [
       "<div>\n",
       "<style scoped>\n",
       "    .dataframe tbody tr th:only-of-type {\n",
       "        vertical-align: middle;\n",
       "    }\n",
       "\n",
       "    .dataframe tbody tr th {\n",
       "        vertical-align: top;\n",
       "    }\n",
       "\n",
       "    .dataframe thead th {\n",
       "        text-align: right;\n",
       "    }\n",
       "</style>\n",
       "<table border=\"1\" class=\"dataframe\">\n",
       "  <thead>\n",
       "    <tr style=\"text-align: right;\">\n",
       "      <th></th>\n",
       "      <th>Quantity</th>\n",
       "      <th>Price</th>\n",
       "      <th>Coupon Code</th>\n",
       "      <th>Discount Amount</th>\n",
       "      <th>Ship Country</th>\n",
       "      <th>Season</th>\n",
       "      <th>Year</th>\n",
       "      <th>Color</th>\n",
       "    </tr>\n",
       "    <tr>\n",
       "      <th>Item Model</th>\n",
       "      <th></th>\n",
       "      <th></th>\n",
       "      <th></th>\n",
       "      <th></th>\n",
       "      <th></th>\n",
       "      <th></th>\n",
       "      <th></th>\n",
       "      <th></th>\n",
       "    </tr>\n",
       "  </thead>\n",
       "  <tbody>\n",
       "    <tr>\n",
       "      <th>AirPods</th>\n",
       "      <td>14</td>\n",
       "      <td>692.00</td>\n",
       "      <td>266.0</td>\n",
       "      <td>181.05</td>\n",
       "      <td>44</td>\n",
       "      <td>11</td>\n",
       "      <td>28300</td>\n",
       "      <td>29.0</td>\n",
       "    </tr>\n",
       "    <tr>\n",
       "      <th>AirTag</th>\n",
       "      <td>2</td>\n",
       "      <td>96.00</td>\n",
       "      <td>44.0</td>\n",
       "      <td>24.00</td>\n",
       "      <td>4</td>\n",
       "      <td>1</td>\n",
       "      <td>4044</td>\n",
       "      <td>0.0</td>\n",
       "    </tr>\n",
       "    <tr>\n",
       "      <th>Apple iPhone X/XS</th>\n",
       "      <td>19</td>\n",
       "      <td>990.11</td>\n",
       "      <td>289.0</td>\n",
       "      <td>223.87</td>\n",
       "      <td>39</td>\n",
       "      <td>32</td>\n",
       "      <td>38384</td>\n",
       "      <td>65.0</td>\n",
       "    </tr>\n",
       "    <tr>\n",
       "      <th>Apple iPhone XR</th>\n",
       "      <td>34</td>\n",
       "      <td>1675.90</td>\n",
       "      <td>464.0</td>\n",
       "      <td>357.10</td>\n",
       "      <td>156</td>\n",
       "      <td>51</td>\n",
       "      <td>68686</td>\n",
       "      <td>70.0</td>\n",
       "    </tr>\n",
       "    <tr>\n",
       "      <th>Apple iPhone XS MAX</th>\n",
       "      <td>6</td>\n",
       "      <td>280.90</td>\n",
       "      <td>61.0</td>\n",
       "      <td>82.63</td>\n",
       "      <td>19</td>\n",
       "      <td>5</td>\n",
       "      <td>12123</td>\n",
       "      <td>7.0</td>\n",
       "    </tr>\n",
       "    <tr>\n",
       "      <th>Card Holder</th>\n",
       "      <td>149</td>\n",
       "      <td>13160.50</td>\n",
       "      <td>2794.0</td>\n",
       "      <td>3484.70</td>\n",
       "      <td>604</td>\n",
       "      <td>243</td>\n",
       "      <td>295121</td>\n",
       "      <td>115.0</td>\n",
       "    </tr>\n",
       "    <tr>\n",
       "      <th>Custom order</th>\n",
       "      <td>2</td>\n",
       "      <td>129.50</td>\n",
       "      <td>58.0</td>\n",
       "      <td>29.08</td>\n",
       "      <td>2</td>\n",
       "      <td>5</td>\n",
       "      <td>4042</td>\n",
       "      <td>0.0</td>\n",
       "    </tr>\n",
       "    <tr>\n",
       "      <th>Desk Mat</th>\n",
       "      <td>145</td>\n",
       "      <td>22012.26</td>\n",
       "      <td>3183.0</td>\n",
       "      <td>5575.24</td>\n",
       "      <td>479</td>\n",
       "      <td>236</td>\n",
       "      <td>293101</td>\n",
       "      <td>0.0</td>\n",
       "    </tr>\n",
       "    <tr>\n",
       "      <th>Galaxy N10</th>\n",
       "      <td>6</td>\n",
       "      <td>364.19</td>\n",
       "      <td>98.0</td>\n",
       "      <td>81.78</td>\n",
       "      <td>23</td>\n",
       "      <td>11</td>\n",
       "      <td>12123</td>\n",
       "      <td>53.0</td>\n",
       "    </tr>\n",
       "    <tr>\n",
       "      <th>Galaxy Note 10 Plus</th>\n",
       "      <td>68</td>\n",
       "      <td>3936.03</td>\n",
       "      <td>1164.0</td>\n",
       "      <td>878.54</td>\n",
       "      <td>149</td>\n",
       "      <td>107</td>\n",
       "      <td>137400</td>\n",
       "      <td>549.0</td>\n",
       "    </tr>\n",
       "    <tr>\n",
       "      <th>Galaxy Note 10+</th>\n",
       "      <td>2</td>\n",
       "      <td>136.80</td>\n",
       "      <td>38.0</td>\n",
       "      <td>24.47</td>\n",
       "      <td>7</td>\n",
       "      <td>0</td>\n",
       "      <td>4040</td>\n",
       "      <td>18.0</td>\n",
       "    </tr>\n",
       "    <tr>\n",
       "      <th>Galaxy Note 20</th>\n",
       "      <td>101</td>\n",
       "      <td>6007.65</td>\n",
       "      <td>2275.0</td>\n",
       "      <td>1732.91</td>\n",
       "      <td>209</td>\n",
       "      <td>133</td>\n",
       "      <td>202085</td>\n",
       "      <td>203.0</td>\n",
       "    </tr>\n",
       "    <tr>\n",
       "      <th>Galaxy S20 Plus</th>\n",
       "      <td>51</td>\n",
       "      <td>2878.34</td>\n",
       "      <td>813.0</td>\n",
       "      <td>746.91</td>\n",
       "      <td>124</td>\n",
       "      <td>72</td>\n",
       "      <td>103048</td>\n",
       "      <td>81.0</td>\n",
       "    </tr>\n",
       "    <tr>\n",
       "      <th>Galaxy S20 Ultra</th>\n",
       "      <td>62</td>\n",
       "      <td>3520.19</td>\n",
       "      <td>957.0</td>\n",
       "      <td>852.12</td>\n",
       "      <td>139</td>\n",
       "      <td>97</td>\n",
       "      <td>125266</td>\n",
       "      <td>53.0</td>\n",
       "    </tr>\n",
       "    <tr>\n",
       "      <th>Galaxy S22</th>\n",
       "      <td>1</td>\n",
       "      <td>64.00</td>\n",
       "      <td>22.0</td>\n",
       "      <td>16.00</td>\n",
       "      <td>1</td>\n",
       "      <td>1</td>\n",
       "      <td>2022</td>\n",
       "      <td>1.0</td>\n",
       "    </tr>\n",
       "    <tr>\n",
       "      <th>Galaxy S22 Series</th>\n",
       "      <td>91</td>\n",
       "      <td>6265.75</td>\n",
       "      <td>1781.0</td>\n",
       "      <td>1826.04</td>\n",
       "      <td>242</td>\n",
       "      <td>127</td>\n",
       "      <td>181980</td>\n",
       "      <td>255.0</td>\n",
       "    </tr>\n",
       "    <tr>\n",
       "      <th>Galaxy S9</th>\n",
       "      <td>12</td>\n",
       "      <td>539.80</td>\n",
       "      <td>163.0</td>\n",
       "      <td>86.93</td>\n",
       "      <td>19</td>\n",
       "      <td>13</td>\n",
       "      <td>24240</td>\n",
       "      <td>86.0</td>\n",
       "    </tr>\n",
       "    <tr>\n",
       "      <th>Galaxy S9 Plus</th>\n",
       "      <td>7</td>\n",
       "      <td>374.90</td>\n",
       "      <td>90.0</td>\n",
       "      <td>69.19</td>\n",
       "      <td>7</td>\n",
       "      <td>10</td>\n",
       "      <td>14140</td>\n",
       "      <td>48.0</td>\n",
       "    </tr>\n",
       "    <tr>\n",
       "      <th>Huawei Mate 20 Lite</th>\n",
       "      <td>1</td>\n",
       "      <td>48.90</td>\n",
       "      <td>3.0</td>\n",
       "      <td>12.23</td>\n",
       "      <td>30</td>\n",
       "      <td>3</td>\n",
       "      <td>2020</td>\n",
       "      <td>2.0</td>\n",
       "    </tr>\n",
       "    <tr>\n",
       "      <th>Huawei Mate 20 Pro</th>\n",
       "      <td>1</td>\n",
       "      <td>48.90</td>\n",
       "      <td>3.0</td>\n",
       "      <td>12.23</td>\n",
       "      <td>3</td>\n",
       "      <td>3</td>\n",
       "      <td>2020</td>\n",
       "      <td>1.0</td>\n",
       "    </tr>\n",
       "    <tr>\n",
       "      <th>Huawei P20 Pro</th>\n",
       "      <td>5</td>\n",
       "      <td>247.50</td>\n",
       "      <td>51.0</td>\n",
       "      <td>49.50</td>\n",
       "      <td>89</td>\n",
       "      <td>11</td>\n",
       "      <td>10100</td>\n",
       "      <td>5.0</td>\n",
       "    </tr>\n",
       "    <tr>\n",
       "      <th>Makeup Purse</th>\n",
       "      <td>2</td>\n",
       "      <td>178.00</td>\n",
       "      <td>46.0</td>\n",
       "      <td>71.20</td>\n",
       "      <td>2</td>\n",
       "      <td>0</td>\n",
       "      <td>4044</td>\n",
       "      <td>0.0</td>\n",
       "    </tr>\n",
       "    <tr>\n",
       "      <th>Mouse Pad</th>\n",
       "      <td>1</td>\n",
       "      <td>64.00</td>\n",
       "      <td>23.0</td>\n",
       "      <td>0.00</td>\n",
       "      <td>1</td>\n",
       "      <td>0</td>\n",
       "      <td>2022</td>\n",
       "      <td>0.0</td>\n",
       "    </tr>\n",
       "    <tr>\n",
       "      <th>Organizer</th>\n",
       "      <td>5</td>\n",
       "      <td>394.00</td>\n",
       "      <td>110.0</td>\n",
       "      <td>109.95</td>\n",
       "      <td>13</td>\n",
       "      <td>4</td>\n",
       "      <td>10107</td>\n",
       "      <td>1.0</td>\n",
       "    </tr>\n",
       "    <tr>\n",
       "      <th>Samsung Galaxy S10</th>\n",
       "      <td>15</td>\n",
       "      <td>813.00</td>\n",
       "      <td>132.0</td>\n",
       "      <td>161.81</td>\n",
       "      <td>74</td>\n",
       "      <td>34</td>\n",
       "      <td>30300</td>\n",
       "      <td>28.0</td>\n",
       "    </tr>\n",
       "    <tr>\n",
       "      <th>Samsung Galaxy S20</th>\n",
       "      <td>65</td>\n",
       "      <td>3490.59</td>\n",
       "      <td>963.0</td>\n",
       "      <td>806.60</td>\n",
       "      <td>161</td>\n",
       "      <td>107</td>\n",
       "      <td>131327</td>\n",
       "      <td>148.0</td>\n",
       "    </tr>\n",
       "    <tr>\n",
       "      <th>Samsung Galaxy S21</th>\n",
       "      <td>209</td>\n",
       "      <td>12835.72</td>\n",
       "      <td>5285.0</td>\n",
       "      <td>3242.49</td>\n",
       "      <td>367</td>\n",
       "      <td>323</td>\n",
       "      <td>422442</td>\n",
       "      <td>494.0</td>\n",
       "    </tr>\n",
       "    <tr>\n",
       "      <th>Samsung Galaxy S8</th>\n",
       "      <td>10</td>\n",
       "      <td>460.80</td>\n",
       "      <td>122.0</td>\n",
       "      <td>86.72</td>\n",
       "      <td>37</td>\n",
       "      <td>16</td>\n",
       "      <td>20200</td>\n",
       "      <td>57.0</td>\n",
       "    </tr>\n",
       "    <tr>\n",
       "      <th>Samsung Galaxy S8 Plus</th>\n",
       "      <td>9</td>\n",
       "      <td>460.40</td>\n",
       "      <td>95.0</td>\n",
       "      <td>104.26</td>\n",
       "      <td>45</td>\n",
       "      <td>17</td>\n",
       "      <td>18180</td>\n",
       "      <td>52.0</td>\n",
       "    </tr>\n",
       "    <tr>\n",
       "      <th>Samsung Note 10</th>\n",
       "      <td>4</td>\n",
       "      <td>153.40</td>\n",
       "      <td>47.0</td>\n",
       "      <td>30.68</td>\n",
       "      <td>4</td>\n",
       "      <td>7</td>\n",
       "      <td>8080</td>\n",
       "      <td>4.0</td>\n",
       "    </tr>\n",
       "    <tr>\n",
       "      <th>Samsung Note 8</th>\n",
       "      <td>5</td>\n",
       "      <td>231.80</td>\n",
       "      <td>58.0</td>\n",
       "      <td>41.77</td>\n",
       "      <td>39</td>\n",
       "      <td>10</td>\n",
       "      <td>10100</td>\n",
       "      <td>25.0</td>\n",
       "    </tr>\n",
       "    <tr>\n",
       "      <th>Samsung Note 9</th>\n",
       "      <td>5</td>\n",
       "      <td>256.20</td>\n",
       "      <td>65.0</td>\n",
       "      <td>45.40</td>\n",
       "      <td>5</td>\n",
       "      <td>6</td>\n",
       "      <td>10100</td>\n",
       "      <td>7.0</td>\n",
       "    </tr>\n",
       "    <tr>\n",
       "      <th>Samsung S10</th>\n",
       "      <td>31</td>\n",
       "      <td>1471.16</td>\n",
       "      <td>351.0</td>\n",
       "      <td>294.28</td>\n",
       "      <td>103</td>\n",
       "      <td>45</td>\n",
       "      <td>62621</td>\n",
       "      <td>54.0</td>\n",
       "    </tr>\n",
       "    <tr>\n",
       "      <th>Watch Band</th>\n",
       "      <td>367</td>\n",
       "      <td>23068.77</td>\n",
       "      <td>8087.0</td>\n",
       "      <td>5951.37</td>\n",
       "      <td>1000</td>\n",
       "      <td>653</td>\n",
       "      <td>737738</td>\n",
       "      <td>1169.0</td>\n",
       "    </tr>\n",
       "    <tr>\n",
       "      <th>Women's Wallet</th>\n",
       "      <td>2</td>\n",
       "      <td>189.80</td>\n",
       "      <td>61.0</td>\n",
       "      <td>61.69</td>\n",
       "      <td>2</td>\n",
       "      <td>1</td>\n",
       "      <td>4042</td>\n",
       "      <td>7.0</td>\n",
       "    </tr>\n",
       "    <tr>\n",
       "      <th>iPhone 11</th>\n",
       "      <td>89</td>\n",
       "      <td>5563.76</td>\n",
       "      <td>1444.0</td>\n",
       "      <td>1244.09</td>\n",
       "      <td>286</td>\n",
       "      <td>117</td>\n",
       "      <td>179819</td>\n",
       "      <td>241.0</td>\n",
       "    </tr>\n",
       "    <tr>\n",
       "      <th>iPhone 11 Pro Max</th>\n",
       "      <td>35</td>\n",
       "      <td>2036.98</td>\n",
       "      <td>556.0</td>\n",
       "      <td>481.07</td>\n",
       "      <td>74</td>\n",
       "      <td>38</td>\n",
       "      <td>70716</td>\n",
       "      <td>123.0</td>\n",
       "    </tr>\n",
       "    <tr>\n",
       "      <th>iPhone 12</th>\n",
       "      <td>331</td>\n",
       "      <td>23347.25</td>\n",
       "      <td>6236.0</td>\n",
       "      <td>5709.55</td>\n",
       "      <td>766</td>\n",
       "      <td>471</td>\n",
       "      <td>666821</td>\n",
       "      <td>461.0</td>\n",
       "    </tr>\n",
       "    <tr>\n",
       "      <th>iPhone 13 Pro</th>\n",
       "      <td>28</td>\n",
       "      <td>2492.36</td>\n",
       "      <td>518.0</td>\n",
       "      <td>669.37</td>\n",
       "      <td>72</td>\n",
       "      <td>52</td>\n",
       "      <td>56613</td>\n",
       "      <td>-14.0</td>\n",
       "    </tr>\n",
       "    <tr>\n",
       "      <th>iPhone 13 Series</th>\n",
       "      <td>143</td>\n",
       "      <td>11474.73</td>\n",
       "      <td>2747.0</td>\n",
       "      <td>3070.31</td>\n",
       "      <td>360</td>\n",
       "      <td>236</td>\n",
       "      <td>289080</td>\n",
       "      <td>135.0</td>\n",
       "    </tr>\n",
       "    <tr>\n",
       "      <th>iPhone 14 Series</th>\n",
       "      <td>9</td>\n",
       "      <td>849.16</td>\n",
       "      <td>198.0</td>\n",
       "      <td>212.29</td>\n",
       "      <td>15</td>\n",
       "      <td>12</td>\n",
       "      <td>18198</td>\n",
       "      <td>-9.0</td>\n",
       "    </tr>\n",
       "    <tr>\n",
       "      <th>iPhone 7 / 8</th>\n",
       "      <td>28</td>\n",
       "      <td>1471.25</td>\n",
       "      <td>454.0</td>\n",
       "      <td>294.96</td>\n",
       "      <td>105</td>\n",
       "      <td>32</td>\n",
       "      <td>56568</td>\n",
       "      <td>77.0</td>\n",
       "    </tr>\n",
       "    <tr>\n",
       "      <th>iPhone SE</th>\n",
       "      <td>56</td>\n",
       "      <td>2926.98</td>\n",
       "      <td>652.0</td>\n",
       "      <td>602.00</td>\n",
       "      <td>196</td>\n",
       "      <td>99</td>\n",
       "      <td>113129</td>\n",
       "      <td>246.0</td>\n",
       "    </tr>\n",
       "    <tr>\n",
       "      <th>iPhone X</th>\n",
       "      <td>1</td>\n",
       "      <td>45.90</td>\n",
       "      <td>18.0</td>\n",
       "      <td>4.59</td>\n",
       "      <td>1</td>\n",
       "      <td>0</td>\n",
       "      <td>2020</td>\n",
       "      <td>10.0</td>\n",
       "    </tr>\n",
       "    <tr>\n",
       "      <th>iPhone X/XS</th>\n",
       "      <td>5</td>\n",
       "      <td>334.50</td>\n",
       "      <td>90.0</td>\n",
       "      <td>33.45</td>\n",
       "      <td>8</td>\n",
       "      <td>0</td>\n",
       "      <td>10100</td>\n",
       "      <td>29.0</td>\n",
       "    </tr>\n",
       "    <tr>\n",
       "      <th>iPhone XS MAX</th>\n",
       "      <td>1</td>\n",
       "      <td>76.40</td>\n",
       "      <td>13.0</td>\n",
       "      <td>11.46</td>\n",
       "      <td>1</td>\n",
       "      <td>1</td>\n",
       "      <td>2020</td>\n",
       "      <td>10.0</td>\n",
       "    </tr>\n",
       "  </tbody>\n",
       "</table>\n",
       "</div>"
      ],
      "text/plain": [
       "                        Quantity     Price  Coupon Code  Discount Amount  \\\n",
       "Item Model                                                                 \n",
       "AirPods                       14    692.00        266.0           181.05   \n",
       "AirTag                         2     96.00         44.0            24.00   \n",
       "Apple iPhone X/XS             19    990.11        289.0           223.87   \n",
       "Apple iPhone XR               34   1675.90        464.0           357.10   \n",
       "Apple iPhone XS MAX            6    280.90         61.0            82.63   \n",
       "Card Holder                  149  13160.50       2794.0          3484.70   \n",
       "Custom order                   2    129.50         58.0            29.08   \n",
       "Desk Mat                     145  22012.26       3183.0          5575.24   \n",
       "Galaxy N10                     6    364.19         98.0            81.78   \n",
       "Galaxy Note 10 Plus           68   3936.03       1164.0           878.54   \n",
       "Galaxy Note 10+                2    136.80         38.0            24.47   \n",
       "Galaxy Note 20               101   6007.65       2275.0          1732.91   \n",
       "Galaxy S20 Plus               51   2878.34        813.0           746.91   \n",
       "Galaxy S20 Ultra              62   3520.19        957.0           852.12   \n",
       "Galaxy S22                     1     64.00         22.0            16.00   \n",
       "Galaxy S22 Series             91   6265.75       1781.0          1826.04   \n",
       "Galaxy S9                     12    539.80        163.0            86.93   \n",
       "Galaxy S9 Plus                 7    374.90         90.0            69.19   \n",
       "Huawei Mate 20 Lite            1     48.90          3.0            12.23   \n",
       "Huawei Mate 20 Pro             1     48.90          3.0            12.23   \n",
       "Huawei P20 Pro                 5    247.50         51.0            49.50   \n",
       "Makeup Purse                   2    178.00         46.0            71.20   \n",
       "Mouse Pad                      1     64.00         23.0             0.00   \n",
       "Organizer                      5    394.00        110.0           109.95   \n",
       "Samsung Galaxy S10            15    813.00        132.0           161.81   \n",
       "Samsung Galaxy S20            65   3490.59        963.0           806.60   \n",
       "Samsung Galaxy S21           209  12835.72       5285.0          3242.49   \n",
       "Samsung Galaxy S8             10    460.80        122.0            86.72   \n",
       "Samsung Galaxy S8 Plus         9    460.40         95.0           104.26   \n",
       "Samsung Note 10                4    153.40         47.0            30.68   \n",
       "Samsung Note 8                 5    231.80         58.0            41.77   \n",
       "Samsung Note 9                 5    256.20         65.0            45.40   \n",
       "Samsung S10                   31   1471.16        351.0           294.28   \n",
       "Watch Band                   367  23068.77       8087.0          5951.37   \n",
       "Women's Wallet                 2    189.80         61.0            61.69   \n",
       "iPhone 11                     89   5563.76       1444.0          1244.09   \n",
       "iPhone 11 Pro Max             35   2036.98        556.0           481.07   \n",
       "iPhone 12                    331  23347.25       6236.0          5709.55   \n",
       "iPhone 13 Pro                 28   2492.36        518.0           669.37   \n",
       "iPhone 13 Series             143  11474.73       2747.0          3070.31   \n",
       "iPhone 14 Series               9    849.16        198.0           212.29   \n",
       "iPhone 7 / 8                  28   1471.25        454.0           294.96   \n",
       "iPhone SE                     56   2926.98        652.0           602.00   \n",
       "iPhone X                       1     45.90         18.0             4.59   \n",
       "iPhone X/XS                    5    334.50         90.0            33.45   \n",
       "iPhone XS MAX                  1     76.40         13.0            11.46   \n",
       "\n",
       "                        Ship Country  Season    Year   Color  \n",
       "Item Model                                                    \n",
       "AirPods                           44      11   28300    29.0  \n",
       "AirTag                             4       1    4044     0.0  \n",
       "Apple iPhone X/XS                 39      32   38384    65.0  \n",
       "Apple iPhone XR                  156      51   68686    70.0  \n",
       "Apple iPhone XS MAX               19       5   12123     7.0  \n",
       "Card Holder                      604     243  295121   115.0  \n",
       "Custom order                       2       5    4042     0.0  \n",
       "Desk Mat                         479     236  293101     0.0  \n",
       "Galaxy N10                        23      11   12123    53.0  \n",
       "Galaxy Note 10 Plus              149     107  137400   549.0  \n",
       "Galaxy Note 10+                    7       0    4040    18.0  \n",
       "Galaxy Note 20                   209     133  202085   203.0  \n",
       "Galaxy S20 Plus                  124      72  103048    81.0  \n",
       "Galaxy S20 Ultra                 139      97  125266    53.0  \n",
       "Galaxy S22                         1       1    2022     1.0  \n",
       "Galaxy S22 Series                242     127  181980   255.0  \n",
       "Galaxy S9                         19      13   24240    86.0  \n",
       "Galaxy S9 Plus                     7      10   14140    48.0  \n",
       "Huawei Mate 20 Lite               30       3    2020     2.0  \n",
       "Huawei Mate 20 Pro                 3       3    2020     1.0  \n",
       "Huawei P20 Pro                    89      11   10100     5.0  \n",
       "Makeup Purse                       2       0    4044     0.0  \n",
       "Mouse Pad                          1       0    2022     0.0  \n",
       "Organizer                         13       4   10107     1.0  \n",
       "Samsung Galaxy S10                74      34   30300    28.0  \n",
       "Samsung Galaxy S20               161     107  131327   148.0  \n",
       "Samsung Galaxy S21               367     323  422442   494.0  \n",
       "Samsung Galaxy S8                 37      16   20200    57.0  \n",
       "Samsung Galaxy S8 Plus            45      17   18180    52.0  \n",
       "Samsung Note 10                    4       7    8080     4.0  \n",
       "Samsung Note 8                    39      10   10100    25.0  \n",
       "Samsung Note 9                     5       6   10100     7.0  \n",
       "Samsung S10                      103      45   62621    54.0  \n",
       "Watch Band                      1000     653  737738  1169.0  \n",
       "Women's Wallet                     2       1    4042     7.0  \n",
       "iPhone 11                        286     117  179819   241.0  \n",
       "iPhone 11 Pro Max                 74      38   70716   123.0  \n",
       "iPhone 12                        766     471  666821   461.0  \n",
       "iPhone 13 Pro                     72      52   56613   -14.0  \n",
       "iPhone 13 Series                 360     236  289080   135.0  \n",
       "iPhone 14 Series                  15      12   18198    -9.0  \n",
       "iPhone 7 / 8                     105      32   56568    77.0  \n",
       "iPhone SE                        196      99  113129   246.0  \n",
       "iPhone X                           1       0    2020    10.0  \n",
       "iPhone X/XS                        8       0   10100    29.0  \n",
       "iPhone XS MAX                      1       1    2020    10.0  "
      ]
     },
     "execution_count": 375,
     "metadata": {},
     "output_type": "execute_result"
    }
   ],
   "source": [
    "category_dist"
   ]
  },
  {
   "cell_type": "code",
   "execution_count": 376,
   "id": "cceba2c5",
   "metadata": {},
   "outputs": [],
   "source": [
    "watch_band = df[df[\"Item Model\"] == \"Watch Band\"]"
   ]
  },
  {
   "cell_type": "markdown",
   "id": "b72c6da7",
   "metadata": {},
   "source": [
    "Year based distribution"
   ]
  },
  {
   "cell_type": "code",
   "execution_count": 377,
   "id": "e5aaa403",
   "metadata": {},
   "outputs": [],
   "source": [
    "year_based = watch_band[[\"Year\",\"Quantity\"]]\n",
    "year_based = pd.DataFrame(year_based.groupby(\"Year\").sum())"
   ]
  },
  {
   "cell_type": "markdown",
   "id": "11f27956",
   "metadata": {},
   "source": [
    "Number of watch band orders based on year"
   ]
  },
  {
   "cell_type": "code",
   "execution_count": 378,
   "id": "631fb1ed",
   "metadata": {},
   "outputs": [
    {
     "data": {
      "text/html": [
       "<div>\n",
       "<style scoped>\n",
       "    .dataframe tbody tr th:only-of-type {\n",
       "        vertical-align: middle;\n",
       "    }\n",
       "\n",
       "    .dataframe tbody tr th {\n",
       "        vertical-align: top;\n",
       "    }\n",
       "\n",
       "    .dataframe thead th {\n",
       "        text-align: right;\n",
       "    }\n",
       "</style>\n",
       "<table border=\"1\" class=\"dataframe\">\n",
       "  <thead>\n",
       "    <tr style=\"text-align: right;\">\n",
       "      <th></th>\n",
       "      <th>Quantity</th>\n",
       "    </tr>\n",
       "    <tr>\n",
       "      <th>Year</th>\n",
       "      <th></th>\n",
       "    </tr>\n",
       "  </thead>\n",
       "  <tbody>\n",
       "    <tr>\n",
       "      <th>2020</th>\n",
       "      <td>34</td>\n",
       "    </tr>\n",
       "    <tr>\n",
       "      <th>2021</th>\n",
       "      <td>227</td>\n",
       "    </tr>\n",
       "    <tr>\n",
       "      <th>2022</th>\n",
       "      <td>106</td>\n",
       "    </tr>\n",
       "  </tbody>\n",
       "</table>\n",
       "</div>"
      ],
      "text/plain": [
       "      Quantity\n",
       "Year          \n",
       "2020        34\n",
       "2021       227\n",
       "2022       106"
      ]
     },
     "execution_count": 378,
     "metadata": {},
     "output_type": "execute_result"
    }
   ],
   "source": [
    "year_based"
   ]
  },
  {
   "cell_type": "code",
   "execution_count": 379,
   "id": "c08b98a0",
   "metadata": {},
   "outputs": [],
   "source": [
    "year_based.reset_index(inplace= True)"
   ]
  },
  {
   "cell_type": "code",
   "execution_count": 380,
   "id": "24a2937f",
   "metadata": {},
   "outputs": [
    {
     "data": {
      "image/png": "[encoded data removed]",
      "text/plain": [
       "<Figure size 432x288 with 1 Axes>"
      ]
     },
     "metadata": {
      "needs_background": "light"
     },
     "output_type": "display_data"
    }
   ],
   "source": [
    "year_based.plot(x='Year', y='Quantity', kind='bar',)\n",
    "plt.xlabel('Year')\n",
    "plt.ylabel('Quantity')\n",
    "plt.title('Quantity by Year')\n",
    "plt.show()"
   ]
  },
  {
   "cell_type": "markdown",
   "id": "dbf65e35",
   "metadata": {},
   "source": [
    "Seasons based distribution"
   ]
  },
  {
   "cell_type": "code",
   "execution_count": 381,
   "id": "a6bb0dfb",
   "metadata": {},
   "outputs": [],
   "source": [
    "grouped = watch_band.groupby(['Year', 'Season'])\n",
    "seasonly_quantities = pd.DataFrame(grouped['Quantity'].sum())"
   ]
  },
  {
   "cell_type": "code",
   "execution_count": 382,
   "id": "a41aa359",
   "metadata": {
    "scrolled": true
   },
   "outputs": [
    {
     "name": "stdout",
     "output_type": "stream",
     "text": [
      "             Quantity\n",
      "Year Season          \n",
      "2020 0              9\n",
      "     1             10\n",
      "     2              6\n",
      "     3              9\n",
      "2021 0             34\n",
      "     1             24\n",
      "     2             78\n",
      "     3             91\n",
      "2022 0             26\n",
      "     1             22\n",
      "     2             41\n",
      "     3             17\n"
     ]
    }
   ],
   "source": [
    "print(seasonly_quantities)"
   ]
  },
  {
   "cell_type": "code",
   "execution_count": 383,
   "id": "4864481c",
   "metadata": {},
   "outputs": [],
   "source": [
    "seasonly_quantities.reset_index(inplace= True)"
   ]
  },
  {
   "cell_type": "code",
   "execution_count": 384,
   "id": "8bfca67c",
   "metadata": {
    "scrolled": true
   },
   "outputs": [
    {
     "data": {
      "image/png": "[encoded data removed]",
      "text/plain": [
       "<Figure size 432x288 with 1 Axes>"
      ]
     },
     "metadata": {
      "needs_background": "light"
     },
     "output_type": "display_data"
    },
    {
     "data": {
      "image/png": "[encoded data removed]",
      "text/plain": [
       "<Figure size 432x288 with 1 Axes>"
      ]
     },
     "metadata": {
      "needs_background": "light"
     },
     "output_type": "display_data"
    },
    {
     "data": {
      "image/png": "[encoded data removed]",
      "text/plain": [
       "<Figure size 432x288 with 1 Axes>"
      ]
     },
     "metadata": {
      "needs_background": "light"
     },
     "output_type": "display_data"
    }
   ],
   "source": [
    "for year in seasonly_quantities['Year'].unique():\n",
    "    plt.figure(figsize=(6, 4))\n",
    "    plt.bar(seasonly_quantities.loc[seasonly_quantities['Year'] == year, 'Season'],\n",
    "             seasonly_quantities.loc[seasonly_quantities['Year'] == year, 'Quantity'])\n",
    "    plt.xlabel('Season')\n",
    "    plt.ylabel('Seasonly Order Quantities')\n",
    "    plt.title(f'Seasonly Order Quantities for {year}')\n",
    "    plt.xticks([0,1,2,3], rotation=90)\n",
    "    plt.show()\n",
    "# \"Winter\",\"Spring\",\"Summer\",\"Fall\""
   ]
  },
  {
   "cell_type": "markdown",
   "id": "c91bcfd6",
   "metadata": {},
   "source": [
    "Country based distribution"
   ]
  },
  {
   "cell_type": "code",
   "execution_count": 385,
   "id": "8f358917",
   "metadata": {},
   "outputs": [],
   "source": [
    "country_map = {'United States':1, 'Canada':2, 'United Kingdom':3, 'Australia':4,\n",
    "       'Switzerland':5, 'Sweden':6, 'Israel':7, 'Italy':8, 'Ireland':9,\n",
    "       'New Zealand':10, 'United Arab Emirates':11, 'Hong Kong':12, 'Malaysia':13,\n",
    "       'The Netherlands':14, 'Taiwan':15, 'Germany':16, 'Philippines':17,\"Austria\":18,\n",
    "              \"South Korea\":19,\"France\":20,\"Hungary\":21,\"Singapore\":22,\"Finland\":23,\n",
    "              \"Belgium\":24,\"Luxembourg\":25,\"Puerto Rico\":26,\"Sri Lanka\":27,\"South Africa\":28,\n",
    "              \"Latvia\":29,\"Greece\":30,\"Reunion\":31,\"Denmark\":32,\"Norway\":33,\"Estonia\":34,\n",
    "              \"Spain\":35,\"Brazil\":36,\"India\":37,\"Japan\":38,\"Indonesia\":39,\"Mexico\":40,\n",
    "              \"Russia\":41}"
   ]
  },
  {
   "cell_type": "code",
   "execution_count": 386,
   "id": "bab2e529",
   "metadata": {},
   "outputs": [],
   "source": [
    "reversed_dict = {value: key for key, value in country_map.items()}"
   ]
  },
  {
   "cell_type": "code",
   "execution_count": 387,
   "id": "a8d2932a",
   "metadata": {},
   "outputs": [
    {
     "name": "stderr",
     "output_type": "stream",
     "text": [
      "C:\\Users\\Hp\\AppData\\Local\\Temp\\ipykernel_11560\\2588652522.py:9: SettingWithCopyWarning: \n",
      "A value is trying to be set on a copy of a slice from a DataFrame.\n",
      "Try using .loc[row_indexer,col_indexer] = value instead\n",
      "\n",
      "See the caveats in the documentation: https://pandas.pydata.org/pandas-docs/stable/user_guide/indexing.html#returning-a-view-versus-a-copy\n",
      "  watch_band[\"Ship Country\"] = watch_band[\"Ship Country\"].apply(map_country)\n"
     ]
    }
   ],
   "source": [
    "def map_country(country):\n",
    "    x = False\n",
    "    for i, number in reversed_dict.items():\n",
    "        if i == country:\n",
    "            x= True\n",
    "            return number\n",
    "    if x == False:\n",
    "        print(country)\n",
    "watch_band[\"Ship Country\"] = watch_band[\"Ship Country\"].apply(map_country)"
   ]
  },
  {
   "cell_type": "code",
   "execution_count": 388,
   "id": "677b6a02",
   "metadata": {},
   "outputs": [],
   "source": [
    "country_quantities = watch_band.groupby('Ship Country')['Quantity'].sum()"
   ]
  },
  {
   "cell_type": "code",
   "execution_count": 389,
   "id": "715767fc",
   "metadata": {},
   "outputs": [
    {
     "data": {
      "text/plain": [
       "Ship Country\n",
       "Australia            2\n",
       "Austria              1\n",
       "Canada              28\n",
       "Denmark              1\n",
       "Finland              1\n",
       "France               3\n",
       "Germany             22\n",
       "Hong Kong            1\n",
       "Ireland              3\n",
       "Italy                2\n",
       "Luxembourg           1\n",
       "South Africa         1\n",
       "Sweden               3\n",
       "Switzerland          1\n",
       "The Netherlands      1\n",
       "United Kingdom       6\n",
       "United States      290\n",
       "Name: Quantity, dtype: int64"
      ]
     },
     "execution_count": 389,
     "metadata": {},
     "output_type": "execute_result"
    }
   ],
   "source": [
    "country_quantities"
   ]
  },
  {
   "cell_type": "code",
   "execution_count": 390,
   "id": "18bd452a",
   "metadata": {},
   "outputs": [
    {
     "data": {
      "image/png": "[encoded data removed]",
      "text/plain": [
       "<Figure size 432x288 with 1 Axes>"
      ]
     },
     "metadata": {
      "needs_background": "light"
     },
     "output_type": "display_data"
    }
   ],
   "source": [
    "country_quantities.plot(kind='bar',)\n",
    "plt.xlabel('Ship Country')\n",
    "plt.ylabel('Total Quantity')\n",
    "plt.title('Total Quantity by Ship Country')\n",
    "plt.show()"
   ]
  },
  {
   "cell_type": "markdown",
   "id": "62bdbe48",
   "metadata": {},
   "source": [
    "Color based distribution"
   ]
  },
  {
   "cell_type": "code",
   "execution_count": 391,
   "id": "7ae518fb",
   "metadata": {},
   "outputs": [],
   "source": [
    "color_map = {\"Brown\":1,\"Gray\":2,\"Black\":3,\"Navy Blue\":4,\"Blue\":5,\"Yellow\":6,\"Red\":7,\"Pink\":8,\n",
    "            \"Multicolered\":9,\"Green\":10,\"Beige\":11,\"Purple\":12,\"Leopar\":13,\"Multicolored\":9,\n",
    "            \"Grey\":2,\"Multicolor\":9,\"Rose Gold\":14,\"Rainbow\":15,\"White\":16,\"Genuine Leather\":0,\\\n",
    "            \"Leather\":-1}"
   ]
  },
  {
   "cell_type": "code",
   "execution_count": 392,
   "id": "9ee16af3",
   "metadata": {},
   "outputs": [],
   "source": [
    "reversed_dict = {value: key for key, value in color_map.items()}"
   ]
  },
  {
   "cell_type": "code",
   "execution_count": 393,
   "id": "0697476d",
   "metadata": {},
   "outputs": [
    {
     "name": "stderr",
     "output_type": "stream",
     "text": [
      "C:\\Users\\Hp\\AppData\\Local\\Temp\\ipykernel_11560\\2448195412.py:9: SettingWithCopyWarning: \n",
      "A value is trying to be set on a copy of a slice from a DataFrame.\n",
      "Try using .loc[row_indexer,col_indexer] = value instead\n",
      "\n",
      "See the caveats in the documentation: https://pandas.pydata.org/pandas-docs/stable/user_guide/indexing.html#returning-a-view-versus-a-copy\n",
      "  watch_band[\"Color\"] = watch_band[\"Color\"].apply(map_color)\n"
     ]
    }
   ],
   "source": [
    "def map_color(item):\n",
    "    x = False\n",
    "    for color, number in reversed_dict.items():\n",
    "        if color == item:\n",
    "            x= True\n",
    "            return number\n",
    "    if x == False:\n",
    "        return \n",
    "watch_band[\"Color\"] = watch_band[\"Color\"].apply(map_color)"
   ]
  },
  {
   "cell_type": "code",
   "execution_count": 394,
   "id": "cb5812bb",
   "metadata": {},
   "outputs": [],
   "source": [
    "color_dist = watch_band.groupby('Color')['Quantity'].sum()"
   ]
  },
  {
   "cell_type": "code",
   "execution_count": 395,
   "id": "95aac67e",
   "metadata": {},
   "outputs": [
    {
     "data": {
      "text/plain": [
       "Color\n",
       "Beige               57\n",
       "Black               14\n",
       "Brown               39\n",
       "Genuine Leather     21\n",
       "Green                7\n",
       "Grey                23\n",
       "Leather            165\n",
       "Navy Blue            2\n",
       "Pink                 4\n",
       "Purple               1\n",
       "Rainbow              4\n",
       "Red                  4\n",
       "Rose Gold            7\n",
       "White               16\n",
       "Yellow               3\n",
       "Name: Quantity, dtype: int64"
      ]
     },
     "execution_count": 395,
     "metadata": {},
     "output_type": "execute_result"
    }
   ],
   "source": [
    "color_dist"
   ]
  },
  {
   "cell_type": "code",
   "execution_count": 396,
   "id": "b286619a",
   "metadata": {},
   "outputs": [],
   "source": [
    "color_dist_season = watch_band.groupby(['Season', 'Color'])['Quantity'].sum().reset_index()"
   ]
  },
  {
   "cell_type": "code",
   "execution_count": 400,
   "id": "4d51e0c0",
   "metadata": {},
   "outputs": [
    {
     "name": "stdout",
     "output_type": "stream",
     "text": [
      "Season  Color          \n",
      "0       Leather            35\n",
      "        Genuine Leather     9\n",
      "        Brown               8\n",
      "        Grey                4\n",
      "        Pink                3\n",
      "        Black               2\n",
      "        Red                 2\n",
      "        Yellow              2\n",
      "        Beige               1\n",
      "        Green               1\n",
      "        Rainbow             1\n",
      "        Rose Gold           1\n",
      "1       Leather            21\n",
      "        Brown               9\n",
      "        Beige               6\n",
      "        Black               4\n",
      "        Green               4\n",
      "        Genuine Leather     3\n",
      "        White               3\n",
      "        Grey                2\n",
      "        Rose Gold           2\n",
      "        Rainbow             1\n",
      "2       Leather            58\n",
      "        Beige              24\n",
      "        Brown              11\n",
      "        White              10\n",
      "        Grey                9\n",
      "        Genuine Leather     5\n",
      "        Black               3\n",
      "        Green               1\n",
      "        Navy Blue           1\n",
      "        Pink                1\n",
      "        Purple              1\n",
      "        Rose Gold           1\n",
      "3       Leather            50\n",
      "        Beige              26\n",
      "        Brown              11\n",
      "        Grey                8\n",
      "        Black               4\n",
      "        Genuine Leather     4\n",
      "        Rose Gold           3\n",
      "        White               3\n",
      "        Rainbow             2\n",
      "        Red                 2\n",
      "        Green               1\n",
      "        Navy Blue           1\n",
      "        Yellow              1\n",
      "Name: Color, dtype: int64\n"
     ]
    }
   ],
   "source": [
    "grouped = watch_band.groupby('Season')['Color'].value_counts()\n",
    "print(grouped)"
   ]
  },
  {
   "cell_type": "code",
   "execution_count": 399,
   "id": "a305cabd",
   "metadata": {},
   "outputs": [
    {
     "data": {
      "image/png": "[encoded data removed]",
      "text/plain": [
       "<Figure size 576x360 with 1 Axes>"
      ]
     },
     "metadata": {
      "needs_background": "light"
     },
     "output_type": "display_data"
    },
    {
     "data": {
      "image/png": "[encoded data removed]",
      "text/plain": [
       "<Figure size 576x360 with 1 Axes>"
      ]
     },
     "metadata": {
      "needs_background": "light"
     },
     "output_type": "display_data"
    },
    {
     "data": {
      "image/png": "[encoded data removed]",
      "text/plain": [
       "<Figure size 576x360 with 1 Axes>"
      ]
     },
     "metadata": {
      "needs_background": "light"
     },
     "output_type": "display_data"
    },
    {
     "data": {
      "image/png": "[encoded data removed]",
      "text/plain": [
       "<Figure size 576x360 with 1 Axes>"
      ]
     },
     "metadata": {
      "needs_background": "light"
     },
     "output_type": "display_data"
    }
   ],
   "source": [
    "seasons = watch_band['Season'].unique()\n",
    "for season in seasons:\n",
    "    data = watch_band[watch_band['Season'] == season]\n",
    "    grouped = watch_band.groupby('Color')['Quantity'].sum()\n",
    "    plt.figure(figsize=(8, 5))\n",
    "    grouped.plot(kind='bar')\n",
    "    plt.xlabel('Color')\n",
    "    plt.ylabel('Total Quantity')\n",
    "    plt.title(f'Distribution of Colors for {season} Season')\n",
    "    plt.show()"
   ]
  }
 ],
 "metadata": {
  "kernelspec": {
   "display_name": "Python 3 (ipykernel)",
   "language": "python",
   "name": "python3"
  },
  "language_info": {
   "codemirror_mode": {
    "name": "ipython",
    "version": 3
   },
   "file_extension": ".py",
   "mimetype": "text/x-python",
   "name": "python",
   "nbconvert_exporter": "python",
   "pygments_lexer": "ipython3",
   "version": "3.9.12"
  }
 },
 "nbformat": 4,
 "nbformat_minor": 5
}
