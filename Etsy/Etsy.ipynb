{
 "cells": [
  {
   "cell_type": "markdown",
   "id": "b34c3693",
   "metadata": {},
   "source": [
    "**Import necessary libraries**"
   ]
  },
  {
   "cell_type": "code",
   "execution_count": 2259,
   "id": "e2b4b763",
   "metadata": {},
   "outputs": [],
   "source": [
    "import pandas as pd\n",
    "import numpy as np\n",
    "import matplotlib.pyplot as plt\n",
    "from datetime import datetime"
   ]
  },
  {
   "cell_type": "code",
   "execution_count": 2260,
   "id": "a17f249e",
   "metadata": {},
   "outputs": [],
   "source": [
    "df_name = \"EtsySoldOrderItems2020\""
   ]
  },
  {
   "cell_type": "markdown",
   "id": "6f4856b8",
   "metadata": {},
   "source": [
    "**Read csv files**"
   ]
  },
  {
   "cell_type": "code",
   "execution_count": 2261,
   "id": "48b76efe",
   "metadata": {},
   "outputs": [],
   "source": [
    "df = pd.read_csv(df_name+\".csv\")"
   ]
  },
  {
   "cell_type": "markdown",
   "id": "b034c99c",
   "metadata": {},
   "source": [
    "Columns of dataframe"
   ]
  },
  {
   "cell_type": "code",
   "execution_count": 2262,
   "id": "0e440c51",
   "metadata": {},
   "outputs": [
    {
     "data": {
      "text/plain": [
       "Index(['Sale Date', 'Item Name', 'Buyer', 'Quantity', 'Price', 'Coupon Code',\n",
       "       'Coupon Details', 'Discount Amount', 'Shipping Discount',\n",
       "       'Order Shipping', 'Order Sales Tax', 'Item Total', 'Currency',\n",
       "       'Transaction ID', 'Listing ID', 'Date Paid', 'Date Shipped',\n",
       "       'Ship Name', 'Ship Address1', 'Ship Address2', 'Ship City',\n",
       "       'Ship State', 'Ship Zipcode', 'Ship Country', 'Order ID', 'Variations',\n",
       "       'Order Type', 'Listings Type', 'Payment Type', 'InPerson Discount',\n",
       "       'InPerson Location', 'VAT Paid by Buyer', 'SKU'],\n",
       "      dtype='object')"
      ]
     },
     "execution_count": 2262,
     "metadata": {},
     "output_type": "execute_result"
    }
   ],
   "source": [
    "df.columns"
   ]
  },
  {
   "cell_type": "code",
   "execution_count": 2263,
   "id": "45a78310",
   "metadata": {},
   "outputs": [],
   "source": [
    "df = df.rename(columns={\"Item Name\":\"Item Model\"})"
   ]
  },
  {
   "cell_type": "code",
   "execution_count": 2264,
   "id": "a5c9dd24",
   "metadata": {},
   "outputs": [
    {
     "data": {
      "text/html": [
       "<div>\n",
       "<style scoped>\n",
       "    .dataframe tbody tr th:only-of-type {\n",
       "        vertical-align: middle;\n",
       "    }\n",
       "\n",
       "    .dataframe tbody tr th {\n",
       "        vertical-align: top;\n",
       "    }\n",
       "\n",
       "    .dataframe thead th {\n",
       "        text-align: right;\n",
       "    }\n",
       "</style>\n",
       "<table border=\"1\" class=\"dataframe\">\n",
       "  <thead>\n",
       "    <tr style=\"text-align: right;\">\n",
       "      <th></th>\n",
       "      <th>Sale Date</th>\n",
       "      <th>Item Model</th>\n",
       "      <th>Buyer</th>\n",
       "      <th>Quantity</th>\n",
       "      <th>Price</th>\n",
       "      <th>Coupon Code</th>\n",
       "      <th>Coupon Details</th>\n",
       "      <th>Discount Amount</th>\n",
       "      <th>Shipping Discount</th>\n",
       "      <th>Order Shipping</th>\n",
       "      <th>...</th>\n",
       "      <th>Ship Country</th>\n",
       "      <th>Order ID</th>\n",
       "      <th>Variations</th>\n",
       "      <th>Order Type</th>\n",
       "      <th>Listings Type</th>\n",
       "      <th>Payment Type</th>\n",
       "      <th>InPerson Discount</th>\n",
       "      <th>InPerson Location</th>\n",
       "      <th>VAT Paid by Buyer</th>\n",
       "      <th>SKU</th>\n",
       "    </tr>\n",
       "  </thead>\n",
       "  <tbody>\n",
       "    <tr>\n",
       "      <th>0</th>\n",
       "      <td>12/31/20</td>\n",
       "      <td>Genuine Gray Leather Samsung Galaxy Note 20 Pr...</td>\n",
       "      <td>Shanon Browne (wj1ol9t2d47zhqco)</td>\n",
       "      <td>1</td>\n",
       "      <td>44.67</td>\n",
       "      <td>25OFFDECEMBER</td>\n",
       "      <td>25OFFDECEMBER - % off</td>\n",
       "      <td>11.17</td>\n",
       "      <td>0.00</td>\n",
       "      <td>0.0</td>\n",
       "      <td>...</td>\n",
       "      <td>United States</td>\n",
       "      <td>1908770705</td>\n",
       "      <td>Personalization Request:Add Laser Engraving</td>\n",
       "      <td>online</td>\n",
       "      <td>listing</td>\n",
       "      <td>online_cc</td>\n",
       "      <td>NaN</td>\n",
       "      <td>NaN</td>\n",
       "      <td>0</td>\n",
       "      <td>BO-01-FXCP-TN18E-0NT20-00</td>\n",
       "    </tr>\n",
       "    <tr>\n",
       "      <th>1</th>\n",
       "      <td>12/31/20</td>\n",
       "      <td>Genuine Leather Apple iPhone 12 &amp; iPhone 12 Pr...</td>\n",
       "      <td>Kevin Butterfield (kevinbutterfield72)</td>\n",
       "      <td>1</td>\n",
       "      <td>52.00</td>\n",
       "      <td>25OFFDECEMBER</td>\n",
       "      <td>25OFFDECEMBER - % off</td>\n",
       "      <td>13.00</td>\n",
       "      <td>3.21</td>\n",
       "      <td>0.0</td>\n",
       "      <td>...</td>\n",
       "      <td>United States</td>\n",
       "      <td>1900438126</td>\n",
       "      <td>Personalization Request:No Personalization</td>\n",
       "      <td>online</td>\n",
       "      <td>listing</td>\n",
       "      <td>online_cc</td>\n",
       "      <td>NaN</td>\n",
       "      <td>NaN</td>\n",
       "      <td>0</td>\n",
       "      <td>BO-01-FXC0-RS02E-IP121-00</td>\n",
       "    </tr>\n",
       "  </tbody>\n",
       "</table>\n",
       "<p>2 rows × 33 columns</p>\n",
       "</div>"
      ],
      "text/plain": [
       "  Sale Date                                         Item Model  \\\n",
       "0  12/31/20  Genuine Gray Leather Samsung Galaxy Note 20 Pr...   \n",
       "1  12/31/20  Genuine Leather Apple iPhone 12 & iPhone 12 Pr...   \n",
       "\n",
       "                                    Buyer  Quantity  Price    Coupon Code  \\\n",
       "0        Shanon Browne (wj1ol9t2d47zhqco)         1  44.67  25OFFDECEMBER   \n",
       "1  Kevin Butterfield (kevinbutterfield72)         1  52.00  25OFFDECEMBER   \n",
       "\n",
       "          Coupon Details  Discount Amount  Shipping Discount  Order Shipping  \\\n",
       "0  25OFFDECEMBER - % off            11.17               0.00             0.0   \n",
       "1  25OFFDECEMBER - % off            13.00               3.21             0.0   \n",
       "\n",
       "   ...   Ship Country    Order ID  \\\n",
       "0  ...  United States  1908770705   \n",
       "1  ...  United States  1900438126   \n",
       "\n",
       "                                    Variations  Order Type  Listings Type  \\\n",
       "0  Personalization Request:Add Laser Engraving      online        listing   \n",
       "1   Personalization Request:No Personalization      online        listing   \n",
       "\n",
       "  Payment Type InPerson Discount InPerson Location VAT Paid by Buyer  \\\n",
       "0    online_cc               NaN               NaN                 0   \n",
       "1    online_cc               NaN               NaN                 0   \n",
       "\n",
       "                         SKU  \n",
       "0  BO-01-FXCP-TN18E-0NT20-00  \n",
       "1  BO-01-FXC0-RS02E-IP121-00  \n",
       "\n",
       "[2 rows x 33 columns]"
      ]
     },
     "execution_count": 2264,
     "metadata": {},
     "output_type": "execute_result"
    }
   ],
   "source": [
    "df.head(2)"
   ]
  },
  {
   "cell_type": "markdown",
   "id": "f2640cbf",
   "metadata": {},
   "source": [
    "Check null values"
   ]
  },
  {
   "cell_type": "code",
   "execution_count": 2265,
   "id": "149ab358",
   "metadata": {
    "scrolled": true
   },
   "outputs": [
    {
     "data": {
      "text/plain": [
       "Sale Date              0\n",
       "Item Model             0\n",
       "Buyer                124\n",
       "Quantity               0\n",
       "Price                  0\n",
       "Coupon Code           21\n",
       "Coupon Details        21\n",
       "Discount Amount        0\n",
       "Shipping Discount      0\n",
       "Order Shipping         0\n",
       "Order Sales Tax        0\n",
       "Item Total             0\n",
       "Currency               0\n",
       "Transaction ID         0\n",
       "Listing ID             0\n",
       "Date Paid              0\n",
       "Date Shipped           0\n",
       "Ship Name              0\n",
       "Ship Address1          0\n",
       "Ship Address2        562\n",
       "Ship City              0\n",
       "Ship State            73\n",
       "Ship Zipcode           4\n",
       "Ship Country           0\n",
       "Order ID               0\n",
       "Variations            27\n",
       "Order Type             0\n",
       "Listings Type          0\n",
       "Payment Type           0\n",
       "InPerson Discount    702\n",
       "InPerson Location    702\n",
       "VAT Paid by Buyer      0\n",
       "SKU                    0\n",
       "dtype: int64"
      ]
     },
     "execution_count": 2265,
     "metadata": {},
     "output_type": "execute_result"
    }
   ],
   "source": [
    "df.isna().sum()"
   ]
  },
  {
   "cell_type": "code",
   "execution_count": 2266,
   "id": "40e98fd5",
   "metadata": {},
   "outputs": [],
   "source": [
    "df.drop(columns=['Buyer','Coupon Details','Shipping Discount','Order Shipping',\\\n",
    "                      'Order Sales Tax','Item Total', 'Currency','Transaction ID', 'Listing ID',\\\n",
    "                      'Date Paid', 'Date Shipped','Ship Name', 'Ship Address1', 'Ship Address2',\\\n",
    "                      'Ship Zipcode', 'Variations','Order Type', 'Listings Type',\\\n",
    "                      'Payment Type', 'InPerson Discount','InPerson Location', 'VAT Paid by Buyer',\\\n",
    "                      'SKU','Ship City','Ship State'],inplace = True)"
   ]
  },
  {
   "cell_type": "code",
   "execution_count": 2267,
   "id": "1b170217",
   "metadata": {},
   "outputs": [],
   "source": [
    "df.dropna(inplace=True)"
   ]
  },
  {
   "cell_type": "markdown",
   "id": "e05c7e4a",
   "metadata": {},
   "source": [
    "Check duplicates"
   ]
  },
  {
   "cell_type": "code",
   "execution_count": 2268,
   "id": "645bcc7f",
   "metadata": {},
   "outputs": [
    {
     "data": {
      "text/plain": [
       "0"
      ]
     },
     "execution_count": 2268,
     "metadata": {},
     "output_type": "execute_result"
    }
   ],
   "source": [
    "df.duplicated().all().sum()"
   ]
  },
  {
   "cell_type": "markdown",
   "id": "a2bfdf13",
   "metadata": {},
   "source": [
    "Map seasons"
   ]
  },
  {
   "cell_type": "code",
   "execution_count": 2269,
   "id": "a50b0c43",
   "metadata": {},
   "outputs": [],
   "source": [
    "def map_seasons(dataframe,season,sale_date):\n",
    "    dataframe[season] = \"\"  # Add a new column named \"Season\" to the dataframe\n",
    "    for i in dataframe[sale_date]:\n",
    "        nums = str.split(i,sep=\"/\")\n",
    "        date = \"\"\n",
    "        if nums[0] in [\"12\",\"01\",\"02\"]:\n",
    "            date = \"Winter\"\n",
    "        elif nums[0] in [\"03\",\"04\",\"05\"]:\n",
    "            date = \"Spring\"\n",
    "        elif nums[0] in [\"06\",\"07\",\"08\"]:\n",
    "            date = \"Summer\"\n",
    "        elif nums[0] in [\"09\",\"10\",\"11\"]:\n",
    "            date = \"Fall\"\n",
    "        dataframe.loc[dataframe[sale_date] == i, season] = date \n",
    "    return dataframe   "
   ]
  },
  {
   "cell_type": "code",
   "execution_count": 2270,
   "id": "66bdc36c",
   "metadata": {},
   "outputs": [],
   "source": [
    "df = map_seasons(df,\"Season\",\"Sale Date\")"
   ]
  },
  {
   "cell_type": "code",
   "execution_count": 2271,
   "id": "91b6d518",
   "metadata": {},
   "outputs": [],
   "source": [
    "seasons_dict = {'Winter': 0, 'Spring': 1, 'Summer': 2, 'Fall': 3}\n",
    "df['Season'] = df['Season'].replace(seasons_dict)"
   ]
  },
  {
   "cell_type": "code",
   "execution_count": 2272,
   "id": "cbe11b58",
   "metadata": {},
   "outputs": [],
   "source": [
    "df['Sale Date'] = pd.to_datetime(df['Sale Date'], format='%m/%d/%y')\n",
    "df['Day Of Year'] = df['Sale Date'].apply(lambda x: x.timetuple().tm_yday)"
   ]
  },
  {
   "cell_type": "code",
   "execution_count": 2273,
   "id": "d25dfa5e",
   "metadata": {},
   "outputs": [
    {
     "data": {
      "text/plain": [
       "array(['United States', 'Switzerland', 'Germany', 'Canada',\n",
       "       'United Kingdom', 'Australia', 'The Netherlands', 'Luxembourg',\n",
       "       'Sweden', 'France', 'Latvia', 'Israel', 'Greece', 'Italy',\n",
       "       'Ireland', 'New Zealand', 'Finland', 'South Africa', 'Reunion',\n",
       "       'Denmark', 'Austria', 'United Arab Emirates', 'Hong Kong',\n",
       "       'Norway', 'Malaysia', 'Taiwan', 'Estonia', 'Philippines'],\n",
       "      dtype=object)"
      ]
     },
     "execution_count": 2273,
     "metadata": {},
     "output_type": "execute_result"
    }
   ],
   "source": [
    "countries = df['Ship Country'].unique()\n",
    "countries"
   ]
  },
  {
   "cell_type": "code",
   "execution_count": 2274,
   "id": "96f5cbe2",
   "metadata": {},
   "outputs": [],
   "source": [
    "country_map = {'United States':1, 'Canada':2, 'United Kingdom':3, 'Australia':4,\n",
    "       'Switzerland':5, 'Sweden':6, 'Israel':7, 'Italy':8, 'Ireland':9,\n",
    "       'New Zealand':10, 'United Arab Emirates':11, 'Hong Kong':12, 'Malaysia':13,\n",
    "       'The Netherlands':14, 'Taiwan':15, 'Germany':16, 'Philippines':17,\"Austria\":18,\n",
    "              \"South Korea\":19,\"France\":20,\"Hungary\":21,\"Singapore\":22,\"Finland\":23,\n",
    "              \"Belgium\":24,\"Luxembourg\":25,\"Puerto Rico\":26,\"Sri Lanka\":27,\"South Africa\":28,\n",
    "              \"Latvia\":29,\"Greece\":30,\"Reunion\":31,\"Denmark\":32,\"Norway\":33,\"Estonia\":34,\n",
    "              \"Spain\":35,\"Brazil\":36,\"India\":37,\"Japan\":38,\"Indonesia\":39,\"Mexico\":40,\n",
    "              \"Russia\":41}"
   ]
  },
  {
   "cell_type": "code",
   "execution_count": 2275,
   "id": "23acefee",
   "metadata": {},
   "outputs": [],
   "source": [
    "def map_country(country):\n",
    "    x = False\n",
    "    for i, number in country_map.items():\n",
    "        if i in country:\n",
    "            x= True\n",
    "            return number\n",
    "    if x == False:\n",
    "        print(country)\n",
    "df[\"Ship Country\"] = df[\"Ship Country\"].apply(map_country)"
   ]
  },
  {
   "cell_type": "code",
   "execution_count": 2276,
   "id": "3687fda2",
   "metadata": {},
   "outputs": [],
   "source": [
    "# df['Ship Country'] = df['Ship Country'].map(country_map)"
   ]
  },
  {
   "cell_type": "code",
   "execution_count": 2277,
   "id": "aa1bd0cd",
   "metadata": {},
   "outputs": [
    {
     "data": {
      "text/plain": [
       "array(['25OFFDECEMBER', 'CHRISTMAS40OFF', 'CHRISTMAS40OFF;CHRISTMAS40OFF',\n",
       "       '25OFFNOVEMBER', 'ABONDONED25', '2ORMOREITEMS30OFF',\n",
       "       '20OFFOCTOBER', '2ORMOREITEMS25OFF', '20OFFSEPTEMBER', 'FAV25',\n",
       "       'SEPTEMBER20OFF', '20OFFAUGUST', 'TWOITEMS30OFF', 'JULY20OFF',\n",
       "       'JUNE20OFF', 'MAY15OFF', 'APRIL20OFF', '20OFF', 'GETTWO20',\n",
       "       'FEB10', 'JAN10', 'JANUARY15', 'CHRISTMAS25', 'ABANDONED30'],\n",
       "      dtype=object)"
      ]
     },
     "execution_count": 2277,
     "metadata": {},
     "output_type": "execute_result"
    }
   ],
   "source": [
    "coupons = df['Coupon Code'].unique()\n",
    "coupons"
   ]
  },
  {
   "cell_type": "code",
   "execution_count": 2278,
   "id": "4255cced",
   "metadata": {},
   "outputs": [],
   "source": [
    "coupons_map ={'25OFFDECEMBER':1, 'CHRISTMAS40OFF':2, 'CHRISTMAS40OFF;CHRISTMAS40OFF':2,\n",
    "       '25OFFNOVEMBER':3, 'ABONDONED25':4, '2ORMOREITEMS30OFF':5,\n",
    "       '20OFFOCTOBER':6, '2ORMOREITEMS25OFF':7, '20OFFSEPTEMBER':8, 'FAV25':9,\n",
    "       'SEPTEMBER20OFF':8, '20OFFAUGUST':9, 'TWOITEMS30OFF':10, 'JULY20OFF':11,\n",
    "       'JUNE20OFF':12, 'MAY15OFF':13, 'APRIL20OFF':14, '20OFF':15, 'GETTWO20':16,\n",
    "       'FEB10':17, 'JAN10':18, 'JANUARY15':19, 'CHRISTMAS25':20, 'ABANDONED30':21,\n",
    "        '25OFFF':22,'2ORMOREITEMS40OFF':23,'25OFF':22,'2OREMOREITEMS40OFF;2OREMOREITEMS40OFF':23,\n",
    "        '2OREMOREITEMS40OFF;2OREMOREITEMS40OFF;2OREMOREITEMS40OFF':24,'25OFFJANUARY':25,\n",
    "            '2ORMOREITEMS40PFF':26,'BIGSALEOFF':27, 'FAVORITED20':28,'THANKYOU':29,'SEPTEMBER25OFF':30,\n",
    "             '2ORMOREITEMS30OFF':31,'25OFFSUMMER':32,'JUNE25OFF':33,'MAY25OFF':34,'MAY25OFF;MAY25OFF':34,\n",
    "             'APRIL25OFF':35,'MOTHERSDAY':36,'NOTES20':37,'25PROMO':38,'ALL50':39,'20OFFJANUARY':40}"
   ]
  },
  {
   "cell_type": "code",
   "execution_count": 2279,
   "id": "49fc6ed4",
   "metadata": {},
   "outputs": [],
   "source": [
    "df['Coupon Code'] = df['Coupon Code'].map(coupons_map)"
   ]
  },
  {
   "cell_type": "code",
   "execution_count": 2280,
   "id": "148ad668",
   "metadata": {},
   "outputs": [],
   "source": [
    "df.drop(columns=['Sale Date','Day Of Year'],inplace = True)"
   ]
  },
  {
   "cell_type": "code",
   "execution_count": 2281,
   "id": "bc0117e4",
   "metadata": {},
   "outputs": [],
   "source": [
    "color_map = {\"Brown\":1,\"Gray\":2,\"Black\":3,\"Navy Blue\":4,\"Blue\":5,\"Yellow\":6,\"Red\":7,\"Pink\":8,\n",
    "            \"Multicolered\":9,\"Green\":10,\"Beige\":11,\"Purple\":12,\"Leopar\":13,\"Multicolored\":9,\n",
    "            \"Grey\":2,\"Multicolor\":9,\"Rose Gold\":14,\"Rainbow\":15,\"White\":16}"
   ]
  },
  {
   "cell_type": "code",
   "execution_count": 2282,
   "id": "5a73b439",
   "metadata": {},
   "outputs": [
    {
     "data": {
      "text/plain": [
       "Index(['Item Model', 'Quantity', 'Price', 'Coupon Code', 'Discount Amount',\n",
       "       'Ship Country', 'Order ID', 'Season'],\n",
       "      dtype='object')"
      ]
     },
     "execution_count": 2282,
     "metadata": {},
     "output_type": "execute_result"
    }
   ],
   "source": [
    "df.columns"
   ]
  },
  {
   "cell_type": "code",
   "execution_count": 2283,
   "id": "41321ec7",
   "metadata": {},
   "outputs": [
    {
     "name": "stdout",
     "output_type": "stream",
     "text": [
      "Leather Apple iPhone 12 & iPhone 12 Pro (6.1\") Magnetic Detachable RFID Protection Wallet Case with Card Slots, iPhone 12 Pro Back Cover\n",
      "Leather Apple iPhone 12 PRO MAX (6.7\") Magnetic Detachable RFID Protection Pouch Wallet Case with Card Slots, iPhone 12 Pro Max Back Cover\n",
      "Leather Apple iPhone 12 & iPhone 12 Pro (6.1\") Magnetic Detachable RFID Protection Wallet Case with Card Slots, iPhone 12 Pro Back Cover\n",
      "Leather Apple iPhone 12 PRO MAX (6.7\") Magnetic Detachable RFID Protection Pouch Wallet Case with Card Slots, iPhone 12 Pro Max Back Cover\n",
      "Nude Leather Apple iPhone 12 PRO MAX (6.7\") Magnetic Detachable RFID Protection Wallet Case with Card Slots, iPhone 12 Pro Max Back Cover\n",
      "Leather Apple iPhone 12 & iPhone 12 Pro (6.1\") Magnetic Detachable RFID Protection Wallet Case with Card Slots, iPhone 12 Pro Back Cover\n",
      "Leather Apple iPhone 12 PRO MAX (6.7\") Magnetic Detachable RFID Protection Pouch Wallet Case with Card Slots, iPhone 12 Pro Max Back Cover\n",
      "Leather Apple iPhone 12 & iPhone 12 Pro (6.1\") Magnetic Detachable RFID Protection Wallet Case with Card Slots, iPhone 12 Pro Back Cover\n",
      "Leather Apple iPhone 12 & iPhone 12 Pro (6.1\") Magnetic Detachable RFID Protection Wallet Case with Card Slots, iPhone 12 Pro Back Cover\n",
      "Leather Apple iPhone 12 & iPhone 12 Pro (6.1\") Magnetic Detachable RFID Protection Wallet Case with Card Slots, iPhone 12 Pro Back Cover\n",
      "Leather Apple iPhone 12 PRO MAX (6.7\") Magnetic Detachable RFID Protection Pouch Wallet Case with Card Slots, iPhone 12 Pro Max Back Cover\n",
      "Nude Leather Apple iPhone 12 PRO MAX (6.7\") Magnetic Detachable RFID Protection Wallet Case with Card Slots, iPhone 12 Pro Max Back Cover\n",
      "Leather Apple iPhone 12 & iPhone 12 Pro (6.1\") Magnetic Detachable RFID Protection Wallet Case with Card Slots, iPhone 12 Pro Back Cover\n",
      "Leather Apple iPhone 12 & iPhone 12 Pro (6.1\") Magnetic Detachable RFID Protection Wallet Case with Card Slots, iPhone 12 Pro Back Cover\n",
      "Leather Apple iPhone 12 & iPhone 12 Pro (6.1\") Magnetic Detachable RFID Protection Wallet Case with Card Slots, iPhone 12 Pro Back Cover\n",
      "Leather Apple iPhone 12 & iPhone 12 Pro (6.1\") Magnetic Detachable RFID Protection Wallet Case with Card Slots, iPhone 12 Pro Back Cover\n",
      "Nude Leather Apple iPhone 12 PRO MAX (6.7\") Magnetic Detachable RFID Protection Wallet Case with Card Slots, iPhone 12 Pro Max Back Cover\n",
      "Leather Apple iPhone 12 & iPhone 12 Pro (6.1\") Magnetic Detachable RFID Protection Wallet Case with Card Slots, iPhone 12 Pro Back Cover\n",
      "Leather Apple iPhone 12 & iPhone 12 Pro (6.1\") Magnetic Detachable RFID Protection Wallet Case with Card Slots, iPhone 12 Pro Back Cover\n",
      "Leather Apple iPhone 12 PRO MAX (6.7\") Magnetic Detachable RFID Protection Pouch Wallet Case with Card Slots, iPhone 12 Pro Max Back Cover\n",
      "Leather Apple iPhone 12 & iPhone 12 Pro (6.1\") Magnetic Detachable RFID Protection Wallet Case with Card Slots, iPhone 12 Pro Back Cover\n",
      "Leather Apple iPhone 12 & iPhone 12 Pro (6.1\") Magnetic Detachable RFID Protection Wallet Case with Card Slots, iPhone 12 Pro Back Cover\n",
      "Leather Apple iPhone 12 & iPhone 12 Pro (6.1\") Magnetic Detachable RFID Protection Wallet Case with Card Slots, iPhone 12 Pro Back Cover\n",
      "Leather Apple iPhone 12 & iPhone 12 Pro (6.1\") Magnetic Detachable RFID Protection Wallet Case with Card Slots, iPhone 12 Pro Back Cover\n",
      "Leather Apple iPhone 12 & iPhone 12 Pro (6.1\") Magnetic Detachable RFID Protection Wallet Case with Card Slots, iPhone 12 Pro Back Cover\n",
      "Nude Leather Apple iPhone 12 PRO MAX (6.7\") Magnetic Detachable RFID Protection Wallet Case with Card Slots, iPhone 12 Pro Max Back Cover\n",
      "Salmon Leather Apple Watch Band 38mm 40mm 42mm 44mm for Women iWatch strap bracelet by Bouletta\n",
      "Samsung Galaxy S10 Plus Magnetic Detachable Phone Case, Wallet Phone Case Samsung S10 Plus, Samsung Phone  S10 Plus Cover by Bouletta\n",
      "Apple iPhone X/iPhone XS iPhone xs case cover iPhone 10 phone cases Vegetal Tan Leather Magnetic Detachable Leather Wallet Case by Bouletta\n",
      "iPhone X/XS Wallet Case,iPhone xs case with card holder, iphone 10 cover with wallet Tiana Tan Leather Pouch Magnetic Detachable by Bouletta\n"
     ]
    }
   ],
   "source": [
    "def map_color(item_name):\n",
    "    x = False\n",
    "    for model, number in color_map.items():\n",
    "        if model in item_name:\n",
    "            x= True\n",
    "            return number\n",
    "    if x == False:\n",
    "        if \"Genuine\" in item_name:\n",
    "            return 0\n",
    "        print(item_name)\n",
    "df[\"Color\"] = df[\"Item Model\"].apply(map_color)"
   ]
  },
  {
   "cell_type": "code",
   "execution_count": 2284,
   "id": "3dcab1b3",
   "metadata": {},
   "outputs": [],
   "source": [
    "df['Color'].fillna(0, inplace=True)"
   ]
  },
  {
   "cell_type": "code",
   "execution_count": 2285,
   "id": "2adec1c7",
   "metadata": {},
   "outputs": [],
   "source": [
    "model_map = {\"iPhone 12\": 1, \"iPhone 12 Pro\": 2, \"Samsung Galaxy S21\": 3,\"Galaxy Note 20\":4,\\\n",
    "             \"iPhone 11 Pro Max\": 5,\"iPhone 12 PRO MAX\":6,\"Watch Band\":7,\"iPhone Mini 12\":8,\\\n",
    "            \"Galaxy Note 20 ULTRA\":9,\"Galaxy S20 Ultra\":10,\"iPhone 13 Series\":11,\n",
    "            \"Galaxy Note 10 Plus\":12,\"iPhone 13 Pro\":13,\"Dog\":14,\"AirPods\":14,\"Desk Mat\":15,\n",
    "            \"Galaxy S20 Plus\":16,\"iPhone SE\":17,\"Samsung Galaxy S20\":18,\"Apple iPhone XS MAX\":19,\n",
    "            \"Apple iPhone XR\":20,\"Apple iPhone X/XS\":21,\"iPhone 11\":22,\"Samsung S10\":23,\n",
    "            \"Card Holder\":24,\"Galaxy N10\":25,\"iPhone 7/8\":26,\"Women's Wallet\":27,\n",
    "            \"Custom order\":28,\"Organizer\":29,\"iPhone 14 Series\":30,\"Galaxy S22 Series\":31,\"AirTag\":32,\n",
    "            \"Mouse Pad\":33,\"Galaxy S22\":34,\"Makeup Purse\":35,\"Huawei Mate 20 Pro\":36,\n",
    "             \"Samsung Galaxy S10\":37,\"Huawei Mate 20 Lite\":38,\"Samsung Galaxy S8 Plus\":39,\n",
    "             \"Samsung Galaxy S10 Plus\":40,\"Samsung Note 8\":41,\"Huawei P20 Pro\":42,\"Samsung Note 10\":43,\n",
    "            \"Samsung Galaxy S8\":44,\"Galaxy S9 Plus\":45,\"Galaxy Note 9\":46,\"Galaxy S9\":47,\n",
    "            \"iPhone XS MAX\":48,\"Samsung Note 9\":46,\"iPhone X/iPhone XS\":49,\"iPhone X / iPhone XS\":49,\n",
    "            \"Apple Watch\":7,\"iPhone X/XS\":49,\"iPhone 7 / 8\":26,\"Galaxy Note 10+\":51,\"iPhone X\":52} "
   ]
  },
  {
   "cell_type": "code",
   "execution_count": 2286,
   "id": "2fd31032",
   "metadata": {},
   "outputs": [],
   "source": [
    "def map_model(item_name):\n",
    "    x = False\n",
    "    for model, number in model_map.items():\n",
    "        if model in item_name:\n",
    "            x= True\n",
    "            return number\n",
    "    if x == False:\n",
    "        print(item_name)\n",
    "df[\"Item Model\"] = df[\"Item Model\"].apply(map_model)"
   ]
  },
  {
   "cell_type": "code",
   "execution_count": 2287,
   "id": "6d9dd6f8",
   "metadata": {},
   "outputs": [
    {
     "data": {
      "text/html": [
       "<div>\n",
       "<style scoped>\n",
       "    .dataframe tbody tr th:only-of-type {\n",
       "        vertical-align: middle;\n",
       "    }\n",
       "\n",
       "    .dataframe tbody tr th {\n",
       "        vertical-align: top;\n",
       "    }\n",
       "\n",
       "    .dataframe thead th {\n",
       "        text-align: right;\n",
       "    }\n",
       "</style>\n",
       "<table border=\"1\" class=\"dataframe\">\n",
       "  <thead>\n",
       "    <tr style=\"text-align: right;\">\n",
       "      <th></th>\n",
       "      <th>Item Model</th>\n",
       "      <th>Quantity</th>\n",
       "      <th>Price</th>\n",
       "      <th>Coupon Code</th>\n",
       "      <th>Discount Amount</th>\n",
       "      <th>Ship Country</th>\n",
       "      <th>Order ID</th>\n",
       "      <th>Season</th>\n",
       "      <th>Color</th>\n",
       "    </tr>\n",
       "  </thead>\n",
       "  <tbody>\n",
       "    <tr>\n",
       "      <th>427</th>\n",
       "      <td>43</td>\n",
       "      <td>1</td>\n",
       "      <td>36.6</td>\n",
       "      <td>11</td>\n",
       "      <td>7.32</td>\n",
       "      <td>1</td>\n",
       "      <td>1692787868</td>\n",
       "      <td>2</td>\n",
       "      <td>1.0</td>\n",
       "    </tr>\n",
       "    <tr>\n",
       "      <th>155</th>\n",
       "      <td>1</td>\n",
       "      <td>1</td>\n",
       "      <td>132.0</td>\n",
       "      <td>3</td>\n",
       "      <td>33.00</td>\n",
       "      <td>1</td>\n",
       "      <td>1835414023</td>\n",
       "      <td>3</td>\n",
       "      <td>0.0</td>\n",
       "    </tr>\n",
       "  </tbody>\n",
       "</table>\n",
       "</div>"
      ],
      "text/plain": [
       "     Item Model  Quantity  Price  Coupon Code  Discount Amount  Ship Country  \\\n",
       "427          43         1   36.6           11             7.32             1   \n",
       "155           1         1  132.0            3            33.00             1   \n",
       "\n",
       "       Order ID  Season  Color  \n",
       "427  1692787868       2    1.0  \n",
       "155  1835414023       3    0.0  "
      ]
     },
     "execution_count": 2287,
     "metadata": {},
     "output_type": "execute_result"
    }
   ],
   "source": [
    "df.sample(2)"
   ]
  },
  {
   "cell_type": "code",
   "execution_count": 2288,
   "id": "554885d9",
   "metadata": {
    "scrolled": true
   },
   "outputs": [
    {
     "data": {
      "text/html": [
       "<div>\n",
       "<style scoped>\n",
       "    .dataframe tbody tr th:only-of-type {\n",
       "        vertical-align: middle;\n",
       "    }\n",
       "\n",
       "    .dataframe tbody tr th {\n",
       "        vertical-align: top;\n",
       "    }\n",
       "\n",
       "    .dataframe thead th {\n",
       "        text-align: right;\n",
       "    }\n",
       "</style>\n",
       "<table border=\"1\" class=\"dataframe\">\n",
       "  <thead>\n",
       "    <tr style=\"text-align: right;\">\n",
       "      <th></th>\n",
       "      <th>Item Model</th>\n",
       "      <th>Quantity</th>\n",
       "      <th>Price</th>\n",
       "      <th>Coupon Code</th>\n",
       "      <th>Discount Amount</th>\n",
       "      <th>Ship Country</th>\n",
       "      <th>Order ID</th>\n",
       "      <th>Season</th>\n",
       "      <th>Color</th>\n",
       "    </tr>\n",
       "  </thead>\n",
       "  <tbody>\n",
       "    <tr>\n",
       "      <th>count</th>\n",
       "      <td>681.000000</td>\n",
       "      <td>681.000000</td>\n",
       "      <td>681.000000</td>\n",
       "      <td>681.000000</td>\n",
       "      <td>681.000000</td>\n",
       "      <td>681.000000</td>\n",
       "      <td>6.810000e+02</td>\n",
       "      <td>681.000000</td>\n",
       "      <td>681.000000</td>\n",
       "    </tr>\n",
       "    <tr>\n",
       "      <th>mean</th>\n",
       "      <td>16.753304</td>\n",
       "      <td>1.005874</td>\n",
       "      <td>60.315301</td>\n",
       "      <td>8.898678</td>\n",
       "      <td>13.180749</td>\n",
       "      <td>3.099853</td>\n",
       "      <td>1.739061e+09</td>\n",
       "      <td>1.729809</td>\n",
       "      <td>2.970631</td>\n",
       "    </tr>\n",
       "    <tr>\n",
       "      <th>std</th>\n",
       "      <td>12.762569</td>\n",
       "      <td>0.076471</td>\n",
       "      <td>18.859632</td>\n",
       "      <td>5.201528</td>\n",
       "      <td>7.727264</td>\n",
       "      <td>5.365085</td>\n",
       "      <td>9.822614e+07</td>\n",
       "      <td>1.118221</td>\n",
       "      <td>3.280381</td>\n",
       "    </tr>\n",
       "    <tr>\n",
       "      <th>min</th>\n",
       "      <td>1.000000</td>\n",
       "      <td>1.000000</td>\n",
       "      <td>25.330000</td>\n",
       "      <td>1.000000</td>\n",
       "      <td>0.000000</td>\n",
       "      <td>1.000000</td>\n",
       "      <td>1.557283e+09</td>\n",
       "      <td>0.000000</td>\n",
       "      <td>0.000000</td>\n",
       "    </tr>\n",
       "    <tr>\n",
       "      <th>25%</th>\n",
       "      <td>5.000000</td>\n",
       "      <td>1.000000</td>\n",
       "      <td>49.000000</td>\n",
       "      <td>3.000000</td>\n",
       "      <td>8.760000</td>\n",
       "      <td>1.000000</td>\n",
       "      <td>1.655229e+09</td>\n",
       "      <td>1.000000</td>\n",
       "      <td>1.000000</td>\n",
       "    </tr>\n",
       "    <tr>\n",
       "      <th>50%</th>\n",
       "      <td>17.000000</td>\n",
       "      <td>1.000000</td>\n",
       "      <td>56.400000</td>\n",
       "      <td>9.000000</td>\n",
       "      <td>11.330000</td>\n",
       "      <td>1.000000</td>\n",
       "      <td>1.739930e+09</td>\n",
       "      <td>2.000000</td>\n",
       "      <td>1.000000</td>\n",
       "    </tr>\n",
       "    <tr>\n",
       "      <th>75%</th>\n",
       "      <td>23.000000</td>\n",
       "      <td>1.000000</td>\n",
       "      <td>65.400000</td>\n",
       "      <td>13.000000</td>\n",
       "      <td>14.670000</td>\n",
       "      <td>2.000000</td>\n",
       "      <td>1.824392e+09</td>\n",
       "      <td>3.000000</td>\n",
       "      <td>5.000000</td>\n",
       "    </tr>\n",
       "    <tr>\n",
       "      <th>max</th>\n",
       "      <td>52.000000</td>\n",
       "      <td>2.000000</td>\n",
       "      <td>146.250000</td>\n",
       "      <td>31.000000</td>\n",
       "      <td>83.460000</td>\n",
       "      <td>34.000000</td>\n",
       "      <td>1.908771e+09</td>\n",
       "      <td>3.000000</td>\n",
       "      <td>16.000000</td>\n",
       "    </tr>\n",
       "  </tbody>\n",
       "</table>\n",
       "</div>"
      ],
      "text/plain": [
       "       Item Model    Quantity       Price  Coupon Code  Discount Amount  \\\n",
       "count  681.000000  681.000000  681.000000   681.000000       681.000000   \n",
       "mean    16.753304    1.005874   60.315301     8.898678        13.180749   \n",
       "std     12.762569    0.076471   18.859632     5.201528         7.727264   \n",
       "min      1.000000    1.000000   25.330000     1.000000         0.000000   \n",
       "25%      5.000000    1.000000   49.000000     3.000000         8.760000   \n",
       "50%     17.000000    1.000000   56.400000     9.000000        11.330000   \n",
       "75%     23.000000    1.000000   65.400000    13.000000        14.670000   \n",
       "max     52.000000    2.000000  146.250000    31.000000        83.460000   \n",
       "\n",
       "       Ship Country      Order ID      Season       Color  \n",
       "count    681.000000  6.810000e+02  681.000000  681.000000  \n",
       "mean       3.099853  1.739061e+09    1.729809    2.970631  \n",
       "std        5.365085  9.822614e+07    1.118221    3.280381  \n",
       "min        1.000000  1.557283e+09    0.000000    0.000000  \n",
       "25%        1.000000  1.655229e+09    1.000000    1.000000  \n",
       "50%        1.000000  1.739930e+09    2.000000    1.000000  \n",
       "75%        2.000000  1.824392e+09    3.000000    5.000000  \n",
       "max       34.000000  1.908771e+09    3.000000   16.000000  "
      ]
     },
     "execution_count": 2288,
     "metadata": {},
     "output_type": "execute_result"
    }
   ],
   "source": [
    "df.describe()"
   ]
  },
  {
   "cell_type": "code",
   "execution_count": 2289,
   "id": "5f9e8289",
   "metadata": {},
   "outputs": [],
   "source": [
    "df.to_csv(df_name+\"Modified.csv\", index=False)"
   ]
  },
  {
   "cell_type": "code",
   "execution_count": 2290,
   "id": "217b62eb",
   "metadata": {},
   "outputs": [],
   "source": [
    "df_2020 = pd.read_csv(\"EtsySoldOrderItems2020Modified.csv\")\n",
    "df_2021 = pd.read_csv(\"EtsySoldOrderItems2021Modified.csv\")\n",
    "df_2022 = pd.read_csv(\"EtsySoldOrderItems2022Modified.csv\")"
   ]
  },
  {
   "cell_type": "code",
   "execution_count": 2291,
   "id": "2951b6c1",
   "metadata": {},
   "outputs": [],
   "source": [
    "merged_df = pd.concat([df_2020, df_2021, df_2022])"
   ]
  },
  {
   "cell_type": "code",
   "execution_count": 2292,
   "id": "728157e3",
   "metadata": {},
   "outputs": [
    {
     "data": {
      "text/html": [
       "<div>\n",
       "<style scoped>\n",
       "    .dataframe tbody tr th:only-of-type {\n",
       "        vertical-align: middle;\n",
       "    }\n",
       "\n",
       "    .dataframe tbody tr th {\n",
       "        vertical-align: top;\n",
       "    }\n",
       "\n",
       "    .dataframe thead th {\n",
       "        text-align: right;\n",
       "    }\n",
       "</style>\n",
       "<table border=\"1\" class=\"dataframe\">\n",
       "  <thead>\n",
       "    <tr style=\"text-align: right;\">\n",
       "      <th></th>\n",
       "      <th>Item Model</th>\n",
       "      <th>Quantity</th>\n",
       "      <th>Price</th>\n",
       "      <th>Coupon Code</th>\n",
       "      <th>Discount Amount</th>\n",
       "      <th>Ship Country</th>\n",
       "      <th>Order ID</th>\n",
       "      <th>Season</th>\n",
       "      <th>Color</th>\n",
       "    </tr>\n",
       "  </thead>\n",
       "  <tbody>\n",
       "    <tr>\n",
       "      <th>count</th>\n",
       "      <td>2227.000000</td>\n",
       "      <td>2227.000000</td>\n",
       "      <td>2227.000000</td>\n",
       "      <td>2173.000000</td>\n",
       "      <td>2227.000000</td>\n",
       "      <td>2227.000000</td>\n",
       "      <td>2.227000e+03</td>\n",
       "      <td>2227.000000</td>\n",
       "      <td>2227.000000</td>\n",
       "    </tr>\n",
       "    <tr>\n",
       "      <th>mean</th>\n",
       "      <td>12.615177</td>\n",
       "      <td>1.003592</td>\n",
       "      <td>71.017975</td>\n",
       "      <td>19.782789</td>\n",
       "      <td>17.821230</td>\n",
       "      <td>2.750786</td>\n",
       "      <td>2.106016e+09</td>\n",
       "      <td>1.550516</td>\n",
       "      <td>2.461159</td>\n",
       "    </tr>\n",
       "    <tr>\n",
       "      <th>std</th>\n",
       "      <td>10.496164</td>\n",
       "      <td>0.059841</td>\n",
       "      <td>29.852191</td>\n",
       "      <td>10.763177</td>\n",
       "      <td>10.719705</td>\n",
       "      <td>5.052318</td>\n",
       "      <td>3.085715e+08</td>\n",
       "      <td>1.123359</td>\n",
       "      <td>3.585773</td>\n",
       "    </tr>\n",
       "    <tr>\n",
       "      <th>min</th>\n",
       "      <td>1.000000</td>\n",
       "      <td>1.000000</td>\n",
       "      <td>25.330000</td>\n",
       "      <td>1.000000</td>\n",
       "      <td>0.000000</td>\n",
       "      <td>1.000000</td>\n",
       "      <td>1.557283e+09</td>\n",
       "      <td>0.000000</td>\n",
       "      <td>0.000000</td>\n",
       "    </tr>\n",
       "    <tr>\n",
       "      <th>25%</th>\n",
       "      <td>4.000000</td>\n",
       "      <td>1.000000</td>\n",
       "      <td>52.000000</td>\n",
       "      <td>11.000000</td>\n",
       "      <td>12.010000</td>\n",
       "      <td>1.000000</td>\n",
       "      <td>1.841292e+09</td>\n",
       "      <td>1.000000</td>\n",
       "      <td>0.000000</td>\n",
       "    </tr>\n",
       "    <tr>\n",
       "      <th>50%</th>\n",
       "      <td>11.000000</td>\n",
       "      <td>1.000000</td>\n",
       "      <td>64.000000</td>\n",
       "      <td>22.000000</td>\n",
       "      <td>15.630000</td>\n",
       "      <td>1.000000</td>\n",
       "      <td>2.120118e+09</td>\n",
       "      <td>2.000000</td>\n",
       "      <td>1.000000</td>\n",
       "    </tr>\n",
       "    <tr>\n",
       "      <th>75%</th>\n",
       "      <td>18.000000</td>\n",
       "      <td>1.000000</td>\n",
       "      <td>76.160000</td>\n",
       "      <td>25.000000</td>\n",
       "      <td>19.645000</td>\n",
       "      <td>1.000000</td>\n",
       "      <td>2.345903e+09</td>\n",
       "      <td>3.000000</td>\n",
       "      <td>3.000000</td>\n",
       "    </tr>\n",
       "    <tr>\n",
       "      <th>max</th>\n",
       "      <td>52.000000</td>\n",
       "      <td>2.000000</td>\n",
       "      <td>292.000000</td>\n",
       "      <td>40.000000</td>\n",
       "      <td>126.000000</td>\n",
       "      <td>41.000000</td>\n",
       "      <td>2.743856e+09</td>\n",
       "      <td>3.000000</td>\n",
       "      <td>16.000000</td>\n",
       "    </tr>\n",
       "  </tbody>\n",
       "</table>\n",
       "</div>"
      ],
      "text/plain": [
       "        Item Model     Quantity        Price  Coupon Code  Discount Amount  \\\n",
       "count  2227.000000  2227.000000  2227.000000  2173.000000      2227.000000   \n",
       "mean     12.615177     1.003592    71.017975    19.782789        17.821230   \n",
       "std      10.496164     0.059841    29.852191    10.763177        10.719705   \n",
       "min       1.000000     1.000000    25.330000     1.000000         0.000000   \n",
       "25%       4.000000     1.000000    52.000000    11.000000        12.010000   \n",
       "50%      11.000000     1.000000    64.000000    22.000000        15.630000   \n",
       "75%      18.000000     1.000000    76.160000    25.000000        19.645000   \n",
       "max      52.000000     2.000000   292.000000    40.000000       126.000000   \n",
       "\n",
       "       Ship Country      Order ID       Season        Color  \n",
       "count   2227.000000  2.227000e+03  2227.000000  2227.000000  \n",
       "mean       2.750786  2.106016e+09     1.550516     2.461159  \n",
       "std        5.052318  3.085715e+08     1.123359     3.585773  \n",
       "min        1.000000  1.557283e+09     0.000000     0.000000  \n",
       "25%        1.000000  1.841292e+09     1.000000     0.000000  \n",
       "50%        1.000000  2.120118e+09     2.000000     1.000000  \n",
       "75%        1.000000  2.345903e+09     3.000000     3.000000  \n",
       "max       41.000000  2.743856e+09     3.000000    16.000000  "
      ]
     },
     "execution_count": 2292,
     "metadata": {},
     "output_type": "execute_result"
    }
   ],
   "source": [
    "merged_df.describe()"
   ]
  },
  {
   "cell_type": "code",
   "execution_count": 2293,
   "id": "5cc9c601",
   "metadata": {},
   "outputs": [],
   "source": [
    "merged_df_csv = merged_df.drop(columns=[\"Order ID\"])"
   ]
  },
  {
   "cell_type": "code",
   "execution_count": 2294,
   "id": "6f47769b",
   "metadata": {},
   "outputs": [],
   "source": [
    "merged_df_csv.to_csv(\"EtsySoldOrderItems2020-2021-2022.csv\", index=False)"
   ]
  },
  {
   "cell_type": "code",
   "execution_count": 2295,
   "id": "3b014f67",
   "metadata": {},
   "outputs": [
    {
     "data": {
      "text/plain": [
       "Item Model          0\n",
       "Quantity            0\n",
       "Price               0\n",
       "Coupon Code        54\n",
       "Discount Amount     0\n",
       "Ship Country        0\n",
       "Order ID            0\n",
       "Season              0\n",
       "Color               0\n",
       "dtype: int64"
      ]
     },
     "execution_count": 2295,
     "metadata": {},
     "output_type": "execute_result"
    }
   ],
   "source": [
    "merged_df.isna().sum()"
   ]
  },
  {
   "cell_type": "code",
   "execution_count": 2296,
   "id": "c62f514d",
   "metadata": {},
   "outputs": [
    {
     "data": {
      "text/plain": [
       "0"
      ]
     },
     "execution_count": 2296,
     "metadata": {},
     "output_type": "execute_result"
    }
   ],
   "source": [
    "merged_df.duplicated().all().sum()"
   ]
  },
  {
   "cell_type": "code",
   "execution_count": 2297,
   "id": "7f89836f",
   "metadata": {},
   "outputs": [],
   "source": [
    "review_df = pd.read_json('reviews.json')"
   ]
  },
  {
   "cell_type": "code",
   "execution_count": 2298,
   "id": "001898b5",
   "metadata": {},
   "outputs": [
    {
     "data": {
      "text/html": [
       "<div>\n",
       "<style scoped>\n",
       "    .dataframe tbody tr th:only-of-type {\n",
       "        vertical-align: middle;\n",
       "    }\n",
       "\n",
       "    .dataframe tbody tr th {\n",
       "        vertical-align: top;\n",
       "    }\n",
       "\n",
       "    .dataframe thead th {\n",
       "        text-align: right;\n",
       "    }\n",
       "</style>\n",
       "<table border=\"1\" class=\"dataframe\">\n",
       "  <thead>\n",
       "    <tr style=\"text-align: right;\">\n",
       "      <th></th>\n",
       "      <th>reviewer</th>\n",
       "      <th>date_reviewed</th>\n",
       "      <th>star_rating</th>\n",
       "      <th>message</th>\n",
       "      <th>order_id</th>\n",
       "    </tr>\n",
       "  </thead>\n",
       "  <tbody>\n",
       "    <tr>\n",
       "      <th>0</th>\n",
       "      <td>Katie</td>\n",
       "      <td>01/24/2023</td>\n",
       "      <td>5</td>\n",
       "      <td>Bought for my bf, arrived earlier than expecte...</td>\n",
       "      <td>2698975905</td>\n",
       "    </tr>\n",
       "    <tr>\n",
       "      <th>1</th>\n",
       "      <td>Andrea</td>\n",
       "      <td>01/02/2023</td>\n",
       "      <td>4</td>\n",
       "      <td>Wir haben den Artikel in schwarz und blau best...</td>\n",
       "      <td>2735309118</td>\n",
       "    </tr>\n",
       "    <tr>\n",
       "      <th>2</th>\n",
       "      <td>Andrea</td>\n",
       "      <td>01/02/2023</td>\n",
       "      <td>4</td>\n",
       "      <td>Die Handytaschen sind sehr hochwertig verarbei...</td>\n",
       "      <td>2735309118</td>\n",
       "    </tr>\n",
       "    <tr>\n",
       "      <th>3</th>\n",
       "      <td>Lerissa</td>\n",
       "      <td>12/30/2022</td>\n",
       "      <td>4</td>\n",
       "      <td></td>\n",
       "      <td>2732670357</td>\n",
       "    </tr>\n",
       "    <tr>\n",
       "      <th>4</th>\n",
       "      <td>Lerissa</td>\n",
       "      <td>12/30/2022</td>\n",
       "      <td>4</td>\n",
       "      <td></td>\n",
       "      <td>2732670357</td>\n",
       "    </tr>\n",
       "  </tbody>\n",
       "</table>\n",
       "</div>"
      ],
      "text/plain": [
       "  reviewer date_reviewed  star_rating  \\\n",
       "0    Katie    01/24/2023            5   \n",
       "1   Andrea    01/02/2023            4   \n",
       "2   Andrea    01/02/2023            4   \n",
       "3  Lerissa    12/30/2022            4   \n",
       "4  Lerissa    12/30/2022            4   \n",
       "\n",
       "                                             message    order_id  \n",
       "0  Bought for my bf, arrived earlier than expecte...  2698975905  \n",
       "1  Wir haben den Artikel in schwarz und blau best...  2735309118  \n",
       "2  Die Handytaschen sind sehr hochwertig verarbei...  2735309118  \n",
       "3                                                     2732670357  \n",
       "4                                                     2732670357  "
      ]
     },
     "execution_count": 2298,
     "metadata": {},
     "output_type": "execute_result"
    }
   ],
   "source": [
    "review_df.head()"
   ]
  },
  {
   "cell_type": "code",
   "execution_count": 2299,
   "id": "4501ff6b",
   "metadata": {},
   "outputs": [],
   "source": [
    "review_df['message'] = np.where(review_df['message'] == '', 0, 1)"
   ]
  },
  {
   "cell_type": "code",
   "execution_count": 2300,
   "id": "b817f947",
   "metadata": {},
   "outputs": [],
   "source": [
    "etsy = pd.merge(merged_df, review_df, left_on='Order ID',right_on='order_id')"
   ]
  },
  {
   "cell_type": "code",
   "execution_count": 2301,
   "id": "b982e23a",
   "metadata": {},
   "outputs": [],
   "source": [
    "etsy.drop(columns=['date_reviewed',\"order_id\",\"Order ID\",\"reviewer\"],inplace = True)"
   ]
  },
  {
   "cell_type": "code",
   "execution_count": 2302,
   "id": "6af5a3ef",
   "metadata": {},
   "outputs": [
    {
     "data": {
      "text/html": [
       "<div>\n",
       "<style scoped>\n",
       "    .dataframe tbody tr th:only-of-type {\n",
       "        vertical-align: middle;\n",
       "    }\n",
       "\n",
       "    .dataframe tbody tr th {\n",
       "        vertical-align: top;\n",
       "    }\n",
       "\n",
       "    .dataframe thead th {\n",
       "        text-align: right;\n",
       "    }\n",
       "</style>\n",
       "<table border=\"1\" class=\"dataframe\">\n",
       "  <thead>\n",
       "    <tr style=\"text-align: right;\">\n",
       "      <th></th>\n",
       "      <th>Item Model</th>\n",
       "      <th>Quantity</th>\n",
       "      <th>Price</th>\n",
       "      <th>Coupon Code</th>\n",
       "      <th>Discount Amount</th>\n",
       "      <th>Ship Country</th>\n",
       "      <th>Season</th>\n",
       "      <th>Color</th>\n",
       "      <th>star_rating</th>\n",
       "      <th>message</th>\n",
       "    </tr>\n",
       "  </thead>\n",
       "  <tbody>\n",
       "    <tr>\n",
       "      <th>0</th>\n",
       "      <td>5</td>\n",
       "      <td>1</td>\n",
       "      <td>55.33</td>\n",
       "      <td>1.0</td>\n",
       "      <td>13.83</td>\n",
       "      <td>1</td>\n",
       "      <td>0</td>\n",
       "      <td>1.0</td>\n",
       "      <td>2</td>\n",
       "      <td>1</td>\n",
       "    </tr>\n",
       "    <tr>\n",
       "      <th>1</th>\n",
       "      <td>1</td>\n",
       "      <td>1</td>\n",
       "      <td>58.67</td>\n",
       "      <td>1.0</td>\n",
       "      <td>14.67</td>\n",
       "      <td>5</td>\n",
       "      <td>0</td>\n",
       "      <td>0.0</td>\n",
       "      <td>5</td>\n",
       "      <td>0</td>\n",
       "    </tr>\n",
       "    <tr>\n",
       "      <th>2</th>\n",
       "      <td>1</td>\n",
       "      <td>1</td>\n",
       "      <td>62.00</td>\n",
       "      <td>1.0</td>\n",
       "      <td>15.50</td>\n",
       "      <td>1</td>\n",
       "      <td>0</td>\n",
       "      <td>3.0</td>\n",
       "      <td>5</td>\n",
       "      <td>1</td>\n",
       "    </tr>\n",
       "    <tr>\n",
       "      <th>3</th>\n",
       "      <td>1</td>\n",
       "      <td>1</td>\n",
       "      <td>52.00</td>\n",
       "      <td>1.0</td>\n",
       "      <td>13.00</td>\n",
       "      <td>1</td>\n",
       "      <td>0</td>\n",
       "      <td>1.0</td>\n",
       "      <td>5</td>\n",
       "      <td>1</td>\n",
       "    </tr>\n",
       "    <tr>\n",
       "      <th>4</th>\n",
       "      <td>4</td>\n",
       "      <td>1</td>\n",
       "      <td>115.00</td>\n",
       "      <td>2.0</td>\n",
       "      <td>46.00</td>\n",
       "      <td>1</td>\n",
       "      <td>0</td>\n",
       "      <td>0.0</td>\n",
       "      <td>5</td>\n",
       "      <td>1</td>\n",
       "    </tr>\n",
       "  </tbody>\n",
       "</table>\n",
       "</div>"
      ],
      "text/plain": [
       "   Item Model  Quantity   Price  Coupon Code  Discount Amount  Ship Country  \\\n",
       "0           5         1   55.33          1.0            13.83             1   \n",
       "1           1         1   58.67          1.0            14.67             5   \n",
       "2           1         1   62.00          1.0            15.50             1   \n",
       "3           1         1   52.00          1.0            13.00             1   \n",
       "4           4         1  115.00          2.0            46.00             1   \n",
       "\n",
       "   Season  Color  star_rating  message  \n",
       "0       0    1.0            2        1  \n",
       "1       0    0.0            5        0  \n",
       "2       0    3.0            5        1  \n",
       "3       0    1.0            5        1  \n",
       "4       0    0.0            5        1  "
      ]
     },
     "execution_count": 2302,
     "metadata": {},
     "output_type": "execute_result"
    }
   ],
   "source": [
    "etsy.head()"
   ]
  },
  {
   "cell_type": "code",
   "execution_count": 2303,
   "id": "1b976357",
   "metadata": {},
   "outputs": [
    {
     "data": {
      "text/html": [
       "<div>\n",
       "<style scoped>\n",
       "    .dataframe tbody tr th:only-of-type {\n",
       "        vertical-align: middle;\n",
       "    }\n",
       "\n",
       "    .dataframe tbody tr th {\n",
       "        vertical-align: top;\n",
       "    }\n",
       "\n",
       "    .dataframe thead th {\n",
       "        text-align: right;\n",
       "    }\n",
       "</style>\n",
       "<table border=\"1\" class=\"dataframe\">\n",
       "  <thead>\n",
       "    <tr style=\"text-align: right;\">\n",
       "      <th></th>\n",
       "      <th>Item Model</th>\n",
       "      <th>Quantity</th>\n",
       "      <th>Price</th>\n",
       "      <th>Coupon Code</th>\n",
       "      <th>Discount Amount</th>\n",
       "      <th>Ship Country</th>\n",
       "      <th>Season</th>\n",
       "      <th>Color</th>\n",
       "      <th>star_rating</th>\n",
       "      <th>message</th>\n",
       "    </tr>\n",
       "  </thead>\n",
       "  <tbody>\n",
       "    <tr>\n",
       "      <th>count</th>\n",
       "      <td>538.000000</td>\n",
       "      <td>538.000000</td>\n",
       "      <td>538.000000</td>\n",
       "      <td>509.000000</td>\n",
       "      <td>538.000000</td>\n",
       "      <td>538.000000</td>\n",
       "      <td>538.000000</td>\n",
       "      <td>538.000000</td>\n",
       "      <td>538.000000</td>\n",
       "      <td>538.000000</td>\n",
       "    </tr>\n",
       "    <tr>\n",
       "      <th>mean</th>\n",
       "      <td>11.951673</td>\n",
       "      <td>1.005576</td>\n",
       "      <td>70.794870</td>\n",
       "      <td>20.829077</td>\n",
       "      <td>18.315911</td>\n",
       "      <td>2.827138</td>\n",
       "      <td>1.570632</td>\n",
       "      <td>2.698885</td>\n",
       "      <td>4.657993</td>\n",
       "      <td>0.723048</td>\n",
       "    </tr>\n",
       "    <tr>\n",
       "      <th>std</th>\n",
       "      <td>10.259459</td>\n",
       "      <td>0.074535</td>\n",
       "      <td>26.200987</td>\n",
       "      <td>10.258675</td>\n",
       "      <td>12.007004</td>\n",
       "      <td>5.167389</td>\n",
       "      <td>1.069134</td>\n",
       "      <td>3.754877</td>\n",
       "      <td>0.900104</td>\n",
       "      <td>0.447909</td>\n",
       "    </tr>\n",
       "    <tr>\n",
       "      <th>min</th>\n",
       "      <td>1.000000</td>\n",
       "      <td>1.000000</td>\n",
       "      <td>25.330000</td>\n",
       "      <td>1.000000</td>\n",
       "      <td>0.000000</td>\n",
       "      <td>1.000000</td>\n",
       "      <td>0.000000</td>\n",
       "      <td>0.000000</td>\n",
       "      <td>1.000000</td>\n",
       "      <td>0.000000</td>\n",
       "    </tr>\n",
       "    <tr>\n",
       "      <th>25%</th>\n",
       "      <td>3.000000</td>\n",
       "      <td>1.000000</td>\n",
       "      <td>53.025000</td>\n",
       "      <td>13.000000</td>\n",
       "      <td>12.252500</td>\n",
       "      <td>1.000000</td>\n",
       "      <td>1.000000</td>\n",
       "      <td>0.000000</td>\n",
       "      <td>5.000000</td>\n",
       "      <td>0.000000</td>\n",
       "    </tr>\n",
       "    <tr>\n",
       "      <th>50%</th>\n",
       "      <td>10.000000</td>\n",
       "      <td>1.000000</td>\n",
       "      <td>64.750000</td>\n",
       "      <td>22.000000</td>\n",
       "      <td>16.000000</td>\n",
       "      <td>1.000000</td>\n",
       "      <td>2.000000</td>\n",
       "      <td>1.000000</td>\n",
       "      <td>5.000000</td>\n",
       "      <td>1.000000</td>\n",
       "    </tr>\n",
       "    <tr>\n",
       "      <th>75%</th>\n",
       "      <td>18.000000</td>\n",
       "      <td>1.000000</td>\n",
       "      <td>77.160000</td>\n",
       "      <td>30.000000</td>\n",
       "      <td>20.000000</td>\n",
       "      <td>1.000000</td>\n",
       "      <td>2.000000</td>\n",
       "      <td>5.000000</td>\n",
       "      <td>5.000000</td>\n",
       "      <td>1.000000</td>\n",
       "    </tr>\n",
       "    <tr>\n",
       "      <th>max</th>\n",
       "      <td>51.000000</td>\n",
       "      <td>2.000000</td>\n",
       "      <td>206.670000</td>\n",
       "      <td>40.000000</td>\n",
       "      <td>95.880000</td>\n",
       "      <td>41.000000</td>\n",
       "      <td>3.000000</td>\n",
       "      <td>16.000000</td>\n",
       "      <td>5.000000</td>\n",
       "      <td>1.000000</td>\n",
       "    </tr>\n",
       "  </tbody>\n",
       "</table>\n",
       "</div>"
      ],
      "text/plain": [
       "       Item Model    Quantity       Price  Coupon Code  Discount Amount  \\\n",
       "count  538.000000  538.000000  538.000000   509.000000       538.000000   \n",
       "mean    11.951673    1.005576   70.794870    20.829077        18.315911   \n",
       "std     10.259459    0.074535   26.200987    10.258675        12.007004   \n",
       "min      1.000000    1.000000   25.330000     1.000000         0.000000   \n",
       "25%      3.000000    1.000000   53.025000    13.000000        12.252500   \n",
       "50%     10.000000    1.000000   64.750000    22.000000        16.000000   \n",
       "75%     18.000000    1.000000   77.160000    30.000000        20.000000   \n",
       "max     51.000000    2.000000  206.670000    40.000000        95.880000   \n",
       "\n",
       "       Ship Country      Season       Color  star_rating     message  \n",
       "count    538.000000  538.000000  538.000000   538.000000  538.000000  \n",
       "mean       2.827138    1.570632    2.698885     4.657993    0.723048  \n",
       "std        5.167389    1.069134    3.754877     0.900104    0.447909  \n",
       "min        1.000000    0.000000    0.000000     1.000000    0.000000  \n",
       "25%        1.000000    1.000000    0.000000     5.000000    0.000000  \n",
       "50%        1.000000    2.000000    1.000000     5.000000    1.000000  \n",
       "75%        1.000000    2.000000    5.000000     5.000000    1.000000  \n",
       "max       41.000000    3.000000   16.000000     5.000000    1.000000  "
      ]
     },
     "execution_count": 2303,
     "metadata": {},
     "output_type": "execute_result"
    }
   ],
   "source": [
    "etsy.describe()"
   ]
  },
  {
   "cell_type": "code",
   "execution_count": 2304,
   "id": "d01ae209",
   "metadata": {},
   "outputs": [],
   "source": [
    "etsy.to_csv(\"EtsySoldOrderItemsAndReviews2020-2021-2022.csv\", index=False)"
   ]
  }
 ],
 "metadata": {
  "kernelspec": {
   "display_name": "Python 3 (ipykernel)",
   "language": "python",
   "name": "python3"
  },
  "language_info": {
   "codemirror_mode": {
    "name": "ipython",
    "version": 3
   },
   "file_extension": ".py",
   "mimetype": "text/x-python",
   "name": "python",
   "nbconvert_exporter": "python",
   "pygments_lexer": "ipython3",
   "version": "3.9.12"
  }
 },
 "nbformat": 4,
 "nbformat_minor": 5
}
